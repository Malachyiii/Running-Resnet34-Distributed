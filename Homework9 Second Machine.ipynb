{
 "cells": [
  {
   "cell_type": "code",
   "execution_count": 1,
   "id": "09bed933",
   "metadata": {
    "execution": {
     "iopub.execute_input": "2021-09-26T23:51:23.992916Z",
     "iopub.status.busy": "2021-09-26T23:51:23.992482Z",
     "iopub.status.idle": "2021-09-26T23:51:24.711341Z",
     "shell.execute_reply": "2021-09-26T23:51:24.710865Z"
    },
    "papermill": {
     "duration": 0.734706,
     "end_time": "2021-09-26T23:51:24.711451",
     "exception": false,
     "start_time": "2021-09-26T23:51:23.976745",
     "status": "completed"
    },
    "tags": []
   },
   "outputs": [],
   "source": [
    "import os\n",
    "import random\n",
    "import shutil\n",
    "import time\n",
    "import warnings\n",
    "\n",
    "import torch\n",
    "import torch.nn as nn\n",
    "import torch.backends.cudnn as cudnn\n",
    "import torch.optim\n",
    "import torch.cuda.amp as amp\n",
    "\n",
    "import torch.utils.data\n",
    "import torchvision\n",
    "import torchvision.transforms as transforms\n",
    "import torchvision.datasets as datasets\n",
    "import torchvision.models as models\n",
    "\n",
    "#importing distributed and weights and biases\n",
    "import torch.distributed as dist\n",
    "import wandb"
   ]
  },
  {
   "cell_type": "code",
   "execution_count": 2,
   "id": "254e8952",
   "metadata": {
    "execution": {
     "iopub.execute_input": "2021-09-26T23:51:24.731041Z",
     "iopub.status.busy": "2021-09-26T23:51:24.730649Z",
     "iopub.status.idle": "2021-09-26T23:51:24.732085Z",
     "shell.execute_reply": "2021-09-26T23:51:24.732389Z"
    },
    "papermill": {
     "duration": 0.012198,
     "end_time": "2021-09-26T23:51:24.732488",
     "exception": false,
     "start_time": "2021-09-26T23:51:24.720290",
     "status": "completed"
    },
    "tags": []
   },
   "outputs": [
    {
     "name": "stderr",
     "output_type": "stream",
     "text": [
      "\u001b[34m\u001b[1mwandb\u001b[0m: Currently logged in as: \u001b[33mmalachyiii\u001b[0m (use `wandb login --relogin` to force relogin)\n",
      "\n",
      "CondaEnvException: Unable to determine environment\n",
      "\n",
      "Please re-run this command with one of the following options:\n",
      "\n",
      "* Provide an environment name via --name or -n\n",
      "* Re-run this command inside an activated conda environment.\n",
      "\n"
     ]
    },
    {
     "data": {
      "text/html": [
       "\n",
       "                    Syncing run <strong><a href=\"https://wandb.ai/malachyiii/Homework9-take2/runs/2ncwwgtp\" target=\"_blank\">avid-smoke-2</a></strong> to <a href=\"https://wandb.ai/malachyiii/Homework9-take2\" target=\"_blank\">Weights & Biases</a> (<a href=\"https://docs.wandb.com/integrations/jupyter.html\" target=\"_blank\">docs</a>).<br/>\n",
       "\n",
       "                "
      ],
      "text/plain": [
       "<IPython.core.display.HTML object>"
      ]
     },
     "metadata": {},
     "output_type": "display_data"
    },
    {
     "data": {
      "text/html": [
       "<button onClick=\"this.nextSibling.style.display='block';this.style.display='none';\">Display W&B run</button><iframe src=\"https://wandb.ai/malachyiii/Homework9-take2/runs/2ncwwgtp?jupyter=true\" style=\"border:none;width:100%;height:420px;display:none;\"></iframe>"
      ],
      "text/plain": [
       "<wandb.sdk.wandb_run.Run at 0x7f1fb9522520>"
      ]
     },
     "execution_count": 2,
     "metadata": {},
     "output_type": "execute_result"
    }
   ],
   "source": [
<<<<<<< HEAD
    "wandb.init(project='Homework9-take2', entity='malachyiii')"
=======
    "wandb.init(project='Homework9-take3', entity='malachyiii')"
>>>>>>> c3624e066ea48997e59209f871ef8a517d501957
   ]
  },
  {
   "cell_type": "code",
   "execution_count": 3,
   "id": "0a4f2573",
   "metadata": {
    "execution": {
     "iopub.execute_input": "2021-09-26T23:51:24.784657Z",
     "iopub.status.busy": "2021-09-26T23:51:24.783667Z",
     "iopub.status.idle": "2021-09-26T23:51:24.786867Z",
     "shell.execute_reply": "2021-09-26T23:51:24.787174Z"
    },
    "papermill": {
     "duration": 0.046689,
     "end_time": "2021-09-26T23:51:24.787280",
     "exception": false,
     "start_time": "2021-09-26T23:51:24.740591",
     "status": "completed"
    },
    "tags": []
   },
   "outputs": [
    {
     "name": "stdout",
     "output_type": "stream",
     "text": [
      "True\n",
      "0\n",
      "1\n",
      "Tesla T4\n"
     ]
    }
   ],
   "source": [
    "print(torch.cuda.is_available())\n",
    "print(torch.cuda.current_device())\n",
    "torch.cuda.device(0)\n",
    "print(torch.cuda.device_count())\n",
    "print(torch.cuda.get_device_name(0))\n",
    "torch.cuda.empty_cache()"
   ]
  },
  {
   "cell_type": "code",
   "execution_count": 4,
   "id": "5ae9bbf2",
   "metadata": {
    "execution": {
     "iopub.execute_input": "2021-09-26T23:51:24.807150Z",
     "iopub.status.busy": "2021-09-26T23:51:24.806761Z",
     "iopub.status.idle": "2021-09-26T23:51:24.808224Z",
     "shell.execute_reply": "2021-09-26T23:51:24.808524Z"
    },
    "papermill": {
     "duration": 0.012805,
     "end_time": "2021-09-26T23:51:24.808617",
     "exception": false,
     "start_time": "2021-09-26T23:51:24.795812",
     "status": "completed"
    },
    "tags": []
   },
   "outputs": [],
   "source": [
    "SEED=1\n",
    "random.seed(SEED)\n",
    "torch.manual_seed(SEED)\n",
    "cudnn.deterministic = True"
   ]
  },
  {
   "cell_type": "code",
   "execution_count": 5,
   "id": "6a33b256",
   "metadata": {
    "execution": {
     "iopub.execute_input": "2021-09-26T23:51:24.829366Z",
     "iopub.status.busy": "2021-09-26T23:51:24.828937Z",
     "iopub.status.idle": "2021-09-26T23:51:25.205763Z",
     "shell.execute_reply": "2021-09-26T23:51:25.205255Z"
    },
    "papermill": {
     "duration": 0.388784,
     "end_time": "2021-09-26T23:51:25.205889",
     "exception": false,
     "start_time": "2021-09-26T23:51:24.817105",
     "status": "completed"
    },
    "tags": [
     "parameters"
    ]
   },
   "outputs": [],
   "source": [
    "#Trying resnet34 because it is fast\n",
    "ARCH = torchvision.models.resnet34(pretrained=False)\n",
    "START_EPOCH = 0\n",
    "EPOCHS = 1\n",
    "\n",
    "#The following parameters based on the paper at https://arxiv.org/pdf/1512.03385.pdf\n",
    "TRAIN_BATCH=256\n",
    "VAL_BATCH=256\n",
    "MOMENTUM = 0.9\n",
    "WEIGHT_DECAY = 1e-4\n",
    "LR = 0.01\n",
    "IMG_SIZE = 224\n",
    "\n",
    "#Logging wandb config\n",
    "\n",
    "wandb.config = {\n",
    "  \"learning_rate\": LR,\n",
    "  \"epochs\": EPOCHS,\n",
    "  \"batch_size\": TRAIN_BATCH,\n",
    "  \"momentum\": MOMENTUM,\n",
    "  \"weight_decay\": WEIGHT_DECAY,\n",
    "  \"image_size\": IMG_SIZE\n",
    "}\n",
    "\n",
    "PRINT_FREQ = 50\n",
    "WORKERS=2\n",
    "\n",
    "TRAINDIR=\"/data/train\"\n",
    "VALDIR=\"/data/val\""
   ]
  },
  {
   "cell_type": "code",
   "execution_count": 6,
   "id": "7428b644",
   "metadata": {
    "execution": {
     "iopub.execute_input": "2021-09-26T23:51:25.235506Z",
     "iopub.status.busy": "2021-09-26T23:51:25.235100Z",
     "iopub.status.idle": "2021-09-26T23:51:25.236792Z",
     "shell.execute_reply": "2021-09-26T23:51:25.237104Z"
    },
    "papermill": {
     "duration": 0.017792,
     "end_time": "2021-09-26T23:51:25.237210",
     "exception": false,
     "start_time": "2021-09-26T23:51:25.219418",
     "status": "completed"
    },
    "tags": []
   },
   "outputs": [],
   "source": [
    "GPU = torch.cuda.current_device()\n",
    "torch.cuda.device(GPU)\n",
    "cudnn.benchmark = True"
   ]
  },
  {
   "cell_type": "code",
   "execution_count": 7,
   "id": "76f40393",
   "metadata": {},
   "outputs": [],
   "source": [
    "if not torch.cuda.is_available():\n",
    "    print('GPU not detected.. did you pass through your GPU?')"
   ]
  },
  {
   "cell_type": "code",
   "execution_count": 8,
   "id": "fbee1d16",
   "metadata": {},
   "outputs": [],
   "source": [
    "#Setting up the cluster and the world\n",
    "WORLD_SIZE = 2\n",
    "BACKEND = 'nccl'\n",
    "URL = 'tcp://35.163.183.149:5000'\n",
    "RANK = 1\n",
    "\n",
    "dist.init_process_group(backend = BACKEND, init_method= URL,\n",
    "                                world_size= WORLD_SIZE, rank=RANK)"
   ]
  },
  {
   "cell_type": "code",
   "execution_count": 9,
   "id": "522edd2b",
   "metadata": {
    "execution": {
     "iopub.execute_input": "2021-09-26T23:51:25.257684Z",
     "iopub.status.busy": "2021-09-26T23:51:25.257292Z",
     "iopub.status.idle": "2021-09-26T23:51:25.259040Z",
     "shell.execute_reply": "2021-09-26T23:51:25.259385Z"
    },
    "papermill": {
     "duration": 0.013564,
     "end_time": "2021-09-26T23:51:25.259490",
     "exception": false,
     "start_time": "2021-09-26T23:51:25.245926",
     "status": "completed"
    },
    "tags": []
   },
   "outputs": [],
   "source": [
    "imagenet_mean_RGB = [0.47889522, 0.47227842, 0.43047404]\n",
    "imagenet_std_RGB = [0.229, 0.224, 0.225]"
   ]
  },
  {
   "cell_type": "code",
   "execution_count": 10,
   "id": "020a97b3",
   "metadata": {
    "execution": {
     "iopub.execute_input": "2021-09-26T23:51:25.281512Z",
     "iopub.status.busy": "2021-09-26T23:51:25.281109Z",
     "iopub.status.idle": "2021-09-26T23:51:29.544601Z",
     "shell.execute_reply": "2021-09-26T23:51:29.544198Z"
    },
    "papermill": {
     "duration": 4.276669,
     "end_time": "2021-09-26T23:51:29.544704",
     "exception": false,
     "start_time": "2021-09-26T23:51:25.268035",
     "status": "completed"
    },
    "tags": []
   },
   "outputs": [],
   "source": [
    "transform_train = transforms.Compose([\n",
    "    transforms.Resize((IMG_SIZE, IMG_SIZE)),\n",
    "    # transformations based on https://arxiv.org/pdf/1512.03385.pdf\n",
    "    transforms.RandomHorizontalFlip(),\n",
    "    transforms.ToTensor(),\n",
    "    transforms.Normalize(imagenet_mean_RGB, imagenet_std_RGB),\n",
    "])\n",
    "\n",
    "transform_val = transforms.Compose([\n",
    "    transforms.Resize((IMG_SIZE, IMG_SIZE)),\n",
    "    transforms.ToTensor(),\n",
    "    transforms.Normalize(imagenet_mean_RGB, imagenet_std_RGB),\n",
    "])\n",
    "\n",
    "train_dataset = torchvision.datasets.ImageFolder('/data/train', transform=transform_train)\n",
    "val_dataset = torchvision.datasets.ImageFolder('/data/val', transform=transform_val)"
   ]
  },
  {
   "cell_type": "code",
   "execution_count": 11,
   "id": "99379404",
   "metadata": {
    "execution": {
     "iopub.execute_input": "2021-09-26T23:51:29.568058Z",
     "iopub.status.busy": "2021-09-26T23:51:29.567635Z",
     "iopub.status.idle": "2021-09-26T23:51:29.569155Z",
     "shell.execute_reply": "2021-09-26T23:51:29.569510Z"
    },
    "papermill": {
     "duration": 0.015759,
     "end_time": "2021-09-26T23:51:29.569628",
     "exception": false,
     "start_time": "2021-09-26T23:51:29.553869",
     "status": "completed"
    },
    "tags": []
   },
   "outputs": [],
   "source": [
    "#Setting up the train loader with a distributed Sampler\n",
    "train_loader = torch.utils.data.DataLoader(train_dataset, batch_size=TRAIN_BATCH, \n",
    "                              shuffle=False, num_workers=WORKERS, pin_memory=True, \n",
    "                                           sampler=torch.utils.data.distributed.DistributedSampler(train_dataset))\n",
    "val_loader = torch.utils.data.DataLoader(val_dataset, batch_size=VAL_BATCH, \n",
    "                              shuffle=False, num_workers=WORKERS, sampler=None)"
   ]
  },
  {
   "cell_type": "code",
   "execution_count": 12,
   "id": "12b592dd",
   "metadata": {
    "execution": {
     "iopub.execute_input": "2021-09-26T23:51:29.595359Z",
     "iopub.status.busy": "2021-09-26T23:51:29.594912Z",
     "iopub.status.idle": "2021-09-26T23:51:29.596423Z",
     "shell.execute_reply": "2021-09-26T23:51:29.596740Z"
    },
    "papermill": {
     "duration": 0.018274,
     "end_time": "2021-09-26T23:51:29.596860",
     "exception": false,
     "start_time": "2021-09-26T23:51:29.578586",
     "status": "completed"
    },
    "tags": []
   },
   "outputs": [],
   "source": [
    "def train(train_loader, model, criterion, optimizer, epoch):\n",
    "    batch_time = AverageMeter('Time', ':6.3f')\n",
    "    data_time = AverageMeter('Data', ':6.3f')\n",
    "    losses = AverageMeter('Loss', ':.4e')\n",
    "    top1 = AverageMeter('Acc@1', ':6.2f')\n",
    "    top5 = AverageMeter('Acc@5', ':6.2f')\n",
    "    progress = ProgressMeter(\n",
    "        len(train_loader),\n",
    "        [batch_time, data_time, losses, top1, top5],\n",
    "        prefix=\"Epoch: [{}]\".format(epoch))\n",
    "    \n",
    "    ######################\n",
    "    # switch model to train mode here\n",
    "    model.train()\n",
    "    ################\n",
    "\n",
    "    end = time.time()\n",
    "    for i, (images, target) in enumerate(train_loader):\n",
    "        # measure data loading time\n",
    "        data_time.update(time.time() - end)\n",
    "\n",
    "        #####################\n",
    "        # send the images to cuda device\n",
    "        if GPU is not None:\n",
    "            images, target = images.cuda(GPU, non_blocking = True), target.cuda(GPU, non_blocking = True)\n",
    "        # send the target to cuda device\n",
    "\n",
    "        \n",
    "        ####Utilizing PyTorch native AMP####\n",
    "        with amp.autocast():\n",
    "            # compute output\n",
    "            output = model(images)\n",
    "            # compute loss \n",
    "            loss = criterion(output, target)\n",
    "        \n",
    "        \n",
    "        # measure accuracy and record loss\n",
    "        acc1, acc5 = accuracy(output, target, topk=(1, 5))\n",
    "        losses.update(loss.item(), images.size(0))\n",
    "        top1.update(acc1[0], images.size(0))\n",
    "        top5.update(acc5[0], images.size(0))\n",
    "        \n",
    "        #Logging the metrics\n",
    "        wandb.log({\"loss\": loss,\n",
    "                   \"acc1\": acc1,\n",
    "                   \"acc5\": acc5})\n",
    "        \n",
    "        wandb.watch(model)\n",
    "\n",
    "        # compute gradient and do SGD step\n",
    "        \n",
    "        #### zero out gradients in the optimier\n",
    "        optimizer.zero_grad()\n",
    "        \n",
    "        ## backprop!\n",
    "        scaler.scale(loss).backward()\n",
    "        \n",
    "        # update the weights!\n",
    "        scaler.step(optimizer)\n",
    "        scaler.update()\n",
    "\n",
    "        # measure elapsed time\n",
    "        batch_time.update(time.time() - end)\n",
    "        end = time.time()\n",
    "\n",
    "        if i % PRINT_FREQ == 0:\n",
    "            progress.display(i)"
   ]
  },
  {
   "cell_type": "code",
   "execution_count": 13,
   "id": "e38cd4e9",
   "metadata": {
    "execution": {
     "iopub.execute_input": "2021-09-26T23:51:29.622305Z",
     "iopub.status.busy": "2021-09-26T23:51:29.621825Z",
     "iopub.status.idle": "2021-09-26T23:51:29.623373Z",
     "shell.execute_reply": "2021-09-26T23:51:29.623689Z"
    },
    "papermill": {
     "duration": 0.017827,
     "end_time": "2021-09-26T23:51:29.623804",
     "exception": false,
     "start_time": "2021-09-26T23:51:29.605977",
     "status": "completed"
    },
    "tags": []
   },
   "outputs": [],
   "source": [
    "def validate(val_loader, model, criterion):\n",
    "    batch_time = AverageMeter('Time', ':6.3f')\n",
    "    losses = AverageMeter('Loss', ':.4e')\n",
    "    top1 = AverageMeter('Acc@1', ':6.2f')\n",
    "    top5 = AverageMeter('Acc@5', ':6.2f')\n",
    "    progress = ProgressMeter(\n",
    "        len(val_loader),\n",
    "        [batch_time, losses, top1, top5],\n",
    "        prefix='Test: ')\n",
    "\n",
    "    # switch to evaluate mode\n",
    "    model.eval()\n",
    "\n",
    "    with torch.no_grad():\n",
    "        end = time.time()\n",
    "        for i, (images, target) in enumerate(val_loader):\n",
    "            \n",
    "            \n",
    "            ### send the images and target to cuda\n",
    "            images, target = images.to(GPU), target.to(GPU)\n",
    "\n",
    "            # compute output\n",
    "            output = model(images)\n",
    "\n",
    "            # compute loss\n",
    "            loss = criterion(output, target)\n",
    "\n",
    "\n",
    "            # measure accuracy and record loss\n",
    "            acc1, acc5 = accuracy(output, target, topk=(1, 5))\n",
    "            losses.update(loss.item(), images.size(0))\n",
    "            top1.update(acc1[0], images.size(0))\n",
    "            top5.update(acc5[0], images.size(0))\n",
    "\n",
    "            # measure elapsed time\n",
    "            batch_time.update(time.time() - end)\n",
    "            end = time.time()\n",
    "\n",
    "            if i % PRINT_FREQ == 0:\n",
    "                progress.display(i)\n",
    "\n",
    "        # TODO: this should also be done with the ProgressMeter\n",
    "        print(' * Acc@1 {top1.avg:.3f} Acc@5 {top5.avg:.3f}'\n",
    "              .format(top1=top1, top5=top5))\n",
    "\n",
    "    return top1.avg"
   ]
  },
  {
   "cell_type": "code",
   "execution_count": 14,
   "id": "a124a243",
   "metadata": {
    "execution": {
     "iopub.execute_input": "2021-09-26T23:51:29.645927Z",
     "iopub.status.busy": "2021-09-26T23:51:29.645482Z",
     "iopub.status.idle": "2021-09-26T23:51:29.647071Z",
     "shell.execute_reply": "2021-09-26T23:51:29.647387Z"
    },
    "papermill": {
     "duration": 0.014486,
     "end_time": "2021-09-26T23:51:29.647501",
     "exception": false,
     "start_time": "2021-09-26T23:51:29.633015",
     "status": "completed"
    },
    "tags": []
   },
   "outputs": [],
   "source": [
    "def save_checkpoint(state, is_best, filename='checkpoint.pth.tar'):\n",
    "    # save the model state!\n",
    "    torch.save(state, filename) \n",
    "    if is_best:\n",
    "        shutil.copyfile(filename, 'model_best.pth.tar')"
   ]
  },
  {
   "cell_type": "code",
   "execution_count": 15,
   "id": "db50ae08",
   "metadata": {
    "execution": {
     "iopub.execute_input": "2021-09-26T23:51:29.671901Z",
     "iopub.status.busy": "2021-09-26T23:51:29.671465Z",
     "iopub.status.idle": "2021-09-26T23:51:29.673060Z",
     "shell.execute_reply": "2021-09-26T23:51:29.673381Z"
    },
    "papermill": {
     "duration": 0.016548,
     "end_time": "2021-09-26T23:51:29.673499",
     "exception": false,
     "start_time": "2021-09-26T23:51:29.656951",
     "status": "completed"
    },
    "tags": []
   },
   "outputs": [],
   "source": [
    "class AverageMeter(object):\n",
    "    \"\"\"Computes and stores the average and current value\"\"\"\n",
    "    def __init__(self, name, fmt=':f'):\n",
    "        self.name = name\n",
    "        self.fmt = fmt\n",
    "        self.reset()\n",
    "\n",
    "    def reset(self):\n",
    "        self.val = 0\n",
    "        self.avg = 0\n",
    "        self.sum = 0\n",
    "        self.count = 0\n",
    "\n",
    "    def update(self, val, n=1):\n",
    "        self.val = val\n",
    "        self.sum += val * n\n",
    "        self.count += n\n",
    "        self.avg = self.sum / self.count\n",
    "\n",
    "    def __str__(self):\n",
    "        fmtstr = '{name} {val' + self.fmt + '} ({avg' + self.fmt + '})'\n",
    "        return fmtstr.format(**self.__dict__)"
   ]
  },
  {
   "cell_type": "code",
   "execution_count": 16,
   "id": "75a6880f",
   "metadata": {
    "execution": {
     "iopub.execute_input": "2021-09-26T23:51:29.697562Z",
     "iopub.status.busy": "2021-09-26T23:51:29.697129Z",
     "iopub.status.idle": "2021-09-26T23:51:29.698791Z",
     "shell.execute_reply": "2021-09-26T23:51:29.699112Z"
    },
    "papermill": {
     "duration": 0.016396,
     "end_time": "2021-09-26T23:51:29.699241",
     "exception": false,
     "start_time": "2021-09-26T23:51:29.682845",
     "status": "completed"
    },
    "tags": []
   },
   "outputs": [],
   "source": [
    "class ProgressMeter(object):\n",
    "    def __init__(self, num_batches, meters, prefix=\"\"):\n",
    "        self.batch_fmtstr = self._get_batch_fmtstr(num_batches)\n",
    "        self.meters = meters\n",
    "        self.prefix = prefix\n",
    "\n",
    "    def display(self, batch):\n",
    "        entries = [self.prefix + self.batch_fmtstr.format(batch)]\n",
    "        entries += [str(meter) for meter in self.meters]\n",
    "        print('\\t'.join(entries))\n",
    "\n",
    "    def _get_batch_fmtstr(self, num_batches):\n",
    "        num_digits = len(str(num_batches // 1))\n",
    "        fmt = '{:' + str(num_digits) + 'd}'\n",
    "        return '[' + fmt + '/' + fmt.format(num_batches) + ']'"
   ]
  },
  {
   "cell_type": "code",
   "execution_count": 17,
   "id": "e5f58d0f",
   "metadata": {
    "execution": {
     "iopub.execute_input": "2021-09-26T23:51:29.723330Z",
     "iopub.status.busy": "2021-09-26T23:51:29.722902Z",
     "iopub.status.idle": "2021-09-26T23:51:29.724398Z",
     "shell.execute_reply": "2021-09-26T23:51:29.724712Z"
    },
    "papermill": {
     "duration": 0.016121,
     "end_time": "2021-09-26T23:51:29.724825",
     "exception": false,
     "start_time": "2021-09-26T23:51:29.708704",
     "status": "completed"
    },
    "tags": []
   },
   "outputs": [],
   "source": [
    "def accuracy(output, target, topk=(1,)):\n",
    "    \"\"\"Computes the accuracy over the k top predictions for the specified values of k\"\"\"\n",
    "    with torch.no_grad():\n",
    "        maxk = max(topk)\n",
    "        batch_size = target.size(0)\n",
    "\n",
    "        _, pred = output.topk(maxk, 1, True, True)\n",
    "        pred = pred.t()\n",
    "        correct = pred.eq(target.view(1, -1).expand_as(pred))\n",
    "\n",
    "        res = []\n",
    "        for k in topk:\n",
    "            correct_k = correct[:k].reshape(-1).float().sum(0, keepdim=True)\n",
    "            res.append(correct_k.mul_(100.0 / batch_size))\n",
    "        return res"
   ]
  },
  {
   "cell_type": "code",
   "execution_count": 18,
   "id": "8c9116a6",
   "metadata": {
    "execution": {
     "iopub.execute_input": "2021-09-26T23:51:29.747242Z",
     "iopub.status.busy": "2021-09-26T23:51:29.746829Z",
     "iopub.status.idle": "2021-09-26T23:51:29.748413Z",
     "shell.execute_reply": "2021-09-26T23:51:29.748732Z"
    },
    "papermill": {
     "duration": 0.014656,
     "end_time": "2021-09-26T23:51:29.748845",
     "exception": false,
     "start_time": "2021-09-26T23:51:29.734189",
     "status": "completed"
    },
    "tags": []
   },
   "outputs": [],
   "source": [
    "def adjust_learning_rate(optimizer, epoch):\n",
    "    \"\"\"Sets the learning rate to the initial LR decayed by 10 every 1/3 of the epochs\"\"\"\n",
    "    lr = LR * (0.1 ** (epoch // int(round(EPOCHS/3, 0))))\n",
    "    for param_group in optimizer.param_groups:\n",
    "        param_group['lr'] = lr"
   ]
  },
  {
   "cell_type": "code",
   "execution_count": 19,
   "id": "41ab07c9",
   "metadata": {
    "execution": {
     "iopub.execute_input": "2021-09-26T23:51:29.771527Z",
     "iopub.status.busy": "2021-09-26T23:51:29.771102Z",
     "iopub.status.idle": "2021-09-26T23:51:29.772634Z",
     "shell.execute_reply": "2021-09-26T23:51:29.772952Z"
    },
    "papermill": {
     "duration": 0.014647,
     "end_time": "2021-09-26T23:51:29.773067",
     "exception": false,
     "start_time": "2021-09-26T23:51:29.758420",
     "status": "completed"
    },
    "tags": []
   },
   "outputs": [],
   "source": [
    "normalize = transforms.Normalize(mean=imagenet_mean_RGB, std=imagenet_std_RGB)"
   ]
  },
  {
   "cell_type": "code",
   "execution_count": 20,
   "id": "aef2293c",
   "metadata": {
    "execution": {
     "iopub.execute_input": "2021-09-26T23:51:29.794889Z",
     "iopub.status.busy": "2021-09-26T23:51:29.794495Z",
     "iopub.status.idle": "2021-09-26T23:51:32.161284Z",
     "shell.execute_reply": "2021-09-26T23:51:32.161607Z"
    },
    "papermill": {
     "duration": 2.379175,
     "end_time": "2021-09-26T23:51:32.161729",
     "exception": false,
     "start_time": "2021-09-26T23:51:29.782554",
     "status": "completed"
    },
    "scrolled": false,
    "tags": []
   },
   "outputs": [],
   "source": [
    "model = ARCH\n",
    "model.cuda(GPU)\n",
    "model = torch.nn.parallel.DistributedDataParallel(model, device_ids=[GPU])"
   ]
  },
  {
   "cell_type": "code",
   "execution_count": 21,
   "id": "da2c1fa5",
   "metadata": {
    "execution": {
     "iopub.execute_input": "2021-09-26T23:51:32.185880Z",
     "iopub.status.busy": "2021-09-26T23:51:32.185463Z",
     "iopub.status.idle": "2021-09-26T23:51:32.187018Z",
     "shell.execute_reply": "2021-09-26T23:51:32.187328Z"
    },
    "papermill": {
     "duration": 0.015707,
     "end_time": "2021-09-26T23:51:32.187436",
     "exception": false,
     "start_time": "2021-09-26T23:51:32.171729",
     "status": "completed"
    },
    "tags": []
   },
   "outputs": [],
   "source": [
    "criterion = nn.CrossEntropyLoss().cuda(GPU)\n",
    "optimizer = torch.optim.SGD(params = model.parameters(), lr=LR, momentum=MOMENTUM, weight_decay=WEIGHT_DECAY)\n",
    "#Based on the same paper, https://arxiv.org/pdf/1512.03385.pdf\n",
    "scheduler = torch.optim.lr_scheduler.MultiStepLR(optimizer, milestones=[2])\n",
    "scaler = amp.GradScaler()"
   ]
  },
  {
   "cell_type": "code",
   "execution_count": 22,
   "id": "d4142804",
   "metadata": {
    "execution": {
     "iopub.execute_input": "2021-09-26T23:51:32.209842Z",
     "iopub.status.busy": "2021-09-26T23:51:32.209429Z",
     "iopub.status.idle": "2021-09-26T23:51:32.211000Z",
     "shell.execute_reply": "2021-09-26T23:51:32.211313Z"
    },
    "papermill": {
     "duration": 0.014078,
     "end_time": "2021-09-26T23:51:32.211414",
     "exception": false,
     "start_time": "2021-09-26T23:51:32.197336",
     "status": "completed"
    },
    "tags": []
   },
   "outputs": [],
   "source": [
    "best_acc1 = 0"
   ]
  },
  {
   "cell_type": "code",
   "execution_count": null,
   "id": "21ddbb55",
   "metadata": {
    "execution": {
     "iopub.execute_input": "2021-09-26T23:51:32.236106Z",
     "iopub.status.busy": "2021-09-26T23:51:32.235682Z",
     "iopub.status.idle": "2021-09-27T05:32:17.807945Z",
     "shell.execute_reply": "2021-09-27T05:32:17.808297Z"
    },
    "papermill": {
     "duration": 20445.587005,
     "end_time": "2021-09-27T05:32:17.808426",
     "exception": false,
     "start_time": "2021-09-26T23:51:32.221421",
     "status": "completed"
    },
    "tags": []
   },
   "outputs": [
    {
     "name": "stdout",
     "output_type": "stream",
     "text": [
      "Epoch: [0][   0/2503]\tTime 13.122 (13.122)\tData  2.311 ( 2.311)\tLoss 7.0629e+00 (7.0629e+00)\tAcc@1   0.00 (  0.00)\tAcc@5   1.17 (  1.17)\n",
      "Epoch: [0][  50/2503]\tTime  1.312 ( 1.220)\tData  0.572 ( 0.440)\tLoss 6.9042e+00 (6.9521e+00)\tAcc@1   0.39 (  0.15)\tAcc@5   1.17 (  0.68)\n",
      "Epoch: [0][ 100/2503]\tTime  1.432 ( 1.137)\tData  0.523 ( 0.438)\tLoss 6.8957e+00 (6.9120e+00)\tAcc@1   0.00 (  0.18)\tAcc@5   0.00 (  0.82)\n",
      "Epoch: [0][ 150/2503]\tTime  1.464 ( 1.104)\tData  0.853 ( 0.450)\tLoss 6.7762e+00 (6.8758e+00)\tAcc@1   0.39 (  0.23)\tAcc@5   2.34 (  1.05)\n",
      "Epoch: [0][ 200/2503]\tTime  1.491 ( 1.082)\tData  0.966 ( 0.455)\tLoss 6.7043e+00 (6.8398e+00)\tAcc@1   0.39 (  0.32)\tAcc@5   1.56 (  1.35)\n",
      "Epoch: [0][ 250/2503]\tTime  0.936 ( 1.073)\tData  0.340 ( 0.449)\tLoss 6.5989e+00 (6.7921e+00)\tAcc@1   0.00 (  0.42)\tAcc@5   1.56 (  1.67)\n",
      "Epoch: [0][ 300/2503]\tTime  0.986 ( 1.077)\tData  0.000 ( 0.426)\tLoss 6.4721e+00 (6.7414e+00)\tAcc@1   0.39 (  0.50)\tAcc@5   3.52 (  2.00)\n",
      "Epoch: [0][ 350/2503]\tTime  0.979 ( 1.077)\tData  0.000 ( 0.404)\tLoss 6.4464e+00 (6.6900e+00)\tAcc@1   0.39 (  0.60)\tAcc@5   2.73 (  2.34)\n",
      "Epoch: [0][ 400/2503]\tTime  0.936 ( 1.077)\tData  0.000 ( 0.392)\tLoss 6.0390e+00 (6.6365e+00)\tAcc@1   2.73 (  0.68)\tAcc@5   8.98 (  2.66)\n",
      "Epoch: [0][ 450/2503]\tTime  1.505 ( 1.073)\tData  0.953 ( 0.388)\tLoss 6.2054e+00 (6.5872e+00)\tAcc@1   1.56 (  0.79)\tAcc@5   4.69 (  3.01)\n",
      "Epoch: [0][ 500/2503]\tTime  1.349 ( 1.068)\tData  0.361 ( 0.390)\tLoss 6.1336e+00 (6.5376e+00)\tAcc@1   1.17 (  0.91)\tAcc@5   5.47 (  3.42)\n",
      "Epoch: [0][ 550/2503]\tTime  1.183 ( 1.067)\tData  0.187 ( 0.385)\tLoss 6.0744e+00 (6.4900e+00)\tAcc@1   2.34 (  1.04)\tAcc@5   8.20 (  3.86)\n",
      "Epoch: [0][ 600/2503]\tTime  1.336 ( 1.066)\tData  0.557 ( 0.380)\tLoss 5.8102e+00 (6.4442e+00)\tAcc@1   3.91 (  1.18)\tAcc@5   9.77 (  4.28)\n",
      "Epoch: [0][ 650/2503]\tTime  1.021 ( 1.066)\tData  0.000 ( 0.374)\tLoss 5.7644e+00 (6.3985e+00)\tAcc@1   3.91 (  1.33)\tAcc@5  12.11 (  4.75)\n",
      "Epoch: [0][ 700/2503]\tTime  1.018 ( 1.067)\tData  0.000 ( 0.368)\tLoss 5.7927e+00 (6.3507e+00)\tAcc@1   3.91 (  1.51)\tAcc@5  12.89 (  5.23)\n",
      "Epoch: [0][ 750/2503]\tTime  1.209 ( 1.068)\tData  0.000 ( 0.359)\tLoss 5.5420e+00 (6.3067e+00)\tAcc@1   2.34 (  1.64)\tAcc@5  14.06 (  5.66)\n",
      "Epoch: [0][ 800/2503]\tTime  1.129 ( 1.069)\tData  0.000 ( 0.352)\tLoss 5.6841e+00 (6.2647e+00)\tAcc@1   3.12 (  1.80)\tAcc@5  10.55 (  6.09)\n",
      "Epoch: [0][ 850/2503]\tTime  1.192 ( 1.070)\tData  0.000 ( 0.347)\tLoss 5.4517e+00 (6.2214e+00)\tAcc@1   6.64 (  1.96)\tAcc@5  18.36 (  6.56)\n",
      "Epoch: [0][ 900/2503]\tTime  0.882 ( 1.070)\tData  0.000 ( 0.344)\tLoss 5.4248e+00 (6.1811e+00)\tAcc@1   5.08 (  2.12)\tAcc@5  15.23 (  7.02)\n",
      "Epoch: [0][ 950/2503]\tTime  1.229 ( 1.071)\tData  0.000 ( 0.339)\tLoss 5.4214e+00 (6.1403e+00)\tAcc@1   7.42 (  2.29)\tAcc@5  14.45 (  7.50)\n",
      "Epoch: [0][1000/2503]\tTime  1.251 ( 1.072)\tData  0.000 ( 0.334)\tLoss 5.3106e+00 (6.1012e+00)\tAcc@1   5.08 (  2.46)\tAcc@5  18.36 (  7.97)\n",
      "Epoch: [0][1050/2503]\tTime  1.427 ( 1.078)\tData  0.000 ( 0.327)\tLoss 5.4156e+00 (6.0626e+00)\tAcc@1   5.08 (  2.62)\tAcc@5  16.41 (  8.42)\n"
     ]
    },
    {
     "name": "stderr",
     "output_type": "stream",
     "text": [
      "wandb: ERROR Summary data exceeds maximum size of 10.4MB. Dropping it.\n"
     ]
    },
    {
     "name": "stdout",
     "output_type": "stream",
     "text": [
      "Epoch: [0][1100/2503]\tTime  1.389 ( 1.090)\tData  0.000 ( 0.323)\tLoss 5.2899e+00 (6.0240e+00)\tAcc@1   8.98 (  2.81)\tAcc@5  20.70 (  8.91)\n",
      "Epoch: [0][1150/2503]\tTime  0.814 ( 1.097)\tData  0.000 ( 0.323)\tLoss 5.2346e+00 (5.9876e+00)\tAcc@1   6.64 (  2.99)\tAcc@5  16.41 (  9.34)\n",
      "Epoch: [0][1200/2503]\tTime  0.847 ( 1.103)\tData  0.000 ( 0.323)\tLoss 4.9963e+00 (5.9515e+00)\tAcc@1   7.42 (  3.18)\tAcc@5  22.66 (  9.81)\n",
      "Epoch: [0][1250/2503]\tTime  0.803 ( 1.107)\tData  0.000 ( 0.325)\tLoss 5.1819e+00 (5.9162e+00)\tAcc@1   5.47 (  3.36)\tAcc@5  17.97 ( 10.28)\n",
      "Epoch: [0][1300/2503]\tTime  0.863 ( 1.112)\tData  0.000 ( 0.326)\tLoss 4.8728e+00 (5.8811e+00)\tAcc@1   8.59 (  3.55)\tAcc@5  22.66 ( 10.74)\n",
      "Epoch: [0][1350/2503]\tTime  1.308 ( 1.117)\tData  0.000 ( 0.327)\tLoss 5.0758e+00 (5.8483e+00)\tAcc@1   5.86 (  3.73)\tAcc@5  23.44 ( 11.18)\n",
      "Epoch: [0][1400/2503]\tTime  1.236 ( 1.123)\tData  0.000 ( 0.325)\tLoss 5.0373e+00 (5.8155e+00)\tAcc@1   7.81 (  3.91)\tAcc@5  21.48 ( 11.63)\n",
      "Epoch: [0][1450/2503]\tTime  0.873 ( 1.126)\tData  0.000 ( 0.326)\tLoss 4.7706e+00 (5.7835e+00)\tAcc@1  10.94 (  4.09)\tAcc@5  27.34 ( 12.06)\n",
      "Epoch: [0][1500/2503]\tTime  0.870 ( 1.130)\tData  0.000 ( 0.326)\tLoss 4.6677e+00 (5.7522e+00)\tAcc@1  12.89 (  4.28)\tAcc@5  32.03 ( 12.51)\n",
      "Epoch: [0][1550/2503]\tTime  0.811 ( 1.133)\tData  0.000 ( 0.327)\tLoss 4.7490e+00 (5.7211e+00)\tAcc@1  10.55 (  4.46)\tAcc@5  27.73 ( 12.96)\n",
      "Epoch: [0][1600/2503]\tTime  0.801 ( 1.136)\tData  0.000 ( 0.328)\tLoss 4.7805e+00 (5.6909e+00)\tAcc@1   8.98 (  4.66)\tAcc@5  30.47 ( 13.41)\n",
      "Epoch: [0][1650/2503]\tTime  0.864 ( 1.140)\tData  0.000 ( 0.329)\tLoss 4.6941e+00 (5.6626e+00)\tAcc@1   8.98 (  4.85)\tAcc@5  26.95 ( 13.83)\n",
      "Epoch: [0][1700/2503]\tTime  0.816 ( 1.142)\tData  0.000 ( 0.330)\tLoss 4.4942e+00 (5.6339e+00)\tAcc@1  13.67 (  5.04)\tAcc@5  33.20 ( 14.27)\n",
      "Epoch: [0][1750/2503]\tTime  0.853 ( 1.144)\tData  0.000 ( 0.330)\tLoss 4.8150e+00 (5.6062e+00)\tAcc@1   9.38 (  5.22)\tAcc@5  26.17 ( 14.66)\n",
      "Epoch: [0][1800/2503]\tTime  1.114 ( 1.147)\tData  0.000 ( 0.329)\tLoss 4.4070e+00 (5.5788e+00)\tAcc@1  17.19 (  5.41)\tAcc@5  35.94 ( 15.08)\n",
      "Epoch: [0][1850/2503]\tTime  1.449 ( 1.152)\tData  0.000 ( 0.326)\tLoss 4.5134e+00 (5.5522e+00)\tAcc@1  11.33 (  5.59)\tAcc@5  30.47 ( 15.49)\n",
      "Epoch: [0][1900/2503]\tTime  1.573 ( 1.158)\tData  0.000 ( 0.322)\tLoss 4.4784e+00 (5.5261e+00)\tAcc@1  13.67 (  5.76)\tAcc@5  32.03 ( 15.90)\n",
      "Epoch: [0][1950/2503]\tTime  1.572 ( 1.163)\tData  0.000 ( 0.319)\tLoss 4.5361e+00 (5.5003e+00)\tAcc@1  13.67 (  5.95)\tAcc@5  32.81 ( 16.30)\n",
      "Epoch: [0][2000/2503]\tTime  1.773 ( 1.168)\tData  0.000 ( 0.316)\tLoss 4.4545e+00 (5.4757e+00)\tAcc@1  13.67 (  6.12)\tAcc@5  36.33 ( 16.68)\n",
      "Epoch: [0][2050/2503]\tTime  1.493 ( 1.171)\tData  0.000 ( 0.309)\tLoss 4.2690e+00 (5.4503e+00)\tAcc@1  17.58 (  6.31)\tAcc@5  37.50 ( 17.09)\n",
      "Epoch: [0][2100/2503]\tTime  1.273 ( 1.175)\tData  0.000 ( 0.305)\tLoss 4.4258e+00 (5.4263e+00)\tAcc@1  11.72 (  6.49)\tAcc@5  32.81 ( 17.46)\n",
      "Epoch: [0][2150/2503]\tTime  1.381 ( 1.178)\tData  0.000 ( 0.301)\tLoss 4.6822e+00 (5.4021e+00)\tAcc@1  10.94 (  6.67)\tAcc@5  32.81 ( 17.85)\n",
      "Epoch: [0][2200/2503]\tTime  1.523 ( 1.182)\tData  0.000 ( 0.296)\tLoss 4.5454e+00 (5.3792e+00)\tAcc@1  14.84 (  6.86)\tAcc@5  30.47 ( 18.23)\n",
      "Epoch: [0][2250/2503]\tTime  1.620 ( 1.185)\tData  0.000 ( 0.292)\tLoss 4.4722e+00 (5.3562e+00)\tAcc@1  12.11 (  7.04)\tAcc@5  33.59 ( 18.61)\n",
      "Epoch: [0][2300/2503]\tTime  1.446 ( 1.189)\tData  0.000 ( 0.289)\tLoss 4.2488e+00 (5.3336e+00)\tAcc@1  14.45 (  7.22)\tAcc@5  39.45 ( 18.97)\n",
      "Epoch: [0][2350/2503]\tTime  1.270 ( 1.191)\tData  0.000 ( 0.284)\tLoss 4.1806e+00 (5.3108e+00)\tAcc@1  19.53 (  7.42)\tAcc@5  37.11 ( 19.35)\n",
      "Epoch: [0][2400/2503]\tTime  1.409 ( 1.194)\tData  0.000 ( 0.281)\tLoss 4.3309e+00 (5.2886e+00)\tAcc@1  16.02 (  7.59)\tAcc@5  35.94 ( 19.72)\n",
      "Epoch: [0][2450/2503]\tTime  1.586 ( 1.197)\tData  0.000 ( 0.277)\tLoss 4.1427e+00 (5.2669e+00)\tAcc@1  16.41 (  7.77)\tAcc@5  40.23 ( 20.08)\n",
      "Epoch: [0][2500/2503]\tTime  1.645 ( 1.199)\tData  0.000 ( 0.274)\tLoss 4.1010e+00 (5.2454e+00)\tAcc@1  20.31 (  7.96)\tAcc@5  41.80 ( 20.43)\n",
      "Test: [  0/196]\tTime  4.091 ( 4.091)\tLoss 3.3728e+00 (3.3728e+00)\tAcc@1  25.00 ( 25.00)\tAcc@5  62.11 ( 62.11)\n",
      "Test: [ 50/196]\tTime  1.068 ( 1.175)\tLoss 4.3885e+00 (4.5006e+00)\tAcc@1  11.33 ( 12.81)\tAcc@5  36.33 ( 32.36)\n",
      "Test: [100/196]\tTime  0.381 ( 1.157)\tLoss 5.7713e+00 (4.6114e+00)\tAcc@1   2.73 ( 12.15)\tAcc@5  10.94 ( 30.90)\n",
      "Test: [150/196]\tTime  1.807 ( 1.152)\tLoss 4.9784e+00 (4.6923e+00)\tAcc@1   7.42 ( 11.65)\tAcc@5  19.14 ( 29.21)\n",
      " * Acc@1 12.156 Acc@5 29.892\n",
      "lr: [0.001]\n"
     ]
    },
    {
     "name": "stderr",
     "output_type": "stream",
     "text": [
      "/opt/conda/lib/python3.8/site-packages/torch/optim/lr_scheduler.py:154: UserWarning: The epoch parameter in `scheduler.step()` was not necessary and is being deprecated where possible. Please use `scheduler.step()` to step the scheduler. During the deprecation, if epoch is different from None, the closed form is used instead of the new chainable form, where available. Please open an issue if you are unable to replicate your use case: https://github.com/pytorch/pytorch/issues/new/choose.\n",
      "  warnings.warn(EPOCH_DEPRECATION_WARNING, UserWarning)\n"
     ]
    },
    {
     "name": "stdout",
     "output_type": "stream",
     "text": [
      "Epoch: [1][   0/2503]\tTime  4.326 ( 4.326)\tData  3.006 ( 3.006)\tLoss 4.3487e+00 (4.3487e+00)\tAcc@1  17.97 ( 17.97)\tAcc@5  36.33 ( 36.33)\n",
      "Epoch: [1][  50/2503]\tTime  1.312 ( 1.335)\tData  0.266 ( 0.224)\tLoss 4.0618e+00 (4.0953e+00)\tAcc@1  18.36 ( 18.08)\tAcc@5  42.19 ( 39.85)\n",
      "Epoch: [1][ 100/2503]\tTime  1.517 ( 1.314)\tData  0.000 ( 0.194)\tLoss 4.0156e+00 (4.0614e+00)\tAcc@1  19.53 ( 18.87)\tAcc@5  44.53 ( 40.63)\n",
      "Epoch: [1][ 150/2503]\tTime  1.510 ( 1.308)\tData  0.275 ( 0.200)\tLoss 4.0053e+00 (4.0447e+00)\tAcc@1  20.31 ( 19.20)\tAcc@5  42.19 ( 41.06)\n",
      "Epoch: [1][ 200/2503]\tTime  1.560 ( 1.299)\tData  0.567 ( 0.198)\tLoss 4.0780e+00 (4.0309e+00)\tAcc@1  16.41 ( 19.43)\tAcc@5  39.84 ( 41.34)\n",
      "Epoch: [1][ 250/2503]\tTime  1.473 ( 1.295)\tData  0.464 ( 0.200)\tLoss 4.0261e+00 (4.0189e+00)\tAcc@1  19.53 ( 19.60)\tAcc@5  41.02 ( 41.52)\n",
      "Epoch: [1][ 300/2503]\tTime  1.442 ( 1.293)\tData  0.384 ( 0.197)\tLoss 4.3324e+00 (4.0131e+00)\tAcc@1  15.62 ( 19.66)\tAcc@5  33.20 ( 41.65)\n",
      "Epoch: [1][ 350/2503]\tTime  1.326 ( 1.291)\tData  0.293 ( 0.190)\tLoss 4.2682e+00 (4.0068e+00)\tAcc@1  21.88 ( 19.82)\tAcc@5  33.59 ( 41.83)\n",
      "Epoch: [1][ 400/2503]\tTime  1.472 ( 1.288)\tData  0.449 ( 0.188)\tLoss 4.0110e+00 (4.0047e+00)\tAcc@1  18.36 ( 19.83)\tAcc@5  38.28 ( 41.91)\n",
      "Epoch: [1][ 450/2503]\tTime  1.429 ( 1.287)\tData  0.394 ( 0.185)\tLoss 3.9181e+00 (4.0014e+00)\tAcc@1  20.31 ( 19.89)\tAcc@5  43.75 ( 42.03)\n",
      "Epoch: [1][ 500/2503]\tTime  1.292 ( 1.286)\tData  0.000 ( 0.180)\tLoss 4.0286e+00 (3.9943e+00)\tAcc@1  21.88 ( 19.94)\tAcc@5  42.19 ( 42.16)\n",
      "Epoch: [1][ 550/2503]\tTime  1.354 ( 1.287)\tData  0.159 ( 0.166)\tLoss 3.9143e+00 (3.9885e+00)\tAcc@1  22.66 ( 19.99)\tAcc@5  41.80 ( 42.25)\n",
      "Epoch: [1][ 600/2503]\tTime  1.395 ( 1.289)\tData  0.175 ( 0.155)\tLoss 3.8561e+00 (3.9826e+00)\tAcc@1  23.83 ( 20.08)\tAcc@5  42.97 ( 42.42)\n",
      "Epoch: [1][ 650/2503]\tTime  1.254 ( 1.289)\tData  0.000 ( 0.144)\tLoss 3.8073e+00 (3.9794e+00)\tAcc@1  23.05 ( 20.10)\tAcc@5  45.70 ( 42.49)\n",
      "Epoch: [1][ 700/2503]\tTime  1.257 ( 1.289)\tData  0.000 ( 0.134)\tLoss 4.1563e+00 (3.9745e+00)\tAcc@1  13.67 ( 20.16)\tAcc@5  38.28 ( 42.57)\n",
      "Epoch: [1][ 750/2503]\tTime  1.277 ( 1.290)\tData  0.000 ( 0.125)\tLoss 3.7962e+00 (3.9707e+00)\tAcc@1  22.66 ( 20.19)\tAcc@5  46.48 ( 42.63)\n",
      "Epoch: [1][ 800/2503]\tTime  1.321 ( 1.291)\tData  0.000 ( 0.117)\tLoss 3.9561e+00 (3.9687e+00)\tAcc@1  18.36 ( 20.24)\tAcc@5  38.67 ( 42.66)\n",
      "Epoch: [1][ 850/2503]\tTime  1.303 ( 1.291)\tData  0.000 ( 0.110)\tLoss 3.9031e+00 (3.9638e+00)\tAcc@1  23.44 ( 20.31)\tAcc@5  42.97 ( 42.75)\n",
      "Epoch: [1][ 900/2503]\tTime  1.312 ( 1.292)\tData  0.000 ( 0.104)\tLoss 3.8347e+00 (3.9618e+00)\tAcc@1  21.88 ( 20.36)\tAcc@5  44.53 ( 42.80)\n",
      "Epoch: [1][ 950/2503]\tTime  1.342 ( 1.293)\tData  0.000 ( 0.099)\tLoss 3.9941e+00 (3.9587e+00)\tAcc@1  21.48 ( 20.39)\tAcc@5  40.62 ( 42.84)\n",
      "Epoch: [1][1000/2503]\tTime  1.301 ( 1.293)\tData  0.000 ( 0.094)\tLoss 3.8757e+00 (3.9567e+00)\tAcc@1  20.31 ( 20.41)\tAcc@5  43.75 ( 42.89)\n",
      "Epoch: [1][1050/2503]\tTime  1.297 ( 1.294)\tData  0.000 ( 0.089)\tLoss 3.9941e+00 (3.9547e+00)\tAcc@1  20.31 ( 20.41)\tAcc@5  42.97 ( 42.90)\n",
      "Epoch: [1][1100/2503]\tTime  1.318 ( 1.294)\tData  0.000 ( 0.085)\tLoss 4.0093e+00 (3.9510e+00)\tAcc@1  21.88 ( 20.46)\tAcc@5  41.02 ( 42.96)\n",
      "Epoch: [1][1150/2503]\tTime  1.375 ( 1.295)\tData  0.000 ( 0.082)\tLoss 3.9138e+00 (3.9484e+00)\tAcc@1  19.53 ( 20.51)\tAcc@5  40.62 ( 42.99)\n",
      "Epoch: [1][1200/2503]\tTime  1.345 ( 1.296)\tData  0.000 ( 0.078)\tLoss 3.8411e+00 (3.9464e+00)\tAcc@1  21.09 ( 20.54)\tAcc@5  42.19 ( 43.05)\n",
      "Epoch: [1][1250/2503]\tTime  1.331 ( 1.296)\tData  0.000 ( 0.075)\tLoss 4.0132e+00 (3.9441e+00)\tAcc@1  21.48 ( 20.60)\tAcc@5  41.02 ( 43.10)\n",
      "Epoch: [1][1300/2503]\tTime  1.379 ( 1.297)\tData  0.000 ( 0.072)\tLoss 3.7929e+00 (3.9418e+00)\tAcc@1  22.66 ( 20.63)\tAcc@5  50.39 ( 43.13)\n",
      "Epoch: [1][1350/2503]\tTime  1.340 ( 1.298)\tData  0.000 ( 0.070)\tLoss 3.9478e+00 (3.9400e+00)\tAcc@1  19.14 ( 20.66)\tAcc@5  39.45 ( 43.19)\n",
      "Epoch: [1][1400/2503]\tTime  1.344 ( 1.299)\tData  0.000 ( 0.067)\tLoss 3.9170e+00 (3.9373e+00)\tAcc@1  22.27 ( 20.70)\tAcc@5  41.02 ( 43.25)\n",
      "Epoch: [1][1450/2503]\tTime  1.375 ( 1.300)\tData  0.001 ( 0.065)\tLoss 3.8217e+00 (3.9341e+00)\tAcc@1  20.70 ( 20.73)\tAcc@5  44.14 ( 43.31)\n",
      "Epoch: [1][1500/2503]\tTime  1.408 ( 1.302)\tData  0.000 ( 0.063)\tLoss 3.7025e+00 (3.9309e+00)\tAcc@1  26.17 ( 20.78)\tAcc@5  51.95 ( 43.37)\n",
      "Epoch: [1][1550/2503]\tTime  1.477 ( 1.308)\tData  0.000 ( 0.061)\tLoss 3.8287e+00 (3.9277e+00)\tAcc@1  19.53 ( 20.83)\tAcc@5  43.75 ( 43.44)\n",
      "Epoch: [1][1600/2503]\tTime  1.474 ( 1.313)\tData  0.000 ( 0.059)\tLoss 3.8315e+00 (3.9244e+00)\tAcc@1  19.53 ( 20.87)\tAcc@5  44.53 ( 43.50)\n",
      "Epoch: [1][1650/2503]\tTime  1.461 ( 1.318)\tData  0.000 ( 0.057)\tLoss 3.8347e+00 (3.9220e+00)\tAcc@1  20.31 ( 20.91)\tAcc@5  44.14 ( 43.55)\n",
      "Epoch: [1][1700/2503]\tTime  1.493 ( 1.322)\tData  0.001 ( 0.055)\tLoss 3.7705e+00 (3.9189e+00)\tAcc@1  21.88 ( 20.96)\tAcc@5  45.70 ( 43.61)\n"
     ]
    }
   ],
   "source": [
    "#Initiating weights and biases\n",
    "wandb.watch(model)\n",
    "\n",
    "for epoch in range(START_EPOCH, EPOCHS):\n",
    "    #adjust_learning_rate(optimizer, epoch)\n",
    "    \n",
    "    # train for one epoch\n",
    "    train(train_loader, model, criterion, optimizer, epoch)\n",
    "\n",
    "    # evaluate on validation set\n",
    "    acc1 = validate(val_loader, model, criterion)\n",
    "\n",
    "    # remember best acc@1 and save checkpoint\n",
    "    is_best = acc1 > best_acc1\n",
    "    best_acc1 = max(acc1, best_acc1)\n",
    "\n",
    "\n",
    "    save_checkpoint({\n",
    "        'epoch': epoch + 1,\n",
    "        'arch': ARCH,\n",
    "        'state_dict': model.state_dict(),\n",
    "        'best_acc1': best_acc1,\n",
    "        'optimizer' : optimizer.state_dict(),\n",
    "    }, is_best)\n",
    "    \n",
    "    scheduler.step()\n",
    "    \n",
    "    print('lr: ' + str(scheduler.get_last_lr()))"
   ]
  }
 ],
 "metadata": {
  "kernelspec": {
   "display_name": "Python 3 (ipykernel)",
   "language": "python",
   "name": "python3"
  },
  "language_info": {
   "codemirror_mode": {
    "name": "ipython",
    "version": 3
   },
   "file_extension": ".py",
   "mimetype": "text/x-python",
   "name": "python",
   "nbconvert_exporter": "python",
   "pygments_lexer": "ipython3",
   "version": "3.8.10"
  },
  "papermill": {
   "default_parameters": {},
   "duration": 20457.171706,
   "end_time": "2021-09-27T05:32:20.171145",
   "environment_variables": {},
   "exception": null,
   "input_path": "/data/W251Homework5/Homework5.ipynb",
   "output_path": "/data/W251Homework5/Final.ipynb",
   "parameters": {},
   "start_time": "2021-09-26T23:51:22.999439",
   "version": "2.3.3"
  }
 },
 "nbformat": 4,
 "nbformat_minor": 5
}
