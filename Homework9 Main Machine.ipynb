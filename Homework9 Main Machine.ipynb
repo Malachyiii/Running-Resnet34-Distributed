{
 "cells": [
  {
   "cell_type": "code",
   "execution_count": 1,
   "id": "dd9de0c0",
   "metadata": {
    "execution": {
     "iopub.execute_input": "2021-09-26T23:51:23.992916Z",
     "iopub.status.busy": "2021-09-26T23:51:23.992482Z",
     "iopub.status.idle": "2021-09-26T23:51:24.711341Z",
     "shell.execute_reply": "2021-09-26T23:51:24.710865Z"
    },
    "papermill": {
     "duration": 0.734706,
     "end_time": "2021-09-26T23:51:24.711451",
     "exception": false,
     "start_time": "2021-09-26T23:51:23.976745",
     "status": "completed"
    },
    "tags": []
   },
   "outputs": [],
   "source": [
    "import os\n",
    "import random\n",
    "import shutil\n",
    "import time\n",
    "import warnings\n",
    "\n",
    "import torch\n",
    "import torch.nn as nn\n",
    "import torch.backends.cudnn as cudnn\n",
    "import torch.optim\n",
    "import torch.cuda.amp as amp\n",
    "\n",
    "import torch.utils.data\n",
    "import torchvision\n",
    "import torchvision.transforms as transforms\n",
    "import torchvision.datasets as datasets\n",
    "import torchvision.models as models\n",
    "\n",
    "#importing distributed and weights and biases\n",
    "import torch.distributed as dist\n",
    "import wandb"
   ]
  },
  {
   "cell_type": "code",
   "execution_count": 2,
   "id": "bdcad954",
   "metadata": {
    "execution": {
     "iopub.execute_input": "2021-09-26T23:51:24.731041Z",
     "iopub.status.busy": "2021-09-26T23:51:24.730649Z",
     "iopub.status.idle": "2021-09-26T23:51:24.732085Z",
     "shell.execute_reply": "2021-09-26T23:51:24.732389Z"
    },
    "papermill": {
     "duration": 0.012198,
     "end_time": "2021-09-26T23:51:24.732488",
     "exception": false,
     "start_time": "2021-09-26T23:51:24.720290",
     "status": "completed"
    },
    "tags": []
   },
   "outputs": [
    {
     "name": "stderr",
     "output_type": "stream",
     "text": [
      "\u001b[34m\u001b[1mwandb\u001b[0m: Currently logged in as: \u001b[33mmalachyiii\u001b[0m (use `wandb login --relogin` to force relogin)\n",
      "\n",
      "CondaEnvException: Unable to determine environment\n",
      "\n",
      "Please re-run this command with one of the following options:\n",
      "\n",
      "* Provide an environment name via --name or -n\n",
      "* Re-run this command inside an activated conda environment.\n",
      "\n"
     ]
    },
    {
     "data": {
      "text/html": [
       "\n",
       "                    Syncing run <strong><a href=\"https://wandb.ai/malachyiii/Homework9-take2/runs/3v2r937c\" target=\"_blank\">dazzling-cloud-1</a></strong> to <a href=\"https://wandb.ai/malachyiii/Homework9-take2\" target=\"_blank\">Weights & Biases</a> (<a href=\"https://docs.wandb.com/integrations/jupyter.html\" target=\"_blank\">docs</a>).<br/>\n",
       "\n",
       "                "
      ],
      "text/plain": [
       "<IPython.core.display.HTML object>"
      ]
     },
     "metadata": {},
     "output_type": "display_data"
    },
    {
     "data": {
      "text/html": [
       "<button onClick=\"this.nextSibling.style.display='block';this.style.display='none';\">Display W&B run</button><iframe src=\"https://wandb.ai/malachyiii/Homework9-take2/runs/3v2r937c?jupyter=true\" style=\"border:none;width:100%;height:420px;display:none;\"></iframe>"
      ],
      "text/plain": [
       "<wandb.sdk.wandb_run.Run at 0x7f84e58d2550>"
      ]
     },
     "execution_count": 2,
     "metadata": {},
     "output_type": "execute_result"
    }
   ],
   "source": [
<<<<<<< HEAD
    "wandb.init(project='Homework9-take2', entity='malachyiii')"
=======
    "wandb.init(project='Homework9-take3', entity='malachyiii')"
>>>>>>> c3624e066ea48997e59209f871ef8a517d501957
   ]
  },
  {
   "cell_type": "code",
   "execution_count": 3,
   "id": "079fb626",
   "metadata": {
    "execution": {
     "iopub.execute_input": "2021-09-26T23:51:24.784657Z",
     "iopub.status.busy": "2021-09-26T23:51:24.783667Z",
     "iopub.status.idle": "2021-09-26T23:51:24.786867Z",
     "shell.execute_reply": "2021-09-26T23:51:24.787174Z"
    },
    "papermill": {
     "duration": 0.046689,
     "end_time": "2021-09-26T23:51:24.787280",
     "exception": false,
     "start_time": "2021-09-26T23:51:24.740591",
     "status": "completed"
    },
    "tags": []
   },
   "outputs": [
    {
     "name": "stdout",
     "output_type": "stream",
     "text": [
      "True\n",
      "0\n",
      "1\n",
      "Tesla T4\n"
     ]
    }
   ],
   "source": [
    "print(torch.cuda.is_available())\n",
    "print(torch.cuda.current_device())\n",
    "torch.cuda.device(0)\n",
    "print(torch.cuda.device_count())\n",
    "print(torch.cuda.get_device_name(0))\n",
    "torch.cuda.empty_cache()"
   ]
  },
  {
   "cell_type": "code",
   "execution_count": 4,
   "id": "37648e86",
   "metadata": {
    "execution": {
     "iopub.execute_input": "2021-09-26T23:51:24.807150Z",
     "iopub.status.busy": "2021-09-26T23:51:24.806761Z",
     "iopub.status.idle": "2021-09-26T23:51:24.808224Z",
     "shell.execute_reply": "2021-09-26T23:51:24.808524Z"
    },
    "papermill": {
     "duration": 0.012805,
     "end_time": "2021-09-26T23:51:24.808617",
     "exception": false,
     "start_time": "2021-09-26T23:51:24.795812",
     "status": "completed"
    },
    "tags": []
   },
   "outputs": [],
   "source": [
    "SEED=1\n",
    "random.seed(SEED)\n",
    "torch.manual_seed(SEED)\n",
    "cudnn.deterministic = True"
   ]
  },
  {
   "cell_type": "code",
   "execution_count": 5,
   "id": "4100daf5",
   "metadata": {
    "execution": {
     "iopub.execute_input": "2021-09-26T23:51:24.829366Z",
     "iopub.status.busy": "2021-09-26T23:51:24.828937Z",
     "iopub.status.idle": "2021-09-26T23:51:25.205763Z",
     "shell.execute_reply": "2021-09-26T23:51:25.205255Z"
    },
    "papermill": {
     "duration": 0.388784,
     "end_time": "2021-09-26T23:51:25.205889",
     "exception": false,
     "start_time": "2021-09-26T23:51:24.817105",
     "status": "completed"
    },
    "tags": [
     "parameters"
    ]
   },
   "outputs": [],
   "source": [
    "#Trying resnet34\n",
    "ARCH = torchvision.models.resnet34(pretrained=False)\n",
    "START_EPOCH = 0\n",
    "EPOCHS = 1\n",
    "\n",
    "#The following parameters based on the paper at https://arxiv.org/pdf/1512.03385.pdf\n",
    "TRAIN_BATCH=256\n",
    "VAL_BATCH=256\n",
    "MOMENTUM = 0.9\n",
    "WEIGHT_DECAY = 1e-4\n",
    "LR = 0.01\n",
    "IMG_SIZE = 224\n",
    "\n",
    "#Logging wandb config\n",
    "\n",
    "wandb.config = {\n",
    "  \"learning_rate\": LR,\n",
    "  \"epochs\": EPOCHS,\n",
    "  \"batch_size\": TRAIN_BATCH,\n",
    "  \"momentum\": MOMENTUM,\n",
    "  \"weight_decay\": WEIGHT_DECAY,\n",
    "  \"image_size\": IMG_SIZE\n",
    "}\n",
    "\n",
    "PRINT_FREQ = 50\n",
    "WORKERS=2\n",
    "\n",
    "TRAINDIR=\"/data/train\"\n",
    "VALDIR=\"/data/val\""
   ]
  },
  {
   "cell_type": "code",
   "execution_count": 6,
   "id": "a932c17d",
   "metadata": {
    "execution": {
     "iopub.execute_input": "2021-09-26T23:51:25.235506Z",
     "iopub.status.busy": "2021-09-26T23:51:25.235100Z",
     "iopub.status.idle": "2021-09-26T23:51:25.236792Z",
     "shell.execute_reply": "2021-09-26T23:51:25.237104Z"
    },
    "papermill": {
     "duration": 0.017792,
     "end_time": "2021-09-26T23:51:25.237210",
     "exception": false,
     "start_time": "2021-09-26T23:51:25.219418",
     "status": "completed"
    },
    "tags": []
   },
   "outputs": [],
   "source": [
    "GPU = torch.cuda.current_device()\n",
    "torch.cuda.device(GPU)\n",
    "cudnn.benchmark = True"
   ]
  },
  {
   "cell_type": "code",
   "execution_count": 7,
   "id": "2c8fc071",
   "metadata": {},
   "outputs": [],
   "source": [
    "if not torch.cuda.is_available():\n",
    "    print('GPU not detected.. did you pass through your GPU?')"
   ]
  },
  {
   "cell_type": "code",
   "execution_count": 8,
   "id": "6090a831",
   "metadata": {},
   "outputs": [],
   "source": [
    "#Setting up the cluster and the world\n",
    "WORLD_SIZE = 2\n",
    "BACKEND = 'nccl'\n",
    "URL = 'tcp://35.163.183.149:5000'\n",
    "RANK = 0\n",
    "\n",
    "dist.init_process_group(backend = BACKEND, init_method= URL,\n",
    "                                world_size= WORLD_SIZE, rank=RANK)"
   ]
  },
  {
   "cell_type": "code",
   "execution_count": 9,
   "id": "4bb7f434",
   "metadata": {
    "execution": {
     "iopub.execute_input": "2021-09-26T23:51:25.257684Z",
     "iopub.status.busy": "2021-09-26T23:51:25.257292Z",
     "iopub.status.idle": "2021-09-26T23:51:25.259040Z",
     "shell.execute_reply": "2021-09-26T23:51:25.259385Z"
    },
    "papermill": {
     "duration": 0.013564,
     "end_time": "2021-09-26T23:51:25.259490",
     "exception": false,
     "start_time": "2021-09-26T23:51:25.245926",
     "status": "completed"
    },
    "tags": []
   },
   "outputs": [],
   "source": [
    "imagenet_mean_RGB = [0.47889522, 0.47227842, 0.43047404]\n",
    "imagenet_std_RGB = [0.229, 0.224, 0.225]"
   ]
  },
  {
   "cell_type": "code",
   "execution_count": 10,
   "id": "12afc99d",
   "metadata": {
    "execution": {
     "iopub.execute_input": "2021-09-26T23:51:25.281512Z",
     "iopub.status.busy": "2021-09-26T23:51:25.281109Z",
     "iopub.status.idle": "2021-09-26T23:51:29.544601Z",
     "shell.execute_reply": "2021-09-26T23:51:29.544198Z"
    },
    "papermill": {
     "duration": 4.276669,
     "end_time": "2021-09-26T23:51:29.544704",
     "exception": false,
     "start_time": "2021-09-26T23:51:25.268035",
     "status": "completed"
    },
    "tags": []
   },
   "outputs": [],
   "source": [
    "transform_train = transforms.Compose([\n",
    "    transforms.Resize((IMG_SIZE, IMG_SIZE)),\n",
    "    # transformations based on https://arxiv.org/pdf/1512.03385.pdf\n",
    "    transforms.RandomHorizontalFlip(),\n",
    "    transforms.ToTensor(),\n",
    "    transforms.Normalize(imagenet_mean_RGB, imagenet_std_RGB),\n",
    "])\n",
    "\n",
    "transform_val = transforms.Compose([\n",
    "    transforms.Resize((IMG_SIZE, IMG_SIZE)),\n",
    "    transforms.ToTensor(),\n",
    "    transforms.Normalize(imagenet_mean_RGB, imagenet_std_RGB),\n",
    "])\n",
    "\n",
    "train_dataset = torchvision.datasets.ImageFolder('/data/train', transform=transform_train)\n",
    "val_dataset = torchvision.datasets.ImageFolder('/data/val', transform=transform_val)"
   ]
  },
  {
   "cell_type": "code",
   "execution_count": 11,
   "id": "2e1d3867",
   "metadata": {
    "execution": {
     "iopub.execute_input": "2021-09-26T23:51:29.568058Z",
     "iopub.status.busy": "2021-09-26T23:51:29.567635Z",
     "iopub.status.idle": "2021-09-26T23:51:29.569155Z",
     "shell.execute_reply": "2021-09-26T23:51:29.569510Z"
    },
    "papermill": {
     "duration": 0.015759,
     "end_time": "2021-09-26T23:51:29.569628",
     "exception": false,
     "start_time": "2021-09-26T23:51:29.553869",
     "status": "completed"
    },
    "tags": []
   },
   "outputs": [],
   "source": [
    "#Setting up the train loader with a distributed Sampler\n",
    "train_loader = torch.utils.data.DataLoader(train_dataset, batch_size=TRAIN_BATCH, \n",
    "                              shuffle=False, num_workers=WORKERS, pin_memory=True, \n",
    "                                           sampler=torch.utils.data.distributed.DistributedSampler(train_dataset))\n",
    "val_loader = torch.utils.data.DataLoader(val_dataset, batch_size=VAL_BATCH, \n",
    "                              shuffle=False, num_workers=WORKERS, sampler=None)"
   ]
  },
  {
   "cell_type": "code",
   "execution_count": 12,
   "id": "aa40c46f",
   "metadata": {
    "execution": {
     "iopub.execute_input": "2021-09-26T23:51:29.595359Z",
     "iopub.status.busy": "2021-09-26T23:51:29.594912Z",
     "iopub.status.idle": "2021-09-26T23:51:29.596423Z",
     "shell.execute_reply": "2021-09-26T23:51:29.596740Z"
    },
    "papermill": {
     "duration": 0.018274,
     "end_time": "2021-09-26T23:51:29.596860",
     "exception": false,
     "start_time": "2021-09-26T23:51:29.578586",
     "status": "completed"
    },
    "tags": []
   },
   "outputs": [],
   "source": [
    "def train(train_loader, model, criterion, optimizer, epoch):\n",
    "    batch_time = AverageMeter('Time', ':6.3f')\n",
    "    data_time = AverageMeter('Data', ':6.3f')\n",
    "    losses = AverageMeter('Loss', ':.4e')\n",
    "    top1 = AverageMeter('Acc@1', ':6.2f')\n",
    "    top5 = AverageMeter('Acc@5', ':6.2f')\n",
    "    progress = ProgressMeter(\n",
    "        len(train_loader),\n",
    "        [batch_time, data_time, losses, top1, top5],\n",
    "        prefix=\"Epoch: [{}]\".format(epoch))\n",
    "    \n",
    "    ######################\n",
    "    # switch model to train mode here\n",
    "    model.train()\n",
    "    ################\n",
    "\n",
    "    end = time.time()\n",
    "    for i, (images, target) in enumerate(train_loader):\n",
    "        # measure data loading time\n",
    "        data_time.update(time.time() - end)\n",
    "\n",
    "        #####################\n",
    "        # send the images to cuda device\n",
    "        if GPU is not None:\n",
    "            images, target = images.cuda(GPU, non_blocking = True), target.cuda(GPU, non_blocking = True)\n",
    "        # send the target to cuda device\n",
    "\n",
    "        \n",
    "        ####Utilizing PyTorch native AMP####\n",
    "        with amp.autocast():\n",
    "            # compute output\n",
    "            output = model(images)\n",
    "            # compute loss \n",
    "            loss = criterion(output, target)\n",
    "        \n",
    "        \n",
    "        # measure accuracy and record loss\n",
    "        acc1, acc5 = accuracy(output, target, topk=(1, 5))\n",
    "        losses.update(loss.item(), images.size(0))\n",
    "        top1.update(acc1[0], images.size(0))\n",
    "        top5.update(acc5[0], images.size(0))\n",
    "        \n",
    "        #Logging the metrics\n",
    "        wandb.log({\"loss\": loss,\n",
    "                   \"acc1\": acc1,\n",
    "                   \"acc5\": acc5})\n",
    "        \n",
    "        wandb.watch(model)\n",
    "\n",
    "        # compute gradient and do SGD step\n",
    "        \n",
    "        #### zero out gradients in the optimier\n",
    "        optimizer.zero_grad()\n",
    "        \n",
    "        ## backprop!\n",
    "        scaler.scale(loss).backward()\n",
    "        \n",
    "        # update the weights!\n",
    "        scaler.step(optimizer)\n",
    "        scaler.update()\n",
    "\n",
    "        # measure elapsed time\n",
    "        batch_time.update(time.time() - end)\n",
    "        end = time.time()\n",
    "\n",
    "        if i % PRINT_FREQ == 0:\n",
    "            progress.display(i)"
   ]
  },
  {
   "cell_type": "code",
   "execution_count": 13,
   "id": "72d80192",
   "metadata": {
    "execution": {
     "iopub.execute_input": "2021-09-26T23:51:29.622305Z",
     "iopub.status.busy": "2021-09-26T23:51:29.621825Z",
     "iopub.status.idle": "2021-09-26T23:51:29.623373Z",
     "shell.execute_reply": "2021-09-26T23:51:29.623689Z"
    },
    "papermill": {
     "duration": 0.017827,
     "end_time": "2021-09-26T23:51:29.623804",
     "exception": false,
     "start_time": "2021-09-26T23:51:29.605977",
     "status": "completed"
    },
    "tags": []
   },
   "outputs": [],
   "source": [
    "def validate(val_loader, model, criterion):\n",
    "    batch_time = AverageMeter('Time', ':6.3f')\n",
    "    losses = AverageMeter('Loss', ':.4e')\n",
    "    top1 = AverageMeter('Acc@1', ':6.2f')\n",
    "    top5 = AverageMeter('Acc@5', ':6.2f')\n",
    "    progress = ProgressMeter(\n",
    "        len(val_loader),\n",
    "        [batch_time, losses, top1, top5],\n",
    "        prefix='Test: ')\n",
    "\n",
    "    # switch to evaluate mode\n",
    "    model.eval()\n",
    "\n",
    "    with torch.no_grad():\n",
    "        end = time.time()\n",
    "        for i, (images, target) in enumerate(val_loader):\n",
    "            \n",
    "            \n",
    "            ### send the images and target to cuda\n",
    "            images, target = images.to(GPU), target.to(GPU)\n",
    "\n",
    "            # compute output\n",
    "            output = model(images)\n",
    "\n",
    "            # compute loss\n",
    "            loss = criterion(output, target)\n",
    "\n",
    "\n",
    "            # measure accuracy and record loss\n",
    "            acc1, acc5 = accuracy(output, target, topk=(1, 5))\n",
    "            losses.update(loss.item(), images.size(0))\n",
    "            top1.update(acc1[0], images.size(0))\n",
    "            top5.update(acc5[0], images.size(0))\n",
    "\n",
    "            # measure elapsed time\n",
    "            batch_time.update(time.time() - end)\n",
    "            end = time.time()\n",
    "\n",
    "            if i % PRINT_FREQ == 0:\n",
    "                progress.display(i)\n",
    "\n",
    "        # TODO: this should also be done with the ProgressMeter\n",
    "        print(' * Acc@1 {top1.avg:.3f} Acc@5 {top5.avg:.3f}'\n",
    "              .format(top1=top1, top5=top5))\n",
    "\n",
    "    return top1.avg"
   ]
  },
  {
   "cell_type": "code",
   "execution_count": 14,
   "id": "838e3127",
   "metadata": {
    "execution": {
     "iopub.execute_input": "2021-09-26T23:51:29.645927Z",
     "iopub.status.busy": "2021-09-26T23:51:29.645482Z",
     "iopub.status.idle": "2021-09-26T23:51:29.647071Z",
     "shell.execute_reply": "2021-09-26T23:51:29.647387Z"
    },
    "papermill": {
     "duration": 0.014486,
     "end_time": "2021-09-26T23:51:29.647501",
     "exception": false,
     "start_time": "2021-09-26T23:51:29.633015",
     "status": "completed"
    },
    "tags": []
   },
   "outputs": [],
   "source": [
    "def save_checkpoint(state, is_best, filename='checkpoint.pth.tar'):\n",
    "    # save the model state!\n",
    "    torch.save(state, filename) \n",
    "    if is_best:\n",
    "        shutil.copyfile(filename, 'model_best.pth.tar')"
   ]
  },
  {
   "cell_type": "code",
   "execution_count": 15,
   "id": "b2dff931",
   "metadata": {
    "execution": {
     "iopub.execute_input": "2021-09-26T23:51:29.671901Z",
     "iopub.status.busy": "2021-09-26T23:51:29.671465Z",
     "iopub.status.idle": "2021-09-26T23:51:29.673060Z",
     "shell.execute_reply": "2021-09-26T23:51:29.673381Z"
    },
    "papermill": {
     "duration": 0.016548,
     "end_time": "2021-09-26T23:51:29.673499",
     "exception": false,
     "start_time": "2021-09-26T23:51:29.656951",
     "status": "completed"
    },
    "tags": []
   },
   "outputs": [],
   "source": [
    "class AverageMeter(object):\n",
    "    \"\"\"Computes and stores the average and current value\"\"\"\n",
    "    def __init__(self, name, fmt=':f'):\n",
    "        self.name = name\n",
    "        self.fmt = fmt\n",
    "        self.reset()\n",
    "\n",
    "    def reset(self):\n",
    "        self.val = 0\n",
    "        self.avg = 0\n",
    "        self.sum = 0\n",
    "        self.count = 0\n",
    "\n",
    "    def update(self, val, n=1):\n",
    "        self.val = val\n",
    "        self.sum += val * n\n",
    "        self.count += n\n",
    "        self.avg = self.sum / self.count\n",
    "\n",
    "    def __str__(self):\n",
    "        fmtstr = '{name} {val' + self.fmt + '} ({avg' + self.fmt + '})'\n",
    "        return fmtstr.format(**self.__dict__)"
   ]
  },
  {
   "cell_type": "code",
   "execution_count": 16,
   "id": "9a103b17",
   "metadata": {
    "execution": {
     "iopub.execute_input": "2021-09-26T23:51:29.697562Z",
     "iopub.status.busy": "2021-09-26T23:51:29.697129Z",
     "iopub.status.idle": "2021-09-26T23:51:29.698791Z",
     "shell.execute_reply": "2021-09-26T23:51:29.699112Z"
    },
    "papermill": {
     "duration": 0.016396,
     "end_time": "2021-09-26T23:51:29.699241",
     "exception": false,
     "start_time": "2021-09-26T23:51:29.682845",
     "status": "completed"
    },
    "tags": []
   },
   "outputs": [],
   "source": [
    "class ProgressMeter(object):\n",
    "    def __init__(self, num_batches, meters, prefix=\"\"):\n",
    "        self.batch_fmtstr = self._get_batch_fmtstr(num_batches)\n",
    "        self.meters = meters\n",
    "        self.prefix = prefix\n",
    "\n",
    "    def display(self, batch):\n",
    "        entries = [self.prefix + self.batch_fmtstr.format(batch)]\n",
    "        entries += [str(meter) for meter in self.meters]\n",
    "        print('\\t'.join(entries))\n",
    "\n",
    "    def _get_batch_fmtstr(self, num_batches):\n",
    "        num_digits = len(str(num_batches // 1))\n",
    "        fmt = '{:' + str(num_digits) + 'd}'\n",
    "        return '[' + fmt + '/' + fmt.format(num_batches) + ']'"
   ]
  },
  {
   "cell_type": "code",
   "execution_count": 17,
   "id": "86da0c68",
   "metadata": {
    "execution": {
     "iopub.execute_input": "2021-09-26T23:51:29.723330Z",
     "iopub.status.busy": "2021-09-26T23:51:29.722902Z",
     "iopub.status.idle": "2021-09-26T23:51:29.724398Z",
     "shell.execute_reply": "2021-09-26T23:51:29.724712Z"
    },
    "papermill": {
     "duration": 0.016121,
     "end_time": "2021-09-26T23:51:29.724825",
     "exception": false,
     "start_time": "2021-09-26T23:51:29.708704",
     "status": "completed"
    },
    "tags": []
   },
   "outputs": [],
   "source": [
    "def accuracy(output, target, topk=(1,)):\n",
    "    \"\"\"Computes the accuracy over the k top predictions for the specified values of k\"\"\"\n",
    "    with torch.no_grad():\n",
    "        maxk = max(topk)\n",
    "        batch_size = target.size(0)\n",
    "\n",
    "        _, pred = output.topk(maxk, 1, True, True)\n",
    "        pred = pred.t()\n",
    "        correct = pred.eq(target.view(1, -1).expand_as(pred))\n",
    "\n",
    "        res = []\n",
    "        for k in topk:\n",
    "            correct_k = correct[:k].reshape(-1).float().sum(0, keepdim=True)\n",
    "            res.append(correct_k.mul_(100.0 / batch_size))\n",
    "        return res"
   ]
  },
  {
   "cell_type": "code",
   "execution_count": 18,
   "id": "3278a210",
   "metadata": {
    "execution": {
     "iopub.execute_input": "2021-09-26T23:51:29.747242Z",
     "iopub.status.busy": "2021-09-26T23:51:29.746829Z",
     "iopub.status.idle": "2021-09-26T23:51:29.748413Z",
     "shell.execute_reply": "2021-09-26T23:51:29.748732Z"
    },
    "papermill": {
     "duration": 0.014656,
     "end_time": "2021-09-26T23:51:29.748845",
     "exception": false,
     "start_time": "2021-09-26T23:51:29.734189",
     "status": "completed"
    },
    "tags": []
   },
   "outputs": [],
   "source": [
    "def adjust_learning_rate(optimizer, epoch):\n",
    "    \"\"\"Sets the learning rate to the initial LR decayed by 10 every 1/3 of the epochs\"\"\"\n",
    "    lr = LR * (0.1 ** (epoch // int(round(EPOCHS/3, 0))))\n",
    "    for param_group in optimizer.param_groups:\n",
    "        param_group['lr'] = lr"
   ]
  },
  {
   "cell_type": "code",
   "execution_count": 19,
   "id": "586e837c",
   "metadata": {
    "execution": {
     "iopub.execute_input": "2021-09-26T23:51:29.771527Z",
     "iopub.status.busy": "2021-09-26T23:51:29.771102Z",
     "iopub.status.idle": "2021-09-26T23:51:29.772634Z",
     "shell.execute_reply": "2021-09-26T23:51:29.772952Z"
    },
    "papermill": {
     "duration": 0.014647,
     "end_time": "2021-09-26T23:51:29.773067",
     "exception": false,
     "start_time": "2021-09-26T23:51:29.758420",
     "status": "completed"
    },
    "tags": []
   },
   "outputs": [],
   "source": [
    "normalize = transforms.Normalize(mean=imagenet_mean_RGB, std=imagenet_std_RGB)"
   ]
  },
  {
   "cell_type": "code",
   "execution_count": 20,
   "id": "3bd7adac",
   "metadata": {
    "execution": {
     "iopub.execute_input": "2021-09-26T23:51:29.794889Z",
     "iopub.status.busy": "2021-09-26T23:51:29.794495Z",
     "iopub.status.idle": "2021-09-26T23:51:32.161284Z",
     "shell.execute_reply": "2021-09-26T23:51:32.161607Z"
    },
    "papermill": {
     "duration": 2.379175,
     "end_time": "2021-09-26T23:51:32.161729",
     "exception": false,
     "start_time": "2021-09-26T23:51:29.782554",
     "status": "completed"
    },
    "scrolled": false,
    "tags": []
   },
   "outputs": [],
   "source": [
    "model = ARCH\n",
    "model.cuda(GPU)\n",
    "model = torch.nn.parallel.DistributedDataParallel(model, device_ids=[GPU])"
   ]
  },
  {
   "cell_type": "code",
   "execution_count": 21,
   "id": "395c7abd",
   "metadata": {
    "execution": {
     "iopub.execute_input": "2021-09-26T23:51:32.185880Z",
     "iopub.status.busy": "2021-09-26T23:51:32.185463Z",
     "iopub.status.idle": "2021-09-26T23:51:32.187018Z",
     "shell.execute_reply": "2021-09-26T23:51:32.187328Z"
    },
    "papermill": {
     "duration": 0.015707,
     "end_time": "2021-09-26T23:51:32.187436",
     "exception": false,
     "start_time": "2021-09-26T23:51:32.171729",
     "status": "completed"
    },
    "tags": []
   },
   "outputs": [],
   "source": [
    "criterion = nn.CrossEntropyLoss().cuda(GPU)\n",
    "optimizer = torch.optim.SGD(params = model.parameters(), lr=LR, momentum=MOMENTUM, weight_decay=WEIGHT_DECAY)\n",
    "#Based on the same paper, https://arxiv.org/pdf/1512.03385.pdf\n",
    "scheduler = torch.optim.lr_scheduler.MultiStepLR(optimizer, milestones=[2])\n",
    "scaler = amp.GradScaler()"
   ]
  },
  {
   "cell_type": "code",
   "execution_count": 22,
   "id": "637a5f63",
   "metadata": {
    "execution": {
     "iopub.execute_input": "2021-09-26T23:51:32.209842Z",
     "iopub.status.busy": "2021-09-26T23:51:32.209429Z",
     "iopub.status.idle": "2021-09-26T23:51:32.211000Z",
     "shell.execute_reply": "2021-09-26T23:51:32.211313Z"
    },
    "papermill": {
     "duration": 0.014078,
     "end_time": "2021-09-26T23:51:32.211414",
     "exception": false,
     "start_time": "2021-09-26T23:51:32.197336",
     "status": "completed"
    },
    "tags": []
   },
   "outputs": [],
   "source": [
    "best_acc1 = 0"
   ]
  },
  {
   "cell_type": "code",
   "execution_count": null,
   "id": "8d19ecbb",
   "metadata": {
    "execution": {
     "iopub.execute_input": "2021-09-26T23:51:32.236106Z",
     "iopub.status.busy": "2021-09-26T23:51:32.235682Z",
     "iopub.status.idle": "2021-09-27T05:32:17.807945Z",
     "shell.execute_reply": "2021-09-27T05:32:17.808297Z"
    },
    "papermill": {
     "duration": 20445.587005,
     "end_time": "2021-09-27T05:32:17.808426",
     "exception": false,
     "start_time": "2021-09-26T23:51:32.221421",
     "status": "completed"
    },
    "tags": []
   },
   "outputs": [
    {
     "name": "stdout",
     "output_type": "stream",
     "text": [
      "Epoch: [0][   0/2503]\tTime 13.131 (13.131)\tData  2.123 ( 2.123)\tLoss 7.0532e+00 (7.0532e+00)\tAcc@1   0.00 (  0.00)\tAcc@5   0.78 (  0.78)\n",
      "Epoch: [0][  50/2503]\tTime  1.311 ( 1.220)\tData  0.785 ( 0.410)\tLoss 6.8969e+00 (6.9580e+00)\tAcc@1   0.00 (  0.14)\tAcc@5   0.78 (  0.66)\n",
      "Epoch: [0][ 100/2503]\tTime  1.434 ( 1.137)\tData  0.903 ( 0.420)\tLoss 6.8353e+00 (6.9162e+00)\tAcc@1   0.00 (  0.19)\tAcc@5   0.78 (  0.84)\n",
      "Epoch: [0][ 150/2503]\tTime  1.461 ( 1.104)\tData  0.926 ( 0.420)\tLoss 6.7175e+00 (6.8811e+00)\tAcc@1   0.00 (  0.23)\tAcc@5   1.95 (  1.06)\n",
      "Epoch: [0][ 200/2503]\tTime  1.485 ( 1.082)\tData  0.830 ( 0.421)\tLoss 6.6621e+00 (6.8423e+00)\tAcc@1   1.56 (  0.32)\tAcc@5   2.34 (  1.35)\n",
      "Epoch: [0][ 250/2503]\tTime  0.904 ( 1.073)\tData  0.361 ( 0.409)\tLoss 6.6102e+00 (6.7968e+00)\tAcc@1   0.39 (  0.43)\tAcc@5   1.95 (  1.67)\n",
      "Epoch: [0][ 300/2503]\tTime  0.986 ( 1.077)\tData  0.445 ( 0.386)\tLoss 6.4411e+00 (6.7465e+00)\tAcc@1   0.78 (  0.53)\tAcc@5   3.91 (  2.01)\n",
      "Epoch: [0][ 350/2503]\tTime  0.981 ( 1.077)\tData  0.437 ( 0.369)\tLoss 6.3355e+00 (6.6948e+00)\tAcc@1   1.95 (  0.63)\tAcc@5   7.42 (  2.39)\n",
      "Epoch: [0][ 400/2503]\tTime  0.937 ( 1.077)\tData  0.389 ( 0.352)\tLoss 6.3350e+00 (6.6410e+00)\tAcc@1   0.78 (  0.74)\tAcc@5   3.52 (  2.81)\n",
      "Epoch: [0][ 450/2503]\tTime  1.506 ( 1.073)\tData  0.743 ( 0.355)\tLoss 6.1409e+00 (6.5928e+00)\tAcc@1   1.17 (  0.83)\tAcc@5   6.64 (  3.14)\n",
      "Epoch: [0][ 500/2503]\tTime  1.348 ( 1.068)\tData  0.799 ( 0.363)\tLoss 6.2126e+00 (6.5421e+00)\tAcc@1   1.17 (  0.94)\tAcc@5   5.47 (  3.52)\n",
      "Epoch: [0][ 550/2503]\tTime  1.184 ( 1.067)\tData  0.631 ( 0.358)\tLoss 5.8279e+00 (6.4936e+00)\tAcc@1   2.73 (  1.06)\tAcc@5  10.94 (  3.93)\n",
      "Epoch: [0][ 600/2503]\tTime  1.336 ( 1.066)\tData  0.781 ( 0.354)\tLoss 6.0452e+00 (6.4464e+00)\tAcc@1   3.12 (  1.18)\tAcc@5  11.33 (  4.35)\n",
      "Epoch: [0][ 650/2503]\tTime  1.021 ( 1.066)\tData  0.463 ( 0.351)\tLoss 5.8316e+00 (6.3995e+00)\tAcc@1   3.12 (  1.33)\tAcc@5   8.59 (  4.80)\n",
      "Epoch: [0][ 700/2503]\tTime  1.018 ( 1.067)\tData  0.455 ( 0.344)\tLoss 5.8583e+00 (6.3540e+00)\tAcc@1   1.95 (  1.47)\tAcc@5  10.55 (  5.25)\n",
      "Epoch: [0][ 750/2503]\tTime  1.210 ( 1.068)\tData  0.624 ( 0.340)\tLoss 5.5863e+00 (6.3106e+00)\tAcc@1   3.91 (  1.62)\tAcc@5  10.16 (  5.68)\n",
      "Epoch: [0][ 800/2503]\tTime  1.129 ( 1.069)\tData  0.562 ( 0.337)\tLoss 5.5722e+00 (6.2680e+00)\tAcc@1   5.08 (  1.77)\tAcc@5  12.89 (  6.13)\n",
      "Epoch: [0][ 850/2503]\tTime  1.193 ( 1.070)\tData  0.622 ( 0.332)\tLoss 5.2527e+00 (6.2253e+00)\tAcc@1   8.20 (  1.94)\tAcc@5  23.83 (  6.59)\n",
      "Epoch: [0][ 900/2503]\tTime  0.881 ( 1.070)\tData  0.264 ( 0.326)\tLoss 5.4087e+00 (6.1840e+00)\tAcc@1   4.30 (  2.10)\tAcc@5  17.58 (  7.04)\n",
      "Epoch: [0][ 950/2503]\tTime  1.231 ( 1.071)\tData  0.657 ( 0.324)\tLoss 5.4563e+00 (6.1430e+00)\tAcc@1   7.03 (  2.29)\tAcc@5  19.53 (  7.52)\n",
      "Epoch: [0][1000/2503]\tTime  1.255 ( 1.072)\tData  0.448 ( 0.321)\tLoss 5.3313e+00 (6.1029e+00)\tAcc@1   7.81 (  2.46)\tAcc@5  19.14 (  8.00)\n",
      "Epoch: [0][1050/2503]\tTime  1.419 ( 1.078)\tData  0.623 ( 0.317)\tLoss 5.3074e+00 (6.0641e+00)\tAcc@1   4.69 (  2.65)\tAcc@5  16.02 (  8.48)\n"
     ]
    },
    {
     "name": "stderr",
     "output_type": "stream",
     "text": [
      "wandb: ERROR Summary data exceeds maximum size of 10.4MB. Dropping it.\n"
     ]
    },
    {
     "name": "stdout",
     "output_type": "stream",
     "text": [
      "Epoch: [0][1100/2503]\tTime  1.388 ( 1.090)\tData  0.580 ( 0.317)\tLoss 5.0849e+00 (6.0259e+00)\tAcc@1   9.77 (  2.82)\tAcc@5  19.53 (  8.95)\n",
      "Epoch: [0][1150/2503]\tTime  0.823 ( 1.097)\tData  0.000 ( 0.319)\tLoss 5.0389e+00 (5.9883e+00)\tAcc@1   5.86 (  3.00)\tAcc@5  21.48 (  9.42)\n",
      "Epoch: [0][1200/2503]\tTime  0.855 ( 1.103)\tData  0.000 ( 0.322)\tLoss 5.0473e+00 (5.9515e+00)\tAcc@1   9.77 (  3.19)\tAcc@5  24.61 (  9.91)\n",
      "Epoch: [0][1250/2503]\tTime  0.805 ( 1.107)\tData  0.000 ( 0.324)\tLoss 5.1629e+00 (5.9165e+00)\tAcc@1   5.08 (  3.37)\tAcc@5  21.09 ( 10.37)\n",
      "Epoch: [0][1300/2503]\tTime  0.861 ( 1.112)\tData  0.000 ( 0.326)\tLoss 4.9437e+00 (5.8809e+00)\tAcc@1   6.64 (  3.55)\tAcc@5  23.05 ( 10.84)\n",
      "Epoch: [0][1350/2503]\tTime  1.308 ( 1.117)\tData  0.479 ( 0.328)\tLoss 4.9625e+00 (5.8479e+00)\tAcc@1   5.86 (  3.72)\tAcc@5  25.78 ( 11.29)\n",
      "Epoch: [0][1400/2503]\tTime  1.231 ( 1.123)\tData  0.413 ( 0.330)\tLoss 4.9897e+00 (5.8145e+00)\tAcc@1  10.16 (  3.91)\tAcc@5  24.22 ( 11.74)\n",
      "Epoch: [0][1450/2503]\tTime  0.868 ( 1.126)\tData  0.000 ( 0.332)\tLoss 4.8940e+00 (5.7839e+00)\tAcc@1   8.20 (  4.10)\tAcc@5  22.27 ( 12.17)\n",
      "Epoch: [0][1500/2503]\tTime  0.867 ( 1.130)\tData  0.000 ( 0.333)\tLoss 4.7495e+00 (5.7533e+00)\tAcc@1   8.98 (  4.28)\tAcc@5  24.61 ( 12.59)\n",
      "Epoch: [0][1550/2503]\tTime  0.831 ( 1.134)\tData  0.000 ( 0.335)\tLoss 4.8290e+00 (5.7228e+00)\tAcc@1   8.20 (  4.47)\tAcc@5  24.22 ( 13.02)\n",
      "Epoch: [0][1600/2503]\tTime  0.802 ( 1.136)\tData  0.000 ( 0.336)\tLoss 4.8176e+00 (5.6927e+00)\tAcc@1   8.98 (  4.67)\tAcc@5  25.39 ( 13.47)\n",
      "Epoch: [0][1650/2503]\tTime  0.869 ( 1.140)\tData  0.000 ( 0.337)\tLoss 4.6158e+00 (5.6638e+00)\tAcc@1  12.89 (  4.85)\tAcc@5  31.64 ( 13.88)\n",
      "Epoch: [0][1700/2503]\tTime  0.813 ( 1.142)\tData  0.000 ( 0.337)\tLoss 4.6920e+00 (5.6344e+00)\tAcc@1  11.33 (  5.04)\tAcc@5  33.98 ( 14.31)\n",
      "Epoch: [0][1750/2503]\tTime  0.859 ( 1.144)\tData  0.000 ( 0.338)\tLoss 4.9039e+00 (5.6070e+00)\tAcc@1   8.98 (  5.23)\tAcc@5  26.17 ( 14.73)\n",
      "Epoch: [0][1800/2503]\tTime  1.112 ( 1.147)\tData  0.299 ( 0.338)\tLoss 4.5799e+00 (5.5793e+00)\tAcc@1  15.62 (  5.41)\tAcc@5  31.25 ( 15.14)\n",
      "Epoch: [0][1850/2503]\tTime  1.436 ( 1.152)\tData  0.613 ( 0.339)\tLoss 4.6320e+00 (5.5530e+00)\tAcc@1  12.50 (  5.59)\tAcc@5  29.30 ( 15.53)\n",
      "Epoch: [0][1900/2503]\tTime  1.569 ( 1.158)\tData  0.695 ( 0.339)\tLoss 4.8595e+00 (5.5270e+00)\tAcc@1  10.55 (  5.77)\tAcc@5  23.83 ( 15.92)\n",
      "Epoch: [0][1950/2503]\tTime  1.574 ( 1.163)\tData  0.659 ( 0.338)\tLoss 4.5630e+00 (5.5013e+00)\tAcc@1  12.89 (  5.95)\tAcc@5  30.08 ( 16.33)\n",
      "Epoch: [0][2000/2503]\tTime  1.765 ( 1.168)\tData  0.745 ( 0.338)\tLoss 4.4950e+00 (5.4761e+00)\tAcc@1  14.06 (  6.14)\tAcc@5  32.03 ( 16.72)\n",
      "Epoch: [0][2050/2503]\tTime  1.505 ( 1.171)\tData  0.511 ( 0.335)\tLoss 4.3663e+00 (5.4518e+00)\tAcc@1  12.89 (  6.30)\tAcc@5  32.42 ( 17.11)\n",
      "Epoch: [0][2100/2503]\tTime  1.289 ( 1.175)\tData  0.297 ( 0.331)\tLoss 4.4386e+00 (5.4281e+00)\tAcc@1  12.11 (  6.48)\tAcc@5  30.47 ( 17.48)\n",
      "Epoch: [0][2150/2503]\tTime  1.380 ( 1.178)\tData  0.370 ( 0.328)\tLoss 4.4947e+00 (5.4044e+00)\tAcc@1  14.06 (  6.65)\tAcc@5  30.08 ( 17.86)\n",
      "Epoch: [0][2200/2503]\tTime  1.503 ( 1.182)\tData  0.502 ( 0.326)\tLoss 4.5206e+00 (5.3809e+00)\tAcc@1  13.28 (  6.83)\tAcc@5  33.59 ( 18.23)\n",
      "Epoch: [0][2250/2503]\tTime  1.602 ( 1.185)\tData  0.564 ( 0.323)\tLoss 4.3230e+00 (5.3578e+00)\tAcc@1  16.41 (  7.01)\tAcc@5  32.42 ( 18.60)\n",
      "Epoch: [0][2300/2503]\tTime  1.476 ( 1.189)\tData  0.437 ( 0.320)\tLoss 4.5431e+00 (5.3344e+00)\tAcc@1  12.50 (  7.19)\tAcc@5  31.64 ( 18.97)\n",
      "Epoch: [0][2350/2503]\tTime  1.271 ( 1.191)\tData  0.257 ( 0.317)\tLoss 4.5007e+00 (5.3121e+00)\tAcc@1  12.11 (  7.37)\tAcc@5  30.86 ( 19.33)\n",
      "Epoch: [0][2400/2503]\tTime  1.402 ( 1.194)\tData  0.304 ( 0.314)\tLoss 4.1284e+00 (5.2901e+00)\tAcc@1  13.67 (  7.54)\tAcc@5  37.89 ( 19.69)\n",
      "Epoch: [0][2450/2503]\tTime  1.600 ( 1.197)\tData  0.508 ( 0.311)\tLoss 4.1543e+00 (5.2682e+00)\tAcc@1  16.02 (  7.72)\tAcc@5  40.23 ( 20.05)\n",
      "Epoch: [0][2500/2503]\tTime  1.639 ( 1.199)\tData  0.627 ( 0.308)\tLoss 4.2585e+00 (5.2466e+00)\tAcc@1  16.41 (  7.90)\tAcc@5  39.45 ( 20.41)\n",
      "Test: [  0/196]\tTime  4.167 ( 4.167)\tLoss 3.3728e+00 (3.3728e+00)\tAcc@1  25.00 ( 25.00)\tAcc@5  62.11 ( 62.11)\n",
      "Test: [ 50/196]\tTime  1.820 ( 1.200)\tLoss 4.3885e+00 (4.5006e+00)\tAcc@1  11.33 ( 12.81)\tAcc@5  36.33 ( 32.36)\n",
      "Test: [100/196]\tTime  1.618 ( 1.161)\tLoss 5.7713e+00 (4.6114e+00)\tAcc@1   2.73 ( 12.15)\tAcc@5  10.94 ( 30.90)\n",
      "Test: [150/196]\tTime  1.855 ( 1.150)\tLoss 4.9784e+00 (4.6923e+00)\tAcc@1   7.42 ( 11.65)\tAcc@5  19.14 ( 29.21)\n",
      " * Acc@1 12.156 Acc@5 29.892\n",
      "lr: [0.001]\n"
     ]
    },
    {
     "name": "stderr",
     "output_type": "stream",
     "text": [
      "/opt/conda/lib/python3.8/site-packages/torch/optim/lr_scheduler.py:154: UserWarning: The epoch parameter in `scheduler.step()` was not necessary and is being deprecated where possible. Please use `scheduler.step()` to step the scheduler. During the deprecation, if epoch is different from None, the closed form is used instead of the new chainable form, where available. Please open an issue if you are unable to replicate your use case: https://github.com/pytorch/pytorch/issues/new/choose.\n",
      "  warnings.warn(EPOCH_DEPRECATION_WARNING, UserWarning)\n"
     ]
    },
    {
     "name": "stdout",
     "output_type": "stream",
     "text": [
      "Epoch: [1][   0/2503]\tTime  4.284 ( 4.284)\tData  2.557 ( 2.557)\tLoss 4.0899e+00 (4.0899e+00)\tAcc@1  17.19 ( 17.19)\tAcc@5  41.02 ( 41.02)\n",
      "Epoch: [1][  50/2503]\tTime  1.308 ( 1.334)\tData  0.288 ( 0.256)\tLoss 3.9302e+00 (4.1024e+00)\tAcc@1  22.66 ( 18.05)\tAcc@5  48.05 ( 39.51)\n",
      "Epoch: [1][ 100/2503]\tTime  1.516 ( 1.314)\tData  0.451 ( 0.220)\tLoss 3.8952e+00 (4.0790e+00)\tAcc@1  20.31 ( 18.39)\tAcc@5  44.53 ( 40.13)\n",
      "Epoch: [1][ 150/2503]\tTime  1.504 ( 1.308)\tData  0.483 ( 0.209)\tLoss 3.9279e+00 (4.0654e+00)\tAcc@1  20.31 ( 18.65)\tAcc@5  43.36 ( 40.51)\n",
      "Epoch: [1][ 200/2503]\tTime  1.556 ( 1.299)\tData  0.254 ( 0.201)\tLoss 4.0172e+00 (4.0474e+00)\tAcc@1  20.70 ( 19.07)\tAcc@5  40.62 ( 40.95)\n",
      "Epoch: [1][ 250/2503]\tTime  1.472 ( 1.295)\tData  0.250 ( 0.196)\tLoss 3.8399e+00 (4.0397e+00)\tAcc@1  23.44 ( 19.28)\tAcc@5  47.27 ( 41.18)\n",
      "Epoch: [1][ 300/2503]\tTime  1.441 ( 1.293)\tData  0.397 ( 0.193)\tLoss 4.0481e+00 (4.0303e+00)\tAcc@1  18.36 ( 19.37)\tAcc@5  41.80 ( 41.33)\n",
      "Epoch: [1][ 350/2503]\tTime  1.324 ( 1.291)\tData  0.207 ( 0.192)\tLoss 4.0625e+00 (4.0194e+00)\tAcc@1  23.83 ( 19.48)\tAcc@5  39.45 ( 41.51)\n",
      "Epoch: [1][ 400/2503]\tTime  1.466 ( 1.288)\tData  0.149 ( 0.187)\tLoss 4.3022e+00 (4.0136e+00)\tAcc@1  16.80 ( 19.57)\tAcc@5  35.94 ( 41.63)\n",
      "Epoch: [1][ 450/2503]\tTime  1.434 ( 1.287)\tData  0.339 ( 0.185)\tLoss 3.9098e+00 (4.0086e+00)\tAcc@1  19.92 ( 19.63)\tAcc@5  43.75 ( 41.73)\n",
      "Epoch: [1][ 500/2503]\tTime  1.298 ( 1.286)\tData  0.040 ( 0.183)\tLoss 4.1054e+00 (4.0009e+00)\tAcc@1  15.62 ( 19.75)\tAcc@5  42.97 ( 41.86)\n",
      "Epoch: [1][ 550/2503]\tTime  1.345 ( 1.287)\tData  0.000 ( 0.167)\tLoss 3.7920e+00 (3.9951e+00)\tAcc@1  22.27 ( 19.88)\tAcc@5  46.09 ( 41.99)\n",
      "Epoch: [1][ 600/2503]\tTime  1.390 ( 1.289)\tData  0.001 ( 0.153)\tLoss 4.0644e+00 (3.9919e+00)\tAcc@1  19.14 ( 19.93)\tAcc@5  43.36 ( 42.04)\n",
      "Epoch: [1][ 650/2503]\tTime  1.255 ( 1.289)\tData  0.000 ( 0.141)\tLoss 3.9660e+00 (3.9888e+00)\tAcc@1  20.31 ( 19.99)\tAcc@5  44.92 ( 42.16)\n",
      "Epoch: [1][ 700/2503]\tTime  1.249 ( 1.289)\tData  0.000 ( 0.131)\tLoss 4.0706e+00 (3.9831e+00)\tAcc@1  20.31 ( 20.05)\tAcc@5  42.97 ( 42.28)\n",
      "Epoch: [1][ 750/2503]\tTime  1.277 ( 1.290)\tData  0.000 ( 0.123)\tLoss 3.8296e+00 (3.9803e+00)\tAcc@1  19.53 ( 20.09)\tAcc@5  41.02 ( 42.32)\n",
      "Epoch: [1][ 800/2503]\tTime  1.335 ( 1.291)\tData  0.000 ( 0.115)\tLoss 3.9790e+00 (3.9771e+00)\tAcc@1  17.19 ( 20.09)\tAcc@5  42.58 ( 42.40)\n",
      "Epoch: [1][ 850/2503]\tTime  1.336 ( 1.291)\tData  0.000 ( 0.108)\tLoss 3.6785e+00 (3.9745e+00)\tAcc@1  24.22 ( 20.14)\tAcc@5  48.44 ( 42.45)\n",
      "Epoch: [1][ 900/2503]\tTime  1.307 ( 1.292)\tData  0.000 ( 0.102)\tLoss 3.8471e+00 (3.9713e+00)\tAcc@1  23.83 ( 20.20)\tAcc@5  43.75 ( 42.52)\n",
      "Epoch: [1][ 950/2503]\tTime  1.338 ( 1.293)\tData  0.000 ( 0.097)\tLoss 4.0509e+00 (3.9686e+00)\tAcc@1  21.88 ( 20.23)\tAcc@5  42.97 ( 42.57)\n",
      "Epoch: [1][1000/2503]\tTime  1.279 ( 1.293)\tData  0.000 ( 0.092)\tLoss 3.9124e+00 (3.9656e+00)\tAcc@1  21.48 ( 20.28)\tAcc@5  44.14 ( 42.62)\n",
      "Epoch: [1][1050/2503]\tTime  1.299 ( 1.294)\tData  0.000 ( 0.088)\tLoss 3.8581e+00 (3.9627e+00)\tAcc@1  21.09 ( 20.31)\tAcc@5  42.97 ( 42.68)\n",
      "Epoch: [1][1100/2503]\tTime  1.305 ( 1.294)\tData  0.000 ( 0.084)\tLoss 3.8090e+00 (3.9605e+00)\tAcc@1  22.66 ( 20.35)\tAcc@5  44.53 ( 42.72)\n",
      "Epoch: [1][1150/2503]\tTime  1.373 ( 1.295)\tData  0.000 ( 0.080)\tLoss 3.7375e+00 (3.9571e+00)\tAcc@1  19.53 ( 20.39)\tAcc@5  46.09 ( 42.81)\n",
      "Epoch: [1][1200/2503]\tTime  1.347 ( 1.296)\tData  0.000 ( 0.077)\tLoss 3.9024e+00 (3.9539e+00)\tAcc@1  22.66 ( 20.44)\tAcc@5  46.48 ( 42.88)\n",
      "Epoch: [1][1250/2503]\tTime  1.322 ( 1.296)\tData  0.000 ( 0.074)\tLoss 4.0071e+00 (3.9508e+00)\tAcc@1  21.09 ( 20.49)\tAcc@5  44.14 ( 42.95)\n",
      "Epoch: [1][1300/2503]\tTime  1.360 ( 1.297)\tData  0.000 ( 0.071)\tLoss 3.7416e+00 (3.9464e+00)\tAcc@1  21.88 ( 20.55)\tAcc@5  45.31 ( 43.02)\n",
      "Epoch: [1][1350/2503]\tTime  1.343 ( 1.298)\tData  0.000 ( 0.068)\tLoss 4.0025e+00 (3.9438e+00)\tAcc@1  18.75 ( 20.57)\tAcc@5  41.80 ( 43.04)\n",
      "Epoch: [1][1400/2503]\tTime  1.345 ( 1.299)\tData  0.000 ( 0.066)\tLoss 4.0175e+00 (3.9407e+00)\tAcc@1  19.53 ( 20.63)\tAcc@5  39.06 ( 43.10)\n",
      "Epoch: [1][1450/2503]\tTime  1.377 ( 1.300)\tData  0.000 ( 0.064)\tLoss 3.8723e+00 (3.9389e+00)\tAcc@1  21.88 ( 20.64)\tAcc@5  40.62 ( 43.12)\n",
      "Epoch: [1][1500/2503]\tTime  1.406 ( 1.302)\tData  0.000 ( 0.062)\tLoss 3.7384e+00 (3.9373e+00)\tAcc@1  22.66 ( 20.65)\tAcc@5  46.48 ( 43.15)\n",
      "Epoch: [1][1550/2503]\tTime  1.475 ( 1.308)\tData  0.000 ( 0.060)\tLoss 3.8590e+00 (3.9340e+00)\tAcc@1  17.97 ( 20.69)\tAcc@5  42.19 ( 43.21)\n",
      "Epoch: [1][1600/2503]\tTime  1.473 ( 1.313)\tData  0.000 ( 0.058)\tLoss 3.8379e+00 (3.9305e+00)\tAcc@1  18.36 ( 20.76)\tAcc@5  41.02 ( 43.26)\n",
      "Epoch: [1][1650/2503]\tTime  1.458 ( 1.318)\tData  0.000 ( 0.056)\tLoss 3.6912e+00 (3.9275e+00)\tAcc@1  25.00 ( 20.78)\tAcc@5  48.05 ( 43.33)\n",
      "Epoch: [1][1700/2503]\tTime  1.492 ( 1.322)\tData  0.000 ( 0.054)\tLoss 3.9102e+00 (3.9238e+00)\tAcc@1  21.88 ( 20.82)\tAcc@5  46.09 ( 43.39)\n"
     ]
    }
   ],
   "source": [
    "#Initiating weights and biases\n",
    "wandb.watch(model)\n",
    "\n",
    "for epoch in range(START_EPOCH, EPOCHS):\n",
    "    #adjust_learning_rate(optimizer, epoch)\n",
    "    \n",
    "    # train for one epoch\n",
    "    train(train_loader, model, criterion, optimizer, epoch)\n",
    "\n",
    "    # evaluate on validation set\n",
    "    acc1 = validate(val_loader, model, criterion)\n",
    "\n",
    "    # remember best acc@1 and save checkpoint\n",
    "    is_best = acc1 > best_acc1\n",
    "    best_acc1 = max(acc1, best_acc1)\n",
    "\n",
    "\n",
    "    save_checkpoint({\n",
    "        'epoch': epoch + 1,\n",
    "        'arch': ARCH,\n",
    "        'state_dict': model.state_dict(),\n",
    "        'best_acc1': best_acc1,\n",
    "        'optimizer' : optimizer.state_dict(),\n",
    "    }, is_best)\n",
    "    \n",
    "    scheduler.step()\n",
    "    \n",
    "    print('lr: ' + str(scheduler.get_last_lr()))"
   ]
  }
 ],
 "metadata": {
  "kernelspec": {
   "display_name": "Python 3 (ipykernel)",
   "language": "python",
   "name": "python3"
  },
  "language_info": {
   "codemirror_mode": {
    "name": "ipython",
    "version": 3
   },
   "file_extension": ".py",
   "mimetype": "text/x-python",
   "name": "python",
   "nbconvert_exporter": "python",
   "pygments_lexer": "ipython3",
   "version": "3.8.10"
  },
  "papermill": {
   "default_parameters": {},
   "duration": 20457.171706,
   "end_time": "2021-09-27T05:32:20.171145",
   "environment_variables": {},
   "exception": null,
   "input_path": "/data/W251Homework5/Homework5.ipynb",
   "output_path": "/data/W251Homework5/Final.ipynb",
   "parameters": {},
   "start_time": "2021-09-26T23:51:22.999439",
   "version": "2.3.3"
  }
 },
 "nbformat": 4,
 "nbformat_minor": 5
}
