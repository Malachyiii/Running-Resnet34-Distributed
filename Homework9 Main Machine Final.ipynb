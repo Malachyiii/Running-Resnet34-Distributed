{
 "cells": [
  {
   "cell_type": "code",
   "execution_count": 1,
   "id": "dd9de0c0",
   "metadata": {
    "execution": {
     "iopub.execute_input": "2021-10-22T16:29:40.088964Z",
     "iopub.status.busy": "2021-10-22T16:29:40.088387Z",
     "iopub.status.idle": "2021-10-22T16:29:41.243261Z",
     "shell.execute_reply": "2021-10-22T16:29:41.243644Z"
    },
    "papermill": {
     "duration": 1.172854,
     "end_time": "2021-10-22T16:29:41.243853",
     "exception": false,
     "start_time": "2021-10-22T16:29:40.070999",
     "status": "completed"
    },
    "tags": []
   },
   "outputs": [],
   "source": [
    "import os\n",
    "import random\n",
    "import shutil\n",
    "import time\n",
    "import warnings\n",
    "\n",
    "import torch\n",
    "import torch.nn as nn\n",
    "import torch.backends.cudnn as cudnn\n",
    "import torch.optim\n",
    "import torch.cuda.amp as amp\n",
    "\n",
    "import torch.utils.data\n",
    "import torchvision\n",
    "import torchvision.transforms as transforms\n",
    "import torchvision.datasets as datasets\n",
    "import torchvision.models as models\n",
    "\n",
    "#importing distributed and weights and biases\n",
    "import torch.distributed as dist\n",
    "import wandb"
   ]
  },
  {
   "cell_type": "code",
   "execution_count": 2,
   "id": "bdcad954",
   "metadata": {
    "execution": {
     "iopub.execute_input": "2021-10-22T16:29:41.268460Z",
     "iopub.status.busy": "2021-10-22T16:29:41.268054Z",
     "iopub.status.idle": "2021-10-22T16:29:42.878410Z",
     "shell.execute_reply": "2021-10-22T16:29:42.878750Z"
    },
    "papermill": {
     "duration": 1.624593,
     "end_time": "2021-10-22T16:29:42.878870",
     "exception": false,
     "start_time": "2021-10-22T16:29:41.254277",
     "status": "completed"
    },
    "tags": []
   },
   "outputs": [
    {
     "name": "stderr",
     "output_type": "stream",
     "text": [
      "Failed to detect the name of this notebook, you can set it manually with the WANDB_NOTEBOOK_NAME environment variable to enable code saving.\n"
     ]
    },
    {
     "name": "stderr",
     "output_type": "stream",
     "text": [
      "\u001b[34m\u001b[1mwandb\u001b[0m: Currently logged in as: \u001b[33mmalachyiii\u001b[0m (use `wandb login --relogin` to force relogin)\n"
     ]
    },
    {
     "name": "stderr",
     "output_type": "stream",
     "text": [
      "\n",
      "CondaEnvException: Unable to determine environment\n",
      "\n",
      "Please re-run this command with one of the following options:\n",
      "\n",
      "* Provide an environment name via --name or -n\n",
      "* Re-run this command inside an activated conda environment.\n",
      "\n"
     ]
    },
    {
     "data": {
      "text/html": [
       "\n",
       "                    Syncing run <strong><a href=\"https://wandb.ai/malachyiii/Homework9-take2/runs/3chifpbo\" target=\"_blank\">super-breeze-3</a></strong> to <a href=\"https://wandb.ai/malachyiii/Homework9-take2\" target=\"_blank\">Weights & Biases</a> (<a href=\"https://docs.wandb.com/integrations/jupyter.html\" target=\"_blank\">docs</a>).<br/>\n",
       "\n",
       "                "
      ],
      "text/plain": [
       "<IPython.core.display.HTML object>"
      ]
     },
     "metadata": {},
     "output_type": "display_data"
    },
    {
     "data": {
      "text/html": [
       "<button onClick=\"this.nextSibling.style.display='block';this.style.display='none';\">Display W&B run</button><iframe src=\"https://wandb.ai/malachyiii/Homework9-take2/runs/3chifpbo?jupyter=true\" style=\"border:none;width:100%;height:420px;display:none;\"></iframe>"
      ],
      "text/plain": [
       "<wandb.sdk.wandb_run.Run at 0x7f47cddbb370>"
      ]
     },
     "execution_count": 2,
     "metadata": {},
     "output_type": "execute_result"
    }
   ],
   "source": [
    "wandb.init(project='Homework9-take2', entity='malachyiii')"
   ]
  },
  {
   "cell_type": "code",
   "execution_count": 3,
   "id": "079fb626",
   "metadata": {
    "execution": {
     "iopub.execute_input": "2021-10-22T16:29:42.950881Z",
     "iopub.status.busy": "2021-10-22T16:29:42.949021Z",
     "iopub.status.idle": "2021-10-22T16:29:42.954190Z",
     "shell.execute_reply": "2021-10-22T16:29:42.954497Z"
    },
    "papermill": {
     "duration": 0.064492,
     "end_time": "2021-10-22T16:29:42.954608",
     "exception": false,
     "start_time": "2021-10-22T16:29:42.890116",
     "status": "completed"
    },
    "tags": []
   },
   "outputs": [
    {
     "name": "stdout",
     "output_type": "stream",
     "text": [
      "True\n",
      "0\n",
      "1\n",
      "Tesla T4\n"
     ]
    }
   ],
   "source": [
    "print(torch.cuda.is_available())\n",
    "print(torch.cuda.current_device())\n",
    "torch.cuda.device(0)\n",
    "print(torch.cuda.device_count())\n",
    "print(torch.cuda.get_device_name(0))\n",
    "torch.cuda.empty_cache()"
   ]
  },
  {
   "cell_type": "code",
   "execution_count": 4,
   "id": "37648e86",
   "metadata": {
    "execution": {
     "iopub.execute_input": "2021-10-22T16:29:42.984619Z",
     "iopub.status.busy": "2021-10-22T16:29:42.983850Z",
     "iopub.status.idle": "2021-10-22T16:29:42.986612Z",
     "shell.execute_reply": "2021-10-22T16:29:42.986123Z"
    },
    "papermill": {
     "duration": 0.020876,
     "end_time": "2021-10-22T16:29:42.986713",
     "exception": false,
     "start_time": "2021-10-22T16:29:42.965837",
     "status": "completed"
    },
    "tags": []
   },
   "outputs": [],
   "source": [
    "SEED=1\n",
    "random.seed(SEED)\n",
    "torch.manual_seed(SEED)\n",
    "cudnn.deterministic = True"
   ]
  },
  {
   "cell_type": "code",
   "execution_count": 5,
   "id": "4100daf5",
   "metadata": {
    "execution": {
     "iopub.execute_input": "2021-10-22T16:29:43.018135Z",
     "iopub.status.busy": "2021-10-22T16:29:43.017480Z",
     "iopub.status.idle": "2021-10-22T16:29:43.323496Z",
     "shell.execute_reply": "2021-10-22T16:29:43.322687Z"
    },
    "papermill": {
     "duration": 0.322724,
     "end_time": "2021-10-22T16:29:43.323635",
     "exception": false,
     "start_time": "2021-10-22T16:29:43.000911",
     "status": "completed"
    },
    "tags": [
     "parameters"
    ]
   },
   "outputs": [],
   "source": [
    "#Trying resnet34 because it is fast\n",
    "ARCH = torchvision.models.resnet34(pretrained=False)\n",
    "START_EPOCH = 0\n",
    "EPOCHS = 3\n",
    "\n",
    "#The following parameters based on the paper at https://arxiv.org/pdf/1512.03385.pdf\n",
    "TRAIN_BATCH=256\n",
    "VAL_BATCH=256\n",
    "MOMENTUM = 0.9\n",
    "WEIGHT_DECAY = 1e-4\n",
    "LR = 0.01\n",
    "IMG_SIZE = 224\n",
    "\n",
    "#Logging wandb config\n",
    "\n",
    "wandb.config = {\n",
    "  \"learning_rate\": LR,\n",
    "  \"epochs\": EPOCHS,\n",
    "  \"batch_size\": TRAIN_BATCH,\n",
    "  \"momentum\": MOMENTUM,\n",
    "  \"weight_decay\": WEIGHT_DECAY,\n",
    "  \"image_size\": IMG_SIZE\n",
    "}\n",
    "\n",
    "PRINT_FREQ = 50\n",
    "WORKERS=2\n",
    "\n",
    "TRAINDIR=\"/data/train\"\n",
    "VALDIR=\"/data/val\""
   ]
  },
  {
   "cell_type": "code",
   "execution_count": 6,
   "id": "a932c17d",
   "metadata": {
    "execution": {
     "iopub.execute_input": "2021-10-22T16:29:43.351994Z",
     "iopub.status.busy": "2021-10-22T16:29:43.351497Z",
     "iopub.status.idle": "2021-10-22T16:29:43.354472Z",
     "shell.execute_reply": "2021-10-22T16:29:43.354147Z"
    },
    "papermill": {
     "duration": 0.017952,
     "end_time": "2021-10-22T16:29:43.354556",
     "exception": false,
     "start_time": "2021-10-22T16:29:43.336604",
     "status": "completed"
    },
    "tags": []
   },
   "outputs": [],
   "source": [
    "GPU = torch.cuda.current_device()\n",
    "torch.cuda.device(GPU)\n",
    "cudnn.benchmark = True"
   ]
  },
  {
   "cell_type": "code",
   "execution_count": 7,
   "id": "2c8fc071",
   "metadata": {
    "execution": {
     "iopub.execute_input": "2021-10-22T16:29:43.380742Z",
     "iopub.status.busy": "2021-10-22T16:29:43.380043Z",
     "iopub.status.idle": "2021-10-22T16:29:43.382361Z",
     "shell.execute_reply": "2021-10-22T16:29:43.381965Z"
    },
    "papermill": {
     "duration": 0.016584,
     "end_time": "2021-10-22T16:29:43.382463",
     "exception": false,
     "start_time": "2021-10-22T16:29:43.365879",
     "status": "completed"
    },
    "tags": []
   },
   "outputs": [],
   "source": [
    "if not torch.cuda.is_available():\n",
    "    print('GPU not detected.. did you pass through your GPU?')"
   ]
  },
  {
   "cell_type": "code",
   "execution_count": 8,
   "id": "6090a831",
   "metadata": {
    "execution": {
     "iopub.execute_input": "2021-10-22T16:30:18.005401Z",
     "iopub.status.busy": "2021-10-22T16:30:17.987902Z",
     "iopub.status.idle": "2021-10-22T16:30:18.006153Z",
     "shell.execute_reply": "2021-10-22T16:30:18.005812Z"
    },
    "papermill": {
     "duration": 34.608291,
     "end_time": "2021-10-22T16:30:18.006242",
     "exception": false,
     "start_time": "2021-10-22T16:29:43.397951",
     "status": "completed"
    },
    "tags": []
   },
   "outputs": [],
   "source": [
    "#Setting up the cluster and the world\n",
    "WORLD_SIZE = 2\n",
    "BACKEND = 'nccl'\n",
    "URL = 'tcp://35.163.183.149:5000'\n",
    "RANK = 0\n",
    "\n",
    "dist.init_process_group(backend = BACKEND, init_method= URL,\n",
    "                                world_size= WORLD_SIZE, rank=RANK)"
   ]
  },
  {
   "cell_type": "code",
   "execution_count": 9,
   "id": "4bb7f434",
   "metadata": {
    "execution": {
     "iopub.execute_input": "2021-10-22T16:30:18.032647Z",
     "iopub.status.busy": "2021-10-22T16:30:18.032088Z",
     "iopub.status.idle": "2021-10-22T16:30:18.034551Z",
     "shell.execute_reply": "2021-10-22T16:30:18.034128Z"
    },
    "papermill": {
     "duration": 0.017041,
     "end_time": "2021-10-22T16:30:18.034651",
     "exception": false,
     "start_time": "2021-10-22T16:30:18.017610",
     "status": "completed"
    },
    "tags": []
   },
   "outputs": [],
   "source": [
    "imagenet_mean_RGB = [0.47889522, 0.47227842, 0.43047404]\n",
    "imagenet_std_RGB = [0.229, 0.224, 0.225]"
   ]
  },
  {
   "cell_type": "code",
   "execution_count": 10,
   "id": "12afc99d",
   "metadata": {
    "execution": {
     "iopub.execute_input": "2021-10-22T16:30:18.064841Z",
     "iopub.status.busy": "2021-10-22T16:30:18.064265Z",
     "iopub.status.idle": "2021-10-22T16:30:22.401032Z",
     "shell.execute_reply": "2021-10-22T16:30:22.401388Z"
    },
    "papermill": {
     "duration": 4.352643,
     "end_time": "2021-10-22T16:30:22.401520",
     "exception": false,
     "start_time": "2021-10-22T16:30:18.048877",
     "status": "completed"
    },
    "tags": []
   },
   "outputs": [],
   "source": [
    "transform_train = transforms.Compose([\n",
    "    transforms.Resize((IMG_SIZE, IMG_SIZE)),\n",
    "    # transformations based on https://arxiv.org/pdf/1512.03385.pdf\n",
    "    transforms.RandomHorizontalFlip(),\n",
    "    transforms.ToTensor(),\n",
    "    transforms.Normalize(imagenet_mean_RGB, imagenet_std_RGB),\n",
    "])\n",
    "\n",
    "transform_val = transforms.Compose([\n",
    "    transforms.Resize((IMG_SIZE, IMG_SIZE)),\n",
    "    transforms.ToTensor(),\n",
    "    transforms.Normalize(imagenet_mean_RGB, imagenet_std_RGB),\n",
    "])\n",
    "\n",
    "train_dataset = torchvision.datasets.ImageFolder('/data/train', transform=transform_train)\n",
    "val_dataset = torchvision.datasets.ImageFolder('/data/val', transform=transform_val)"
   ]
  },
  {
   "cell_type": "code",
   "execution_count": 11,
   "id": "2e1d3867",
   "metadata": {
    "execution": {
     "iopub.execute_input": "2021-10-22T16:30:22.429121Z",
     "iopub.status.busy": "2021-10-22T16:30:22.428623Z",
     "iopub.status.idle": "2021-10-22T16:30:22.430978Z",
     "shell.execute_reply": "2021-10-22T16:30:22.430582Z"
    },
    "papermill": {
     "duration": 0.017926,
     "end_time": "2021-10-22T16:30:22.431061",
     "exception": false,
     "start_time": "2021-10-22T16:30:22.413135",
     "status": "completed"
    },
    "tags": []
   },
   "outputs": [],
   "source": [
    "#Setting up the train loader with a distributed Sampler\n",
    "train_loader = torch.utils.data.DataLoader(train_dataset, batch_size=TRAIN_BATCH, \n",
    "                              shuffle=False, num_workers=WORKERS, pin_memory=True, \n",
    "                                           sampler=torch.utils.data.distributed.DistributedSampler(train_dataset))\n",
    "val_loader = torch.utils.data.DataLoader(val_dataset, batch_size=VAL_BATCH, \n",
    "                              shuffle=False, num_workers=WORKERS, sampler=None)"
   ]
  },
  {
   "cell_type": "code",
   "execution_count": 12,
   "id": "aa40c46f",
   "metadata": {
    "execution": {
     "iopub.execute_input": "2021-10-22T16:30:22.461291Z",
     "iopub.status.busy": "2021-10-22T16:30:22.459414Z",
     "iopub.status.idle": "2021-10-22T16:30:22.462945Z",
     "shell.execute_reply": "2021-10-22T16:30:22.463285Z"
    },
    "papermill": {
     "duration": 0.02123,
     "end_time": "2021-10-22T16:30:22.463381",
     "exception": false,
     "start_time": "2021-10-22T16:30:22.442151",
     "status": "completed"
    },
    "tags": []
   },
   "outputs": [],
   "source": [
    "def train(train_loader, model, criterion, optimizer, epoch):\n",
    "    batch_time = AverageMeter('Time', ':6.3f')\n",
    "    data_time = AverageMeter('Data', ':6.3f')\n",
    "    losses = AverageMeter('Loss', ':.4e')\n",
    "    top1 = AverageMeter('Acc@1', ':6.2f')\n",
    "    top5 = AverageMeter('Acc@5', ':6.2f')\n",
    "    progress = ProgressMeter(\n",
    "        len(train_loader),\n",
    "        [batch_time, data_time, losses, top1, top5],\n",
    "        prefix=\"Epoch: [{}]\".format(epoch))\n",
    "    \n",
    "    ######################\n",
    "    # switch model to train mode here\n",
    "    model.train()\n",
    "    ################\n",
    "\n",
    "    end = time.time()\n",
    "    for i, (images, target) in enumerate(train_loader):\n",
    "        # measure data loading time\n",
    "        data_time.update(time.time() - end)\n",
    "\n",
    "        #####################\n",
    "        # send the images to cuda device\n",
    "        if GPU is not None:\n",
    "            images, target = images.cuda(GPU, non_blocking = True), target.cuda(GPU, non_blocking = True)\n",
    "        # send the target to cuda device\n",
    "\n",
    "        \n",
    "        ####Utilizing PyTorch native AMP####\n",
    "        with amp.autocast():\n",
    "            # compute output\n",
    "            output = model(images)\n",
    "            # compute loss \n",
    "            loss = criterion(output, target)\n",
    "        \n",
    "        \n",
    "        # measure accuracy and record loss\n",
    "        acc1, acc5 = accuracy(output, target, topk=(1, 5))\n",
    "        losses.update(loss.item(), images.size(0))\n",
    "        top1.update(acc1[0], images.size(0))\n",
    "        top5.update(acc5[0], images.size(0))\n",
    "        \n",
    "        #Logging the metrics\n",
    "        wandb.log({\"loss\": loss,\n",
    "                   \"acc1\": acc1,\n",
    "                   \"acc5\": acc5})\n",
    "        \n",
    "        wandb.watch(model)\n",
    "\n",
    "        # compute gradient and do SGD step\n",
    "        \n",
    "        #### zero out gradients in the optimier\n",
    "        optimizer.zero_grad()\n",
    "        \n",
    "        ## backprop!\n",
    "        scaler.scale(loss).backward()\n",
    "        \n",
    "        # update the weights!\n",
    "        scaler.step(optimizer)\n",
    "        scaler.update()\n",
    "\n",
    "        # measure elapsed time\n",
    "        batch_time.update(time.time() - end)\n",
    "        end = time.time()\n",
    "\n",
    "        if i % PRINT_FREQ == 0:\n",
    "            progress.display(i)"
   ]
  },
  {
   "cell_type": "code",
   "execution_count": 13,
   "id": "72d80192",
   "metadata": {
    "execution": {
     "iopub.execute_input": "2021-10-22T16:30:22.494287Z",
     "iopub.status.busy": "2021-10-22T16:30:22.493584Z",
     "iopub.status.idle": "2021-10-22T16:30:22.495955Z",
     "shell.execute_reply": "2021-10-22T16:30:22.495568Z"
    },
    "papermill": {
     "duration": 0.021586,
     "end_time": "2021-10-22T16:30:22.496058",
     "exception": false,
     "start_time": "2021-10-22T16:30:22.474472",
     "status": "completed"
    },
    "tags": []
   },
   "outputs": [],
   "source": [
    "def validate(val_loader, model, criterion):\n",
    "    batch_time = AverageMeter('Time', ':6.3f')\n",
    "    losses = AverageMeter('Loss', ':.4e')\n",
    "    top1 = AverageMeter('Acc@1', ':6.2f')\n",
    "    top5 = AverageMeter('Acc@5', ':6.2f')\n",
    "    progress = ProgressMeter(\n",
    "        len(val_loader),\n",
    "        [batch_time, losses, top1, top5],\n",
    "        prefix='Test: ')\n",
    "\n",
    "    # switch to evaluate mode\n",
    "    model.eval()\n",
    "\n",
    "    with torch.no_grad():\n",
    "        end = time.time()\n",
    "        for i, (images, target) in enumerate(val_loader):\n",
    "            \n",
    "            \n",
    "            ### send the images and target to cuda\n",
    "            images, target = images.to(GPU), target.to(GPU)\n",
    "\n",
    "            # compute output\n",
    "            output = model(images)\n",
    "\n",
    "            # compute loss\n",
    "            loss = criterion(output, target)\n",
    "\n",
    "\n",
    "            # measure accuracy and record loss\n",
    "            acc1, acc5 = accuracy(output, target, topk=(1, 5))\n",
    "            losses.update(loss.item(), images.size(0))\n",
    "            top1.update(acc1[0], images.size(0))\n",
    "            top5.update(acc5[0], images.size(0))\n",
    "\n",
    "            # measure elapsed time\n",
    "            batch_time.update(time.time() - end)\n",
    "            end = time.time()\n",
    "\n",
    "            if i % PRINT_FREQ == 0:\n",
    "                progress.display(i)\n",
    "\n",
    "        # TODO: this should also be done with the ProgressMeter\n",
    "        print(' * Acc@1 {top1.avg:.3f} Acc@5 {top5.avg:.3f}'\n",
    "              .format(top1=top1, top5=top5))\n",
    "\n",
    "    return top1.avg"
   ]
  },
  {
   "cell_type": "code",
   "execution_count": 14,
   "id": "838e3127",
   "metadata": {
    "execution": {
     "iopub.execute_input": "2021-10-22T16:30:22.522968Z",
     "iopub.status.busy": "2021-10-22T16:30:22.522182Z",
     "iopub.status.idle": "2021-10-22T16:30:22.525105Z",
     "shell.execute_reply": "2021-10-22T16:30:22.524707Z"
    },
    "papermill": {
     "duration": 0.016989,
     "end_time": "2021-10-22T16:30:22.525183",
     "exception": false,
     "start_time": "2021-10-22T16:30:22.508194",
     "status": "completed"
    },
    "tags": []
   },
   "outputs": [],
   "source": [
    "def save_checkpoint(state, is_best, filename='checkpoint.pth.tar'):\n",
    "    # save the model state!\n",
    "    torch.save(state, filename) \n",
    "    if is_best:\n",
    "        shutil.copyfile(filename, 'model_best.pth.tar')"
   ]
  },
  {
   "cell_type": "code",
   "execution_count": 15,
   "id": "b2dff931",
   "metadata": {
    "execution": {
     "iopub.execute_input": "2021-10-22T16:30:22.552549Z",
     "iopub.status.busy": "2021-10-22T16:30:22.551439Z",
     "iopub.status.idle": "2021-10-22T16:30:22.554918Z",
     "shell.execute_reply": "2021-10-22T16:30:22.554567Z"
    },
    "papermill": {
     "duration": 0.018482,
     "end_time": "2021-10-22T16:30:22.554994",
     "exception": false,
     "start_time": "2021-10-22T16:30:22.536512",
     "status": "completed"
    },
    "tags": []
   },
   "outputs": [],
   "source": [
    "class AverageMeter(object):\n",
    "    \"\"\"Computes and stores the average and current value\"\"\"\n",
    "    def __init__(self, name, fmt=':f'):\n",
    "        self.name = name\n",
    "        self.fmt = fmt\n",
    "        self.reset()\n",
    "\n",
    "    def reset(self):\n",
    "        self.val = 0\n",
    "        self.avg = 0\n",
    "        self.sum = 0\n",
    "        self.count = 0\n",
    "\n",
    "    def update(self, val, n=1):\n",
    "        self.val = val\n",
    "        self.sum += val * n\n",
    "        self.count += n\n",
    "        self.avg = self.sum / self.count\n",
    "\n",
    "    def __str__(self):\n",
    "        fmtstr = '{name} {val' + self.fmt + '} ({avg' + self.fmt + '})'\n",
    "        return fmtstr.format(**self.__dict__)"
   ]
  },
  {
   "cell_type": "code",
   "execution_count": 16,
   "id": "9a103b17",
   "metadata": {
    "execution": {
     "iopub.execute_input": "2021-10-22T16:30:22.582139Z",
     "iopub.status.busy": "2021-10-22T16:30:22.581677Z",
     "iopub.status.idle": "2021-10-22T16:30:22.584167Z",
     "shell.execute_reply": "2021-10-22T16:30:22.583773Z"
    },
    "papermill": {
     "duration": 0.018021,
     "end_time": "2021-10-22T16:30:22.584244",
     "exception": false,
     "start_time": "2021-10-22T16:30:22.566223",
     "status": "completed"
    },
    "tags": []
   },
   "outputs": [],
   "source": [
    "class ProgressMeter(object):\n",
    "    def __init__(self, num_batches, meters, prefix=\"\"):\n",
    "        self.batch_fmtstr = self._get_batch_fmtstr(num_batches)\n",
    "        self.meters = meters\n",
    "        self.prefix = prefix\n",
    "\n",
    "    def display(self, batch):\n",
    "        entries = [self.prefix + self.batch_fmtstr.format(batch)]\n",
    "        entries += [str(meter) for meter in self.meters]\n",
    "        print('\\t'.join(entries))\n",
    "\n",
    "    def _get_batch_fmtstr(self, num_batches):\n",
    "        num_digits = len(str(num_batches // 1))\n",
    "        fmt = '{:' + str(num_digits) + 'd}'\n",
    "        return '[' + fmt + '/' + fmt.format(num_batches) + ']'"
   ]
  },
  {
   "cell_type": "code",
   "execution_count": 17,
   "id": "86da0c68",
   "metadata": {
    "execution": {
     "iopub.execute_input": "2021-10-22T16:30:22.610818Z",
     "iopub.status.busy": "2021-10-22T16:30:22.609708Z",
     "iopub.status.idle": "2021-10-22T16:30:22.612833Z",
     "shell.execute_reply": "2021-10-22T16:30:22.613222Z"
    },
    "papermill": {
     "duration": 0.017835,
     "end_time": "2021-10-22T16:30:22.613335",
     "exception": false,
     "start_time": "2021-10-22T16:30:22.595500",
     "status": "completed"
    },
    "tags": []
   },
   "outputs": [],
   "source": [
    "def accuracy(output, target, topk=(1,)):\n",
    "    \"\"\"Computes the accuracy over the k top predictions for the specified values of k\"\"\"\n",
    "    with torch.no_grad():\n",
    "        maxk = max(topk)\n",
    "        batch_size = target.size(0)\n",
    "\n",
    "        _, pred = output.topk(maxk, 1, True, True)\n",
    "        pred = pred.t()\n",
    "        correct = pred.eq(target.view(1, -1).expand_as(pred))\n",
    "\n",
    "        res = []\n",
    "        for k in topk:\n",
    "            correct_k = correct[:k].reshape(-1).float().sum(0, keepdim=True)\n",
    "            res.append(correct_k.mul_(100.0 / batch_size))\n",
    "        return res"
   ]
  },
  {
   "cell_type": "code",
   "execution_count": 18,
   "id": "3278a210",
   "metadata": {
    "execution": {
     "iopub.execute_input": "2021-10-22T16:30:22.641941Z",
     "iopub.status.busy": "2021-10-22T16:30:22.640987Z",
     "iopub.status.idle": "2021-10-22T16:30:22.643703Z",
     "shell.execute_reply": "2021-10-22T16:30:22.644175Z"
    },
    "papermill": {
     "duration": 0.016757,
     "end_time": "2021-10-22T16:30:22.644286",
     "exception": false,
     "start_time": "2021-10-22T16:30:22.627529",
     "status": "completed"
    },
    "tags": []
   },
   "outputs": [],
   "source": [
    "def adjust_learning_rate(optimizer, epoch):\n",
    "    \"\"\"Sets the learning rate to the initial LR decayed by 10 every 1/3 of the epochs\"\"\"\n",
    "    lr = LR * (0.1 ** (epoch // int(round(EPOCHS/3, 0))))\n",
    "    for param_group in optimizer.param_groups:\n",
    "        param_group['lr'] = lr"
   ]
  },
  {
   "cell_type": "code",
   "execution_count": 19,
   "id": "586e837c",
   "metadata": {
    "execution": {
     "iopub.execute_input": "2021-10-22T16:30:22.672788Z",
     "iopub.status.busy": "2021-10-22T16:30:22.672001Z",
     "iopub.status.idle": "2021-10-22T16:30:22.675371Z",
     "shell.execute_reply": "2021-10-22T16:30:22.674832Z"
    },
    "papermill": {
     "duration": 0.016937,
     "end_time": "2021-10-22T16:30:22.675471",
     "exception": false,
     "start_time": "2021-10-22T16:30:22.658534",
     "status": "completed"
    },
    "tags": []
   },
   "outputs": [],
   "source": [
    "normalize = transforms.Normalize(mean=imagenet_mean_RGB, std=imagenet_std_RGB)"
   ]
  },
  {
   "cell_type": "code",
   "execution_count": 20,
   "id": "3bd7adac",
   "metadata": {
    "execution": {
     "iopub.execute_input": "2021-10-22T16:30:22.703594Z",
     "iopub.status.busy": "2021-10-22T16:30:22.702842Z",
     "iopub.status.idle": "2021-10-22T16:30:26.727223Z",
     "shell.execute_reply": "2021-10-22T16:30:26.727834Z"
    },
    "papermill": {
     "duration": 4.03837,
     "end_time": "2021-10-22T16:30:26.728060",
     "exception": false,
     "start_time": "2021-10-22T16:30:22.689690",
     "status": "completed"
    },
    "scrolled": false,
    "tags": []
   },
   "outputs": [],
   "source": [
    "model = ARCH\n",
    "model.cuda(GPU)\n",
    "model = torch.nn.parallel.DistributedDataParallel(model, device_ids=[GPU])"
   ]
  },
  {
   "cell_type": "code",
   "execution_count": 21,
   "id": "395c7abd",
   "metadata": {
    "execution": {
     "iopub.execute_input": "2021-10-22T16:30:26.766380Z",
     "iopub.status.busy": "2021-10-22T16:30:26.765949Z",
     "iopub.status.idle": "2021-10-22T16:30:26.767851Z",
     "shell.execute_reply": "2021-10-22T16:30:26.768149Z"
    },
    "papermill": {
     "duration": 0.018141,
     "end_time": "2021-10-22T16:30:26.768256",
     "exception": false,
     "start_time": "2021-10-22T16:30:26.750115",
     "status": "completed"
    },
    "tags": []
   },
   "outputs": [],
   "source": [
    "criterion = nn.CrossEntropyLoss().cuda(GPU)\n",
    "optimizer = torch.optim.SGD(params = model.parameters(), lr=LR, momentum=MOMENTUM, weight_decay=WEIGHT_DECAY)\n",
    "#Based on the same paper, https://arxiv.org/pdf/1512.03385.pdf\n",
    "scheduler = torch.optim.lr_scheduler.MultiStepLR(optimizer, milestones=[2])\n",
    "scaler = amp.GradScaler()"
   ]
  },
  {
   "cell_type": "code",
   "execution_count": 22,
   "id": "637a5f63",
   "metadata": {
    "execution": {
     "iopub.execute_input": "2021-10-22T16:30:26.793921Z",
     "iopub.status.busy": "2021-10-22T16:30:26.793492Z",
     "iopub.status.idle": "2021-10-22T16:30:26.795551Z",
     "shell.execute_reply": "2021-10-22T16:30:26.795857Z"
    },
    "papermill": {
     "duration": 0.016258,
     "end_time": "2021-10-22T16:30:26.795951",
     "exception": false,
     "start_time": "2021-10-22T16:30:26.779693",
     "status": "completed"
    },
    "tags": []
   },
   "outputs": [],
   "source": [
    "best_acc1 = 0"
   ]
  },
  {
   "cell_type": "code",
   "execution_count": 23,
   "id": "8d19ecbb",
   "metadata": {
    "execution": {
     "iopub.execute_input": "2021-10-22T16:30:26.824591Z",
     "iopub.status.busy": "2021-10-22T16:30:26.822100Z",
     "iopub.status.idle": "2021-10-22T19:47:03.338133Z",
     "shell.execute_reply": "2021-10-22T19:47:03.338459Z"
    },
    "papermill": {
     "duration": 11796.531899,
     "end_time": "2021-10-22T19:47:03.339143",
     "exception": false,
     "start_time": "2021-10-22T16:30:26.807244",
     "status": "completed"
    },
    "tags": []
   },
   "outputs": [
    {
     "name": "stdout",
     "output_type": "stream",
     "text": [
      "Epoch: [0][   0/2503]\tTime  9.991 ( 9.991)\tData  2.178 ( 2.178)\tLoss 7.0532e+00 (7.0532e+00)\tAcc@1   0.00 (  0.00)\tAcc@5   0.78 (  0.78)\n"
     ]
    },
    {
     "name": "stdout",
     "output_type": "stream",
     "text": [
      "Epoch: [0][  50/2503]\tTime  1.503 ( 1.192)\tData  0.980 ( 0.391)\tLoss 6.8969e+00 (6.9580e+00)\tAcc@1   0.00 (  0.14)\tAcc@5   0.78 (  0.66)\n"
     ]
    },
    {
     "name": "stdout",
     "output_type": "stream",
     "text": [
      "Epoch: [0][ 100/2503]\tTime  1.179 ( 1.121)\tData  0.653 ( 0.407)\tLoss 6.8353e+00 (6.9162e+00)\tAcc@1   0.00 (  0.19)\tAcc@5   0.78 (  0.84)\n"
     ]
    },
    {
     "name": "stdout",
     "output_type": "stream",
     "text": [
      "Epoch: [0][ 150/2503]\tTime  1.471 ( 1.099)\tData  0.799 ( 0.400)\tLoss 6.7175e+00 (6.8811e+00)\tAcc@1   0.00 (  0.23)\tAcc@5   1.95 (  1.06)\n"
     ]
    },
    {
     "name": "stdout",
     "output_type": "stream",
     "text": [
      "Epoch: [0][ 200/2503]\tTime  1.611 ( 1.079)\tData  0.935 ( 0.413)\tLoss 6.6621e+00 (6.8423e+00)\tAcc@1   1.56 (  0.32)\tAcc@5   2.34 (  1.35)\n"
     ]
    },
    {
     "name": "stdout",
     "output_type": "stream",
     "text": [
      "Epoch: [0][ 250/2503]\tTime  1.476 ( 1.069)\tData  0.791 ( 0.416)\tLoss 6.6102e+00 (6.7968e+00)\tAcc@1   0.39 (  0.43)\tAcc@5   1.95 (  1.67)\n"
     ]
    },
    {
     "name": "stdout",
     "output_type": "stream",
     "text": [
      "Epoch: [0][ 300/2503]\tTime  1.025 ( 1.068)\tData  0.501 ( 0.404)\tLoss 6.4411e+00 (6.7465e+00)\tAcc@1   0.78 (  0.53)\tAcc@5   3.91 (  2.01)\n"
     ]
    },
    {
     "name": "stdout",
     "output_type": "stream",
     "text": [
      "Epoch: [0][ 350/2503]\tTime  1.365 ( 1.062)\tData  0.774 ( 0.405)\tLoss 6.3355e+00 (6.6948e+00)\tAcc@1   1.95 (  0.63)\tAcc@5   7.42 (  2.39)\n"
     ]
    },
    {
     "name": "stdout",
     "output_type": "stream",
     "text": [
      "Epoch: [0][ 400/2503]\tTime  1.539 ( 1.059)\tData  0.672 ( 0.410)\tLoss 6.3350e+00 (6.6410e+00)\tAcc@1   0.78 (  0.74)\tAcc@5   3.52 (  2.81)\n"
     ]
    },
    {
     "name": "stdout",
     "output_type": "stream",
     "text": [
      "Epoch: [0][ 450/2503]\tTime  1.468 ( 1.056)\tData  0.792 ( 0.413)\tLoss 6.1409e+00 (6.5928e+00)\tAcc@1   1.17 (  0.83)\tAcc@5   6.64 (  3.14)\n"
     ]
    },
    {
     "name": "stdout",
     "output_type": "stream",
     "text": [
      "Epoch: [0][ 500/2503]\tTime  1.353 ( 1.053)\tData  0.805 ( 0.415)\tLoss 6.2126e+00 (6.5421e+00)\tAcc@1   1.17 (  0.94)\tAcc@5   5.47 (  3.52)\n"
     ]
    },
    {
     "name": "stdout",
     "output_type": "stream",
     "text": [
      "Epoch: [0][ 550/2503]\tTime  1.392 ( 1.053)\tData  0.836 ( 0.415)\tLoss 5.8279e+00 (6.4936e+00)\tAcc@1   2.73 (  1.06)\tAcc@5  10.94 (  3.93)\n"
     ]
    },
    {
     "name": "stdout",
     "output_type": "stream",
     "text": [
      "Epoch: [0][ 600/2503]\tTime  1.629 ( 1.051)\tData  1.072 ( 0.417)\tLoss 6.0452e+00 (6.4464e+00)\tAcc@1   3.12 (  1.18)\tAcc@5  11.33 (  4.35)\n"
     ]
    },
    {
     "name": "stdout",
     "output_type": "stream",
     "text": [
      "Epoch: [0][ 650/2503]\tTime  1.648 ( 1.050)\tData  1.089 ( 0.418)\tLoss 5.8316e+00 (6.3995e+00)\tAcc@1   3.12 (  1.33)\tAcc@5   8.59 (  4.80)\n"
     ]
    },
    {
     "name": "stdout",
     "output_type": "stream",
     "text": [
      "Epoch: [0][ 700/2503]\tTime  1.420 ( 1.048)\tData  0.685 ( 0.419)\tLoss 5.8583e+00 (6.3540e+00)\tAcc@1   1.95 (  1.47)\tAcc@5  10.55 (  5.25)\n"
     ]
    },
    {
     "name": "stdout",
     "output_type": "stream",
     "text": [
      "Epoch: [0][ 750/2503]\tTime  1.583 ( 1.047)\tData  1.056 ( 0.422)\tLoss 5.5863e+00 (6.3106e+00)\tAcc@1   3.91 (  1.62)\tAcc@5  10.16 (  5.68)\n"
     ]
    },
    {
     "name": "stdout",
     "output_type": "stream",
     "text": [
      "Epoch: [0][ 800/2503]\tTime  1.444 ( 1.046)\tData  0.614 ( 0.422)\tLoss 5.5722e+00 (6.2680e+00)\tAcc@1   5.08 (  1.77)\tAcc@5  12.89 (  6.13)\n"
     ]
    },
    {
     "name": "stdout",
     "output_type": "stream",
     "text": [
      "Epoch: [0][ 850/2503]\tTime  1.495 ( 1.044)\tData  0.951 ( 0.418)\tLoss 5.2527e+00 (6.2253e+00)\tAcc@1   8.20 (  1.94)\tAcc@5  23.83 (  6.59)\n"
     ]
    },
    {
     "name": "stdout",
     "output_type": "stream",
     "text": [
      "Epoch: [0][ 900/2503]\tTime  0.907 ( 1.044)\tData  0.330 ( 0.412)\tLoss 5.4087e+00 (6.1840e+00)\tAcc@1   4.30 (  2.10)\tAcc@5  17.58 (  7.04)\n"
     ]
    },
    {
     "name": "stdout",
     "output_type": "stream",
     "text": [
      "Epoch: [0][ 950/2503]\tTime  1.162 ( 1.047)\tData  0.605 ( 0.405)\tLoss 5.4563e+00 (6.1430e+00)\tAcc@1   7.03 (  2.29)\tAcc@5  19.53 (  7.52)\n"
     ]
    },
    {
     "name": "stdout",
     "output_type": "stream",
     "text": [
      "Epoch: [0][1000/2503]\tTime  1.372 ( 1.046)\tData  0.434 ( 0.406)\tLoss 5.3313e+00 (6.1029e+00)\tAcc@1   7.81 (  2.46)\tAcc@5  19.14 (  8.00)\n"
     ]
    },
    {
     "name": "stdout",
     "output_type": "stream",
     "text": [
      "Epoch: [0][1050/2503]\tTime  1.750 ( 1.052)\tData  0.921 ( 0.402)\tLoss 5.3074e+00 (6.0641e+00)\tAcc@1   4.69 (  2.65)\tAcc@5  16.02 (  8.48)\n"
     ]
    },
    {
     "name": "stderr",
     "output_type": "stream",
     "text": [
      "wandb: ERROR Summary data exceeds maximum size of 10.4MB. Dropping it.\n"
     ]
    },
    {
     "name": "stdout",
     "output_type": "stream",
     "text": [
      "Epoch: [0][1100/2503]\tTime  1.621 ( 1.059)\tData  0.803 ( 0.402)\tLoss 5.0849e+00 (6.0259e+00)\tAcc@1   9.77 (  2.82)\tAcc@5  19.53 (  8.95)\n"
     ]
    },
    {
     "name": "stdout",
     "output_type": "stream",
     "text": [
      "Epoch: [0][1150/2503]\tTime  1.766 ( 1.067)\tData  0.926 ( 0.402)\tLoss 5.0389e+00 (5.9883e+00)\tAcc@1   5.86 (  3.00)\tAcc@5  21.48 (  9.42)\n"
     ]
    },
    {
     "name": "stdout",
     "output_type": "stream",
     "text": [
      "Epoch: [0][1200/2503]\tTime  1.609 ( 1.078)\tData  0.822 ( 0.400)\tLoss 5.0473e+00 (5.9515e+00)\tAcc@1   9.77 (  3.19)\tAcc@5  24.61 (  9.91)\n"
     ]
    },
    {
     "name": "stdout",
     "output_type": "stream",
     "text": [
      "Epoch: [0][1250/2503]\tTime  1.660 ( 1.089)\tData  0.863 ( 0.398)\tLoss 5.1629e+00 (5.9165e+00)\tAcc@1   5.08 (  3.37)\tAcc@5  21.09 ( 10.37)\n"
     ]
    },
    {
     "name": "stdout",
     "output_type": "stream",
     "text": [
      "Epoch: [0][1300/2503]\tTime  1.933 ( 1.100)\tData  1.117 ( 0.395)\tLoss 4.9437e+00 (5.8809e+00)\tAcc@1   6.64 (  3.55)\tAcc@5  23.05 ( 10.84)\n"
     ]
    },
    {
     "name": "stdout",
     "output_type": "stream",
     "text": [
      "Epoch: [0][1350/2503]\tTime  1.804 ( 1.109)\tData  1.016 ( 0.394)\tLoss 4.9625e+00 (5.8479e+00)\tAcc@1   5.86 (  3.72)\tAcc@5  25.78 ( 11.29)\n"
     ]
    },
    {
     "name": "stdout",
     "output_type": "stream",
     "text": [
      "Epoch: [0][1400/2503]\tTime  1.533 ( 1.117)\tData  0.675 ( 0.391)\tLoss 4.9897e+00 (5.8145e+00)\tAcc@1  10.16 (  3.91)\tAcc@5  24.22 ( 11.74)\n"
     ]
    },
    {
     "name": "stdout",
     "output_type": "stream",
     "text": [
      "Epoch: [0][1450/2503]\tTime  1.737 ( 1.126)\tData  0.891 ( 0.390)\tLoss 4.8940e+00 (5.7839e+00)\tAcc@1   8.20 (  4.10)\tAcc@5  22.27 ( 12.17)\n"
     ]
    },
    {
     "name": "stdout",
     "output_type": "stream",
     "text": [
      "Epoch: [0][1500/2503]\tTime  1.325 ( 1.133)\tData  0.496 ( 0.388)\tLoss 4.7495e+00 (5.7533e+00)\tAcc@1   8.98 (  4.28)\tAcc@5  24.61 ( 12.59)\n"
     ]
    },
    {
     "name": "stdout",
     "output_type": "stream",
     "text": [
      "Epoch: [0][1550/2503]\tTime  1.427 ( 1.141)\tData  0.602 ( 0.386)\tLoss 4.8290e+00 (5.7228e+00)\tAcc@1   8.20 (  4.47)\tAcc@5  24.22 ( 13.02)\n"
     ]
    },
    {
     "name": "stdout",
     "output_type": "stream",
     "text": [
      "Epoch: [0][1600/2503]\tTime  1.752 ( 1.148)\tData  0.889 ( 0.385)\tLoss 4.8176e+00 (5.6927e+00)\tAcc@1   8.98 (  4.67)\tAcc@5  25.39 ( 13.47)\n"
     ]
    },
    {
     "name": "stdout",
     "output_type": "stream",
     "text": [
      "Epoch: [0][1650/2503]\tTime  1.458 ( 1.154)\tData  0.626 ( 0.383)\tLoss 4.6158e+00 (5.6638e+00)\tAcc@1  12.89 (  4.85)\tAcc@5  31.64 ( 13.88)\n"
     ]
    },
    {
     "name": "stdout",
     "output_type": "stream",
     "text": [
      "Epoch: [0][1700/2503]\tTime  1.596 ( 1.160)\tData  0.669 ( 0.380)\tLoss 4.6920e+00 (5.6344e+00)\tAcc@1  11.33 (  5.04)\tAcc@5  33.98 ( 14.31)\n"
     ]
    },
    {
     "name": "stdout",
     "output_type": "stream",
     "text": [
      "Epoch: [0][1750/2503]\tTime  1.774 ( 1.165)\tData  0.939 ( 0.379)\tLoss 4.9039e+00 (5.6070e+00)\tAcc@1   8.98 (  5.23)\tAcc@5  26.17 ( 14.73)\n"
     ]
    },
    {
     "name": "stdout",
     "output_type": "stream",
     "text": [
      "Epoch: [0][1800/2503]\tTime  1.268 ( 1.170)\tData  0.438 ( 0.377)\tLoss 4.5799e+00 (5.5793e+00)\tAcc@1  15.62 (  5.41)\tAcc@5  31.25 ( 15.14)\n"
     ]
    },
    {
     "name": "stdout",
     "output_type": "stream",
     "text": [
      "Epoch: [0][1850/2503]\tTime  1.509 ( 1.175)\tData  0.596 ( 0.376)\tLoss 4.6320e+00 (5.5530e+00)\tAcc@1  12.50 (  5.59)\tAcc@5  29.30 ( 15.53)\n"
     ]
    },
    {
     "name": "stdout",
     "output_type": "stream",
     "text": [
      "Epoch: [0][1900/2503]\tTime  1.569 ( 1.180)\tData  0.663 ( 0.375)\tLoss 4.8595e+00 (5.5270e+00)\tAcc@1  10.55 (  5.77)\tAcc@5  23.83 ( 15.92)\n"
     ]
    },
    {
     "name": "stdout",
     "output_type": "stream",
     "text": [
      "Epoch: [0][1950/2503]\tTime  1.396 ( 1.184)\tData  0.486 ( 0.373)\tLoss 4.5630e+00 (5.5013e+00)\tAcc@1  12.89 (  5.95)\tAcc@5  30.08 ( 16.33)\n"
     ]
    },
    {
     "name": "stdout",
     "output_type": "stream",
     "text": [
      "Epoch: [0][2000/2503]\tTime  1.548 ( 1.188)\tData  0.455 ( 0.371)\tLoss 4.4950e+00 (5.4761e+00)\tAcc@1  14.06 (  6.14)\tAcc@5  32.03 ( 16.72)\n"
     ]
    },
    {
     "name": "stdout",
     "output_type": "stream",
     "text": [
      "Epoch: [0][2050/2503]\tTime  1.409 ( 1.191)\tData  0.378 ( 0.367)\tLoss 4.3663e+00 (5.4518e+00)\tAcc@1  12.89 (  6.30)\tAcc@5  32.42 ( 17.11)\n"
     ]
    },
    {
     "name": "stdout",
     "output_type": "stream",
     "text": [
      "Epoch: [0][2100/2503]\tTime  1.283 ( 1.194)\tData  0.192 ( 0.362)\tLoss 4.4386e+00 (5.4281e+00)\tAcc@1  12.11 (  6.48)\tAcc@5  30.47 ( 17.48)\n"
     ]
    },
    {
     "name": "stdout",
     "output_type": "stream",
     "text": [
      "Epoch: [0][2150/2503]\tTime  1.481 ( 1.197)\tData  0.327 ( 0.358)\tLoss 4.4947e+00 (5.4044e+00)\tAcc@1  14.06 (  6.65)\tAcc@5  30.08 ( 17.86)\n"
     ]
    },
    {
     "name": "stdout",
     "output_type": "stream",
     "text": [
      "Epoch: [0][2200/2503]\tTime  1.507 ( 1.200)\tData  0.410 ( 0.354)\tLoss 4.5206e+00 (5.3809e+00)\tAcc@1  13.28 (  6.83)\tAcc@5  33.59 ( 18.23)\n"
     ]
    },
    {
     "name": "stdout",
     "output_type": "stream",
     "text": [
      "Epoch: [0][2250/2503]\tTime  1.603 ( 1.202)\tData  0.504 ( 0.351)\tLoss 4.3230e+00 (5.3578e+00)\tAcc@1  16.41 (  7.01)\tAcc@5  32.42 ( 18.60)\n"
     ]
    },
    {
     "name": "stdout",
     "output_type": "stream",
     "text": [
      "Epoch: [0][2300/2503]\tTime  1.535 ( 1.205)\tData  0.489 ( 0.348)\tLoss 4.5431e+00 (5.3344e+00)\tAcc@1  12.50 (  7.19)\tAcc@5  31.64 ( 18.97)\n"
     ]
    },
    {
     "name": "stdout",
     "output_type": "stream",
     "text": [
      "Epoch: [0][2350/2503]\tTime  1.241 ( 1.207)\tData  0.192 ( 0.344)\tLoss 4.5007e+00 (5.3121e+00)\tAcc@1  12.11 (  7.37)\tAcc@5  30.86 ( 19.33)\n"
     ]
    },
    {
     "name": "stdout",
     "output_type": "stream",
     "text": [
      "Epoch: [0][2400/2503]\tTime  1.338 ( 1.209)\tData  0.293 ( 0.341)\tLoss 4.1284e+00 (5.2901e+00)\tAcc@1  13.67 (  7.54)\tAcc@5  37.89 ( 19.69)\n"
     ]
    },
    {
     "name": "stdout",
     "output_type": "stream",
     "text": [
      "Epoch: [0][2450/2503]\tTime  1.529 ( 1.211)\tData  0.427 ( 0.337)\tLoss 4.1543e+00 (5.2682e+00)\tAcc@1  16.02 (  7.72)\tAcc@5  40.23 ( 20.05)\n"
     ]
    },
    {
     "name": "stdout",
     "output_type": "stream",
     "text": [
      "Epoch: [0][2500/2503]\tTime  1.499 ( 1.213)\tData  0.497 ( 0.334)\tLoss 4.2585e+00 (5.2466e+00)\tAcc@1  16.41 (  7.90)\tAcc@5  39.45 ( 20.41)\n"
     ]
    },
    {
     "name": "stdout",
     "output_type": "stream",
     "text": [
      "Test: [  0/196]\tTime  3.946 ( 3.946)\tLoss 3.3728e+00 (3.3728e+00)\tAcc@1  25.00 ( 25.00)\tAcc@5  62.11 ( 62.11)\n"
     ]
    },
    {
     "name": "stdout",
     "output_type": "stream",
     "text": [
      "Test: [ 50/196]\tTime  1.672 ( 1.159)\tLoss 4.3885e+00 (4.5006e+00)\tAcc@1  11.33 ( 12.81)\tAcc@5  36.33 ( 32.36)\n"
     ]
    },
    {
     "name": "stdout",
     "output_type": "stream",
     "text": [
      "Test: [100/196]\tTime  1.625 ( 1.133)\tLoss 5.7713e+00 (4.6114e+00)\tAcc@1   2.73 ( 12.15)\tAcc@5  10.94 ( 30.90)\n"
     ]
    },
    {
     "name": "stdout",
     "output_type": "stream",
     "text": [
      "Test: [150/196]\tTime  1.764 ( 1.130)\tLoss 4.9784e+00 (4.6923e+00)\tAcc@1   7.42 ( 11.65)\tAcc@5  19.14 ( 29.21)\n"
     ]
    },
    {
     "name": "stdout",
     "output_type": "stream",
     "text": [
      " * Acc@1 12.156 Acc@5 29.892\n"
     ]
    },
    {
     "name": "stdout",
     "output_type": "stream",
     "text": [
      "lr: [0.001]\n"
     ]
    },
    {
     "name": "stderr",
     "output_type": "stream",
     "text": [
      "/opt/conda/lib/python3.8/site-packages/torch/optim/lr_scheduler.py:154: UserWarning: The epoch parameter in `scheduler.step()` was not necessary and is being deprecated where possible. Please use `scheduler.step()` to step the scheduler. During the deprecation, if epoch is different from None, the closed form is used instead of the new chainable form, where available. Please open an issue if you are unable to replicate your use case: https://github.com/pytorch/pytorch/issues/new/choose.\n",
      "  warnings.warn(EPOCH_DEPRECATION_WARNING, UserWarning)\n"
     ]
    },
    {
     "name": "stdout",
     "output_type": "stream",
     "text": [
      "Epoch: [1][   0/2503]\tTime  8.478 ( 8.478)\tData  2.592 ( 2.592)\tLoss 4.0899e+00 (4.0899e+00)\tAcc@1  17.19 ( 17.19)\tAcc@5  41.02 ( 41.02)\n"
     ]
    },
    {
     "name": "stdout",
     "output_type": "stream",
     "text": [
      "Epoch: [1][  50/2503]\tTime  1.336 ( 1.407)\tData  0.307 ( 0.202)\tLoss 3.9302e+00 (4.1024e+00)\tAcc@1  22.66 ( 18.05)\tAcc@5  48.05 ( 39.51)\n"
     ]
    },
    {
     "name": "stdout",
     "output_type": "stream",
     "text": [
      "Epoch: [1][ 100/2503]\tTime  1.348 ( 1.347)\tData  0.336 ( 0.197)\tLoss 3.8952e+00 (4.0790e+00)\tAcc@1  20.31 ( 18.39)\tAcc@5  44.53 ( 40.13)\n"
     ]
    },
    {
     "name": "stdout",
     "output_type": "stream",
     "text": [
      "Epoch: [1][ 150/2503]\tTime  1.390 ( 1.324)\tData  0.357 ( 0.195)\tLoss 3.9279e+00 (4.0654e+00)\tAcc@1  20.31 ( 18.65)\tAcc@5  43.36 ( 40.51)\n"
     ]
    },
    {
     "name": "stdout",
     "output_type": "stream",
     "text": [
      "Epoch: [1][ 200/2503]\tTime  1.457 ( 1.307)\tData  0.397 ( 0.193)\tLoss 4.0172e+00 (4.0474e+00)\tAcc@1  20.70 ( 19.07)\tAcc@5  40.62 ( 40.95)\n"
     ]
    },
    {
     "name": "stdout",
     "output_type": "stream",
     "text": [
      "Epoch: [1][ 250/2503]\tTime  1.451 ( 1.302)\tData  0.081 ( 0.190)\tLoss 3.8399e+00 (4.0397e+00)\tAcc@1  23.44 ( 19.28)\tAcc@5  47.27 ( 41.18)\n"
     ]
    },
    {
     "name": "stdout",
     "output_type": "stream",
     "text": [
      "Epoch: [1][ 300/2503]\tTime  1.324 ( 1.295)\tData  0.272 ( 0.186)\tLoss 4.0481e+00 (4.0303e+00)\tAcc@1  18.36 ( 19.37)\tAcc@5  41.80 ( 41.33)\n"
     ]
    },
    {
     "name": "stdout",
     "output_type": "stream",
     "text": [
      "Epoch: [1][ 350/2503]\tTime  1.199 ( 1.291)\tData  0.167 ( 0.182)\tLoss 4.0625e+00 (4.0194e+00)\tAcc@1  23.83 ( 19.48)\tAcc@5  39.45 ( 41.51)\n"
     ]
    },
    {
     "name": "stdout",
     "output_type": "stream",
     "text": [
      "Epoch: [1][ 400/2503]\tTime  1.583 ( 1.288)\tData  0.081 ( 0.177)\tLoss 4.3022e+00 (4.0136e+00)\tAcc@1  16.80 ( 19.57)\tAcc@5  35.94 ( 41.63)\n"
     ]
    },
    {
     "name": "stdout",
     "output_type": "stream",
     "text": [
      "Epoch: [1][ 450/2503]\tTime  1.402 ( 1.285)\tData  0.253 ( 0.175)\tLoss 3.9098e+00 (4.0086e+00)\tAcc@1  19.92 ( 19.63)\tAcc@5  43.75 ( 41.73)\n"
     ]
    },
    {
     "name": "stdout",
     "output_type": "stream",
     "text": [
      "Epoch: [1][ 500/2503]\tTime  1.296 ( 1.284)\tData  0.058 ( 0.173)\tLoss 4.1054e+00 (4.0009e+00)\tAcc@1  15.62 ( 19.75)\tAcc@5  42.97 ( 41.86)\n"
     ]
    },
    {
     "name": "stdout",
     "output_type": "stream",
     "text": [
      "Epoch: [1][ 550/2503]\tTime  1.217 ( 1.283)\tData  0.000 ( 0.158)\tLoss 3.7920e+00 (3.9951e+00)\tAcc@1  22.27 ( 19.88)\tAcc@5  46.09 ( 41.99)\n"
     ]
    },
    {
     "name": "stdout",
     "output_type": "stream",
     "text": [
      "Epoch: [1][ 600/2503]\tTime  1.349 ( 1.283)\tData  0.000 ( 0.144)\tLoss 4.0644e+00 (3.9919e+00)\tAcc@1  19.14 ( 19.93)\tAcc@5  43.36 ( 42.04)\n"
     ]
    },
    {
     "name": "stdout",
     "output_type": "stream",
     "text": [
      "Epoch: [1][ 650/2503]\tTime  1.378 ( 1.284)\tData  0.000 ( 0.133)\tLoss 3.9660e+00 (3.9888e+00)\tAcc@1  20.31 ( 19.99)\tAcc@5  44.92 ( 42.16)\n"
     ]
    },
    {
     "name": "stdout",
     "output_type": "stream",
     "text": [
      "Epoch: [1][ 700/2503]\tTime  1.303 ( 1.284)\tData  0.000 ( 0.124)\tLoss 4.0706e+00 (3.9831e+00)\tAcc@1  20.31 ( 20.05)\tAcc@5  42.97 ( 42.28)\n"
     ]
    },
    {
     "name": "stdout",
     "output_type": "stream",
     "text": [
      "Epoch: [1][ 750/2503]\tTime  1.258 ( 1.286)\tData  0.000 ( 0.116)\tLoss 3.8296e+00 (3.9803e+00)\tAcc@1  19.53 ( 20.09)\tAcc@5  41.02 ( 42.32)\n"
     ]
    },
    {
     "name": "stdout",
     "output_type": "stream",
     "text": [
      "Epoch: [1][ 800/2503]\tTime  1.275 ( 1.286)\tData  0.000 ( 0.109)\tLoss 3.9790e+00 (3.9771e+00)\tAcc@1  17.19 ( 20.09)\tAcc@5  42.58 ( 42.40)\n"
     ]
    },
    {
     "name": "stdout",
     "output_type": "stream",
     "text": [
      "Epoch: [1][ 850/2503]\tTime  1.270 ( 1.287)\tData  0.000 ( 0.102)\tLoss 3.6785e+00 (3.9745e+00)\tAcc@1  24.22 ( 20.14)\tAcc@5  48.44 ( 42.45)\n"
     ]
    },
    {
     "name": "stdout",
     "output_type": "stream",
     "text": [
      "Epoch: [1][ 900/2503]\tTime  1.216 ( 1.287)\tData  0.000 ( 0.097)\tLoss 3.8471e+00 (3.9713e+00)\tAcc@1  23.83 ( 20.20)\tAcc@5  43.75 ( 42.52)\n"
     ]
    },
    {
     "name": "stdout",
     "output_type": "stream",
     "text": [
      "Epoch: [1][ 950/2503]\tTime  1.275 ( 1.287)\tData  0.000 ( 0.091)\tLoss 4.0509e+00 (3.9686e+00)\tAcc@1  21.88 ( 20.23)\tAcc@5  42.97 ( 42.57)\n"
     ]
    },
    {
     "name": "stdout",
     "output_type": "stream",
     "text": [
      "Epoch: [1][1000/2503]\tTime  1.316 ( 1.288)\tData  0.000 ( 0.087)\tLoss 3.9124e+00 (3.9656e+00)\tAcc@1  21.48 ( 20.28)\tAcc@5  44.14 ( 42.62)\n"
     ]
    },
    {
     "name": "stdout",
     "output_type": "stream",
     "text": [
      "Epoch: [1][1050/2503]\tTime  1.392 ( 1.289)\tData  0.000 ( 0.083)\tLoss 3.8581e+00 (3.9627e+00)\tAcc@1  21.09 ( 20.31)\tAcc@5  42.97 ( 42.68)\n"
     ]
    },
    {
     "name": "stdout",
     "output_type": "stream",
     "text": [
      "Epoch: [1][1100/2503]\tTime  1.249 ( 1.289)\tData  0.000 ( 0.079)\tLoss 3.8090e+00 (3.9605e+00)\tAcc@1  22.66 ( 20.35)\tAcc@5  44.53 ( 42.72)\n"
     ]
    },
    {
     "name": "stdout",
     "output_type": "stream",
     "text": [
      "Epoch: [1][1150/2503]\tTime  1.332 ( 1.290)\tData  0.000 ( 0.076)\tLoss 3.7375e+00 (3.9571e+00)\tAcc@1  19.53 ( 20.39)\tAcc@5  46.09 ( 42.81)\n"
     ]
    },
    {
     "name": "stdout",
     "output_type": "stream",
     "text": [
      "Epoch: [1][1200/2503]\tTime  1.331 ( 1.291)\tData  0.000 ( 0.073)\tLoss 3.9024e+00 (3.9539e+00)\tAcc@1  22.66 ( 20.44)\tAcc@5  46.48 ( 42.88)\n"
     ]
    },
    {
     "name": "stdout",
     "output_type": "stream",
     "text": [
      "Epoch: [1][1250/2503]\tTime  1.345 ( 1.292)\tData  0.000 ( 0.070)\tLoss 4.0071e+00 (3.9508e+00)\tAcc@1  21.09 ( 20.49)\tAcc@5  44.14 ( 42.95)\n"
     ]
    },
    {
     "name": "stdout",
     "output_type": "stream",
     "text": [
      "Epoch: [1][1300/2503]\tTime  1.301 ( 1.293)\tData  0.000 ( 0.067)\tLoss 3.7416e+00 (3.9464e+00)\tAcc@1  21.88 ( 20.55)\tAcc@5  45.31 ( 43.02)\n"
     ]
    },
    {
     "name": "stdout",
     "output_type": "stream",
     "text": [
      "Epoch: [1][1350/2503]\tTime  1.320 ( 1.294)\tData  0.000 ( 0.064)\tLoss 4.0025e+00 (3.9438e+00)\tAcc@1  18.75 ( 20.57)\tAcc@5  41.80 ( 43.04)\n"
     ]
    },
    {
     "name": "stdout",
     "output_type": "stream",
     "text": [
      "Epoch: [1][1400/2503]\tTime  1.284 ( 1.295)\tData  0.000 ( 0.062)\tLoss 4.0175e+00 (3.9407e+00)\tAcc@1  19.53 ( 20.63)\tAcc@5  39.06 ( 43.10)\n"
     ]
    },
    {
     "name": "stdout",
     "output_type": "stream",
     "text": [
      "Epoch: [1][1450/2503]\tTime  1.323 ( 1.297)\tData  0.000 ( 0.060)\tLoss 3.8723e+00 (3.9389e+00)\tAcc@1  21.88 ( 20.64)\tAcc@5  40.62 ( 43.12)\n"
     ]
    },
    {
     "name": "stdout",
     "output_type": "stream",
     "text": [
      "Epoch: [1][1500/2503]\tTime  1.519 ( 1.299)\tData  0.000 ( 0.058)\tLoss 3.7384e+00 (3.9373e+00)\tAcc@1  22.66 ( 20.65)\tAcc@5  46.48 ( 43.15)\n"
     ]
    },
    {
     "name": "stdout",
     "output_type": "stream",
     "text": [
      "Epoch: [1][1550/2503]\tTime  1.455 ( 1.305)\tData  0.000 ( 0.056)\tLoss 3.8590e+00 (3.9340e+00)\tAcc@1  17.97 ( 20.69)\tAcc@5  42.19 ( 43.21)\n"
     ]
    },
    {
     "name": "stdout",
     "output_type": "stream",
     "text": [
      "Epoch: [1][1600/2503]\tTime  1.474 ( 1.310)\tData  0.000 ( 0.054)\tLoss 3.8379e+00 (3.9305e+00)\tAcc@1  18.36 ( 20.76)\tAcc@5  41.02 ( 43.26)\n"
     ]
    },
    {
     "name": "stdout",
     "output_type": "stream",
     "text": [
      "Epoch: [1][1650/2503]\tTime  1.407 ( 1.315)\tData  0.000 ( 0.053)\tLoss 3.6912e+00 (3.9275e+00)\tAcc@1  25.00 ( 20.78)\tAcc@5  48.05 ( 43.33)\n"
     ]
    },
    {
     "name": "stdout",
     "output_type": "stream",
     "text": [
      "Epoch: [1][1700/2503]\tTime  1.475 ( 1.320)\tData  0.000 ( 0.051)\tLoss 3.9102e+00 (3.9238e+00)\tAcc@1  21.88 ( 20.82)\tAcc@5  46.09 ( 43.39)\n"
     ]
    },
    {
     "name": "stdout",
     "output_type": "stream",
     "text": [
      "Epoch: [1][1750/2503]\tTime  1.448 ( 1.324)\tData  0.000 ( 0.050)\tLoss 4.0230e+00 (3.9210e+00)\tAcc@1  23.44 ( 20.87)\tAcc@5  42.58 ( 43.44)\n"
     ]
    },
    {
     "name": "stdout",
     "output_type": "stream",
     "text": [
      "Epoch: [1][1800/2503]\tTime  1.522 ( 1.329)\tData  0.000 ( 0.048)\tLoss 3.8239e+00 (3.9175e+00)\tAcc@1  26.17 ( 20.92)\tAcc@5  47.66 ( 43.51)\n"
     ]
    },
    {
     "name": "stdout",
     "output_type": "stream",
     "text": [
      "Epoch: [1][1850/2503]\tTime  1.466 ( 1.333)\tData  0.000 ( 0.047)\tLoss 3.7665e+00 (3.9149e+00)\tAcc@1  27.34 ( 20.96)\tAcc@5  46.09 ( 43.56)\n"
     ]
    },
    {
     "name": "stdout",
     "output_type": "stream",
     "text": [
      "Epoch: [1][1900/2503]\tTime  1.511 ( 1.337)\tData  0.000 ( 0.046)\tLoss 4.1538e+00 (3.9121e+00)\tAcc@1  17.97 ( 20.99)\tAcc@5  36.33 ( 43.60)\n"
     ]
    },
    {
     "name": "stdout",
     "output_type": "stream",
     "text": [
      "Epoch: [1][1950/2503]\tTime  1.462 ( 1.341)\tData  0.000 ( 0.045)\tLoss 3.8627e+00 (3.9093e+00)\tAcc@1  23.44 ( 21.04)\tAcc@5  41.41 ( 43.66)\n"
     ]
    },
    {
     "name": "stdout",
     "output_type": "stream",
     "text": [
      "Epoch: [1][2000/2503]\tTime  1.489 ( 1.345)\tData  0.000 ( 0.044)\tLoss 3.7657e+00 (3.9066e+00)\tAcc@1  23.05 ( 21.08)\tAcc@5  46.88 ( 43.70)\n"
     ]
    },
    {
     "name": "stdout",
     "output_type": "stream",
     "text": [
      "Epoch: [1][2050/2503]\tTime  1.475 ( 1.349)\tData  0.000 ( 0.043)\tLoss 3.7979e+00 (3.9044e+00)\tAcc@1  22.27 ( 21.11)\tAcc@5  44.14 ( 43.74)\n"
     ]
    },
    {
     "name": "stdout",
     "output_type": "stream",
     "text": [
      "Epoch: [1][2100/2503]\tTime  1.516 ( 1.352)\tData  0.000 ( 0.042)\tLoss 3.8242e+00 (3.9019e+00)\tAcc@1  22.66 ( 21.14)\tAcc@5  46.88 ( 43.79)\n"
     ]
    },
    {
     "name": "stdout",
     "output_type": "stream",
     "text": [
      "Epoch: [1][2150/2503]\tTime  1.487 ( 1.356)\tData  0.000 ( 0.041)\tLoss 3.8149e+00 (3.8991e+00)\tAcc@1  22.66 ( 21.19)\tAcc@5  46.09 ( 43.85)\n"
     ]
    },
    {
     "name": "stdout",
     "output_type": "stream",
     "text": [
      "Epoch: [1][2200/2503]\tTime  1.565 ( 1.359)\tData  0.000 ( 0.040)\tLoss 3.8847e+00 (3.8958e+00)\tAcc@1  23.44 ( 21.24)\tAcc@5  43.75 ( 43.93)\n"
     ]
    },
    {
     "name": "stdout",
     "output_type": "stream",
     "text": [
      "Epoch: [1][2250/2503]\tTime  1.546 ( 1.363)\tData  0.000 ( 0.039)\tLoss 3.7281e+00 (3.8926e+00)\tAcc@1  24.61 ( 21.28)\tAcc@5  46.88 ( 44.00)\n"
     ]
    },
    {
     "name": "stdout",
     "output_type": "stream",
     "text": [
      "Epoch: [1][2300/2503]\tTime  1.478 ( 1.366)\tData  0.000 ( 0.038)\tLoss 3.9274e+00 (3.8888e+00)\tAcc@1  19.92 ( 21.33)\tAcc@5  44.53 ( 44.07)\n"
     ]
    },
    {
     "name": "stdout",
     "output_type": "stream",
     "text": [
      "Epoch: [1][2350/2503]\tTime  1.532 ( 1.370)\tData  0.001 ( 0.037)\tLoss 3.9880e+00 (3.8855e+00)\tAcc@1  19.53 ( 21.39)\tAcc@5  43.36 ( 44.13)\n"
     ]
    },
    {
     "name": "stdout",
     "output_type": "stream",
     "text": [
      "Epoch: [1][2400/2503]\tTime  1.546 ( 1.373)\tData  0.000 ( 0.036)\tLoss 3.6511e+00 (3.8822e+00)\tAcc@1  19.14 ( 21.43)\tAcc@5  52.73 ( 44.20)\n"
     ]
    },
    {
     "name": "stdout",
     "output_type": "stream",
     "text": [
      "Epoch: [1][2450/2503]\tTime  1.490 ( 1.376)\tData  0.000 ( 0.036)\tLoss 3.6187e+00 (3.8784e+00)\tAcc@1  24.61 ( 21.48)\tAcc@5  49.22 ( 44.28)\n"
     ]
    },
    {
     "name": "stdout",
     "output_type": "stream",
     "text": [
      "Epoch: [1][2500/2503]\tTime  1.482 ( 1.379)\tData  0.000 ( 0.035)\tLoss 3.7637e+00 (3.8749e+00)\tAcc@1  22.27 ( 21.52)\tAcc@5  45.31 ( 44.35)\n"
     ]
    },
    {
     "name": "stdout",
     "output_type": "stream",
     "text": [
      "Test: [  0/196]\tTime  3.061 ( 3.061)\tLoss 2.8693e+00 (2.8693e+00)\tAcc@1  34.38 ( 34.38)\tAcc@5  71.88 ( 71.88)\n"
     ]
    },
    {
     "name": "stdout",
     "output_type": "stream",
     "text": [
      "Test: [ 50/196]\tTime  0.380 ( 1.160)\tLoss 3.6294e+00 (3.5930e+00)\tAcc@1  22.66 ( 23.31)\tAcc@5  48.83 ( 48.78)\n"
     ]
    },
    {
     "name": "stdout",
     "output_type": "stream",
     "text": [
      "Test: [100/196]\tTime  0.379 ( 1.148)\tLoss 5.0297e+00 (3.7431e+00)\tAcc@1   8.20 ( 22.25)\tAcc@5  20.70 ( 46.24)\n"
     ]
    },
    {
     "name": "stdout",
     "output_type": "stream",
     "text": [
      "Test: [150/196]\tTime  0.877 ( 1.134)\tLoss 4.6127e+00 (3.8835e+00)\tAcc@1  16.02 ( 21.14)\tAcc@5  30.47 ( 43.68)\n"
     ]
    },
    {
     "name": "stdout",
     "output_type": "stream",
     "text": [
      " * Acc@1 21.208 Acc@5 43.588\n"
     ]
    },
    {
     "name": "stdout",
     "output_type": "stream",
     "text": [
      "lr: [0.001]\n"
     ]
    },
    {
     "name": "stdout",
     "output_type": "stream",
     "text": [
      "Epoch: [2][   0/2503]\tTime 11.240 (11.240)\tData  2.686 ( 2.686)\tLoss 3.6586e+00 (3.6586e+00)\tAcc@1  24.22 ( 24.22)\tAcc@5  50.39 ( 50.39)\n"
     ]
    },
    {
     "name": "stdout",
     "output_type": "stream",
     "text": [
      "Epoch: [2][  50/2503]\tTime  1.653 ( 1.846)\tData  0.000 ( 0.053)\tLoss 3.7334e+00 (3.7921e+00)\tAcc@1  29.30 ( 22.49)\tAcc@5  48.83 ( 45.66)\n"
     ]
    },
    {
     "name": "stdout",
     "output_type": "stream",
     "text": [
      "Epoch: [2][ 100/2503]\tTime  1.615 ( 1.759)\tData  0.000 ( 0.027)\tLoss 3.6454e+00 (3.8016e+00)\tAcc@1  23.05 ( 22.53)\tAcc@5  47.66 ( 45.68)\n"
     ]
    },
    {
     "name": "stdout",
     "output_type": "stream",
     "text": [
      "Epoch: [2][ 150/2503]\tTime  1.634 ( 1.725)\tData  0.000 ( 0.018)\tLoss 3.6869e+00 (3.8077e+00)\tAcc@1  23.05 ( 22.38)\tAcc@5  47.66 ( 45.66)\n"
     ]
    },
    {
     "name": "stdout",
     "output_type": "stream",
     "text": [
      "Epoch: [2][ 200/2503]\tTime  1.603 ( 1.710)\tData  0.000 ( 0.014)\tLoss 3.6954e+00 (3.8023e+00)\tAcc@1  23.44 ( 22.57)\tAcc@5  46.48 ( 45.75)\n"
     ]
    },
    {
     "name": "stdout",
     "output_type": "stream",
     "text": [
      "Epoch: [2][ 250/2503]\tTime  1.600 ( 1.701)\tData  0.000 ( 0.011)\tLoss 3.6265e+00 (3.8031e+00)\tAcc@1  26.17 ( 22.58)\tAcc@5  51.17 ( 45.76)\n"
     ]
    },
    {
     "name": "stdout",
     "output_type": "stream",
     "text": [
      "Epoch: [2][ 300/2503]\tTime  1.692 ( 1.696)\tData  0.000 ( 0.009)\tLoss 3.8762e+00 (3.7983e+00)\tAcc@1  23.05 ( 22.61)\tAcc@5  44.14 ( 45.76)\n"
     ]
    },
    {
     "name": "stdout",
     "output_type": "stream",
     "text": [
      "Epoch: [2][ 350/2503]\tTime  1.676 ( 1.694)\tData  0.000 ( 0.008)\tLoss 3.8711e+00 (3.7918e+00)\tAcc@1  24.22 ( 22.66)\tAcc@5  41.80 ( 45.86)\n"
     ]
    },
    {
     "name": "stdout",
     "output_type": "stream",
     "text": [
      "Epoch: [2][ 400/2503]\tTime  1.564 ( 1.692)\tData  0.000 ( 0.007)\tLoss 4.1263e+00 (3.7898e+00)\tAcc@1  17.19 ( 22.68)\tAcc@5  39.06 ( 45.92)\n"
     ]
    },
    {
     "name": "stdout",
     "output_type": "stream",
     "text": [
      "Epoch: [2][ 450/2503]\tTime  1.677 ( 1.690)\tData  0.000 ( 0.006)\tLoss 3.7567e+00 (3.7891e+00)\tAcc@1  21.09 ( 22.65)\tAcc@5  47.66 ( 45.92)\n"
     ]
    },
    {
     "name": "stdout",
     "output_type": "stream",
     "text": [
      "Epoch: [2][ 500/2503]\tTime  1.624 ( 1.690)\tData  0.000 ( 0.006)\tLoss 3.8618e+00 (3.7844e+00)\tAcc@1  23.44 ( 22.73)\tAcc@5  46.88 ( 45.97)\n"
     ]
    },
    {
     "name": "stdout",
     "output_type": "stream",
     "text": [
      "Epoch: [2][ 550/2503]\tTime  1.596 ( 1.690)\tData  0.000 ( 0.005)\tLoss 3.5875e+00 (3.7813e+00)\tAcc@1  22.66 ( 22.81)\tAcc@5  49.61 ( 46.00)\n"
     ]
    },
    {
     "name": "stdout",
     "output_type": "stream",
     "text": [
      "Epoch: [2][ 600/2503]\tTime  1.669 ( 1.691)\tData  0.000 ( 0.005)\tLoss 3.8572e+00 (3.7804e+00)\tAcc@1  21.88 ( 22.80)\tAcc@5  48.83 ( 46.04)\n"
     ]
    },
    {
     "name": "stdout",
     "output_type": "stream",
     "text": [
      "Epoch: [2][ 650/2503]\tTime  1.715 ( 1.692)\tData  0.000 ( 0.004)\tLoss 3.8186e+00 (3.7794e+00)\tAcc@1  23.44 ( 22.84)\tAcc@5  48.83 ( 46.08)\n"
     ]
    },
    {
     "name": "stdout",
     "output_type": "stream",
     "text": [
      "Epoch: [2][ 700/2503]\tTime  1.774 ( 1.695)\tData  0.000 ( 0.004)\tLoss 3.8723e+00 (3.7755e+00)\tAcc@1  21.48 ( 22.87)\tAcc@5  48.05 ( 46.15)\n"
     ]
    },
    {
     "name": "stdout",
     "output_type": "stream",
     "text": [
      "Epoch: [2][ 750/2503]\tTime  1.728 ( 1.696)\tData  0.000 ( 0.004)\tLoss 3.6200e+00 (3.7739e+00)\tAcc@1  21.09 ( 22.89)\tAcc@5  50.00 ( 46.20)\n"
     ]
    },
    {
     "name": "stdout",
     "output_type": "stream",
     "text": [
      "Epoch: [2][ 800/2503]\tTime  1.700 ( 1.697)\tData  0.000 ( 0.004)\tLoss 3.8469e+00 (3.7718e+00)\tAcc@1  18.36 ( 22.89)\tAcc@5  42.19 ( 46.27)\n"
     ]
    },
    {
     "name": "stdout",
     "output_type": "stream",
     "text": [
      "Epoch: [2][ 850/2503]\tTime  1.683 ( 1.700)\tData  0.000 ( 0.003)\tLoss 3.4909e+00 (3.7705e+00)\tAcc@1  25.78 ( 22.93)\tAcc@5  54.30 ( 46.27)\n"
     ]
    },
    {
     "name": "stdout",
     "output_type": "stream",
     "text": [
      "Epoch: [2][ 900/2503]\tTime  1.765 ( 1.702)\tData  0.000 ( 0.003)\tLoss 3.6184e+00 (3.7687e+00)\tAcc@1  27.73 ( 22.96)\tAcc@5  48.83 ( 46.33)\n"
     ]
    },
    {
     "name": "stdout",
     "output_type": "stream",
     "text": [
      "Epoch: [2][ 950/2503]\tTime  1.681 ( 1.704)\tData  0.000 ( 0.003)\tLoss 3.8847e+00 (3.7672e+00)\tAcc@1  23.44 ( 22.99)\tAcc@5  47.66 ( 46.37)\n"
     ]
    },
    {
     "name": "stdout",
     "output_type": "stream",
     "text": [
      "Epoch: [2][1000/2503]\tTime  1.740 ( 1.706)\tData  0.000 ( 0.003)\tLoss 3.7279e+00 (3.7654e+00)\tAcc@1  24.61 ( 23.01)\tAcc@5  47.27 ( 46.40)\n"
     ]
    },
    {
     "name": "stdout",
     "output_type": "stream",
     "text": [
      "Epoch: [2][1050/2503]\tTime  1.993 ( 1.714)\tData  0.000 ( 0.003)\tLoss 3.6772e+00 (3.7639e+00)\tAcc@1  22.27 ( 23.03)\tAcc@5  46.09 ( 46.44)\n"
     ]
    },
    {
     "name": "stdout",
     "output_type": "stream",
     "text": [
      "Epoch: [2][1100/2503]\tTime  1.951 ( 1.721)\tData  0.000 ( 0.003)\tLoss 3.6613e+00 (3.7629e+00)\tAcc@1  26.56 ( 23.06)\tAcc@5  45.70 ( 46.46)\n"
     ]
    },
    {
     "name": "stdout",
     "output_type": "stream",
     "text": [
      "Epoch: [2][1150/2503]\tTime  1.797 ( 1.727)\tData  0.000 ( 0.003)\tLoss 3.5658e+00 (3.7605e+00)\tAcc@1  23.83 ( 23.09)\tAcc@5  51.17 ( 46.51)\n"
     ]
    },
    {
     "name": "stdout",
     "output_type": "stream",
     "text": [
      "Epoch: [2][1200/2503]\tTime  1.793 ( 1.732)\tData  0.000 ( 0.003)\tLoss 3.7338e+00 (3.7584e+00)\tAcc@1  26.56 ( 23.13)\tAcc@5  47.66 ( 46.57)\n"
     ]
    },
    {
     "name": "stdout",
     "output_type": "stream",
     "text": [
      "Epoch: [2][1250/2503]\tTime  1.865 ( 1.738)\tData  0.000 ( 0.002)\tLoss 3.8016e+00 (3.7562e+00)\tAcc@1  24.61 ( 23.17)\tAcc@5  48.44 ( 46.62)\n"
     ]
    },
    {
     "name": "stdout",
     "output_type": "stream",
     "text": [
      "Epoch: [2][1300/2503]\tTime  1.881 ( 1.743)\tData  0.000 ( 0.002)\tLoss 3.5408e+00 (3.7528e+00)\tAcc@1  25.39 ( 23.21)\tAcc@5  48.05 ( 46.69)\n"
     ]
    },
    {
     "name": "stdout",
     "output_type": "stream",
     "text": [
      "Epoch: [2][1350/2503]\tTime  1.847 ( 1.748)\tData  0.000 ( 0.002)\tLoss 3.8584e+00 (3.7510e+00)\tAcc@1  20.70 ( 23.22)\tAcc@5  43.75 ( 46.70)\n"
     ]
    },
    {
     "name": "stdout",
     "output_type": "stream",
     "text": [
      "Epoch: [2][1400/2503]\tTime  1.825 ( 1.752)\tData  0.000 ( 0.002)\tLoss 3.8482e+00 (3.7488e+00)\tAcc@1  19.53 ( 23.26)\tAcc@5  41.80 ( 46.73)\n"
     ]
    },
    {
     "name": "stdout",
     "output_type": "stream",
     "text": [
      "Epoch: [2][1450/2503]\tTime  1.912 ( 1.757)\tData  0.000 ( 0.002)\tLoss 3.6989e+00 (3.7480e+00)\tAcc@1  25.39 ( 23.27)\tAcc@5  47.27 ( 46.75)\n"
     ]
    },
    {
     "name": "stdout",
     "output_type": "stream",
     "text": [
      "Epoch: [2][1500/2503]\tTime  1.920 ( 1.761)\tData  0.000 ( 0.002)\tLoss 3.6085e+00 (3.7469e+00)\tAcc@1  21.48 ( 23.29)\tAcc@5  47.27 ( 46.77)\n"
     ]
    },
    {
     "name": "stdout",
     "output_type": "stream",
     "text": [
      "Epoch: [2][1550/2503]\tTime  1.875 ( 1.765)\tData  0.000 ( 0.002)\tLoss 3.7160e+00 (3.7445e+00)\tAcc@1  20.70 ( 23.30)\tAcc@5  44.92 ( 46.81)\n"
     ]
    },
    {
     "name": "stdout",
     "output_type": "stream",
     "text": [
      "Epoch: [2][1600/2503]\tTime  1.881 ( 1.769)\tData  0.000 ( 0.002)\tLoss 3.7550e+00 (3.7418e+00)\tAcc@1  22.66 ( 23.35)\tAcc@5  44.53 ( 46.86)\n"
     ]
    },
    {
     "name": "stdout",
     "output_type": "stream",
     "text": [
      "Epoch: [2][1650/2503]\tTime  1.966 ( 1.773)\tData  0.000 ( 0.002)\tLoss 3.5371e+00 (3.7395e+00)\tAcc@1  28.52 ( 23.37)\tAcc@5  50.00 ( 46.91)\n"
     ]
    },
    {
     "name": "stdout",
     "output_type": "stream",
     "text": [
      "Epoch: [2][1700/2503]\tTime  1.808 ( 1.776)\tData  0.000 ( 0.002)\tLoss 3.7604e+00 (3.7364e+00)\tAcc@1  24.22 ( 23.40)\tAcc@5  49.61 ( 46.96)\n"
     ]
    },
    {
     "name": "stdout",
     "output_type": "stream",
     "text": [
      "Epoch: [2][1750/2503]\tTime  1.908 ( 1.781)\tData  0.000 ( 0.002)\tLoss 3.8496e+00 (3.7344e+00)\tAcc@1  25.39 ( 23.45)\tAcc@5  45.70 ( 47.00)\n"
     ]
    },
    {
     "name": "stdout",
     "output_type": "stream",
     "text": [
      "Epoch: [2][1800/2503]\tTime  1.905 ( 1.784)\tData  0.000 ( 0.002)\tLoss 3.5993e+00 (3.7318e+00)\tAcc@1  26.95 ( 23.47)\tAcc@5  50.00 ( 47.04)\n"
     ]
    },
    {
     "name": "stdout",
     "output_type": "stream",
     "text": [
      "Epoch: [2][1850/2503]\tTime  1.929 ( 1.788)\tData  0.001 ( 0.002)\tLoss 3.5585e+00 (3.7299e+00)\tAcc@1  28.91 ( 23.50)\tAcc@5  47.66 ( 47.09)\n"
     ]
    },
    {
     "name": "stdout",
     "output_type": "stream",
     "text": [
      "Epoch: [2][1900/2503]\tTime  1.899 ( 1.792)\tData  0.000 ( 0.002)\tLoss 3.9968e+00 (3.7277e+00)\tAcc@1  21.09 ( 23.54)\tAcc@5  38.67 ( 47.11)\n"
     ]
    },
    {
     "name": "stdout",
     "output_type": "stream",
     "text": [
      "Epoch: [2][1950/2503]\tTime  1.811 ( 1.795)\tData  0.000 ( 0.002)\tLoss 3.6691e+00 (3.7256e+00)\tAcc@1  23.83 ( 23.58)\tAcc@5  44.92 ( 47.16)\n"
     ]
    },
    {
     "name": "stdout",
     "output_type": "stream",
     "text": [
      "Epoch: [2][2000/2503]\tTime  1.983 ( 1.799)\tData  0.000 ( 0.002)\tLoss 3.5858e+00 (3.7235e+00)\tAcc@1  23.44 ( 23.62)\tAcc@5  50.78 ( 47.19)\n"
     ]
    },
    {
     "name": "stdout",
     "output_type": "stream",
     "text": [
      "Epoch: [2][2050/2503]\tTime  2.154 ( 1.805)\tData  0.000 ( 0.002)\tLoss 3.6140e+00 (3.7220e+00)\tAcc@1  24.61 ( 23.64)\tAcc@5  47.66 ( 47.21)\n"
     ]
    },
    {
     "name": "stdout",
     "output_type": "stream",
     "text": [
      "Epoch: [2][2100/2503]\tTime  1.988 ( 1.811)\tData  0.000 ( 0.002)\tLoss 3.6347e+00 (3.7202e+00)\tAcc@1  25.39 ( 23.66)\tAcc@5  48.44 ( 47.26)\n"
     ]
    },
    {
     "name": "stdout",
     "output_type": "stream",
     "text": [
      "Epoch: [2][2150/2503]\tTime  1.953 ( 1.817)\tData  0.000 ( 0.002)\tLoss 3.6646e+00 (3.7180e+00)\tAcc@1  25.00 ( 23.70)\tAcc@5  50.78 ( 47.31)\n"
     ]
    },
    {
     "name": "stdout",
     "output_type": "stream",
     "text": [
      "Epoch: [2][2200/2503]\tTime  2.107 ( 1.822)\tData  0.000 ( 0.002)\tLoss 3.7802e+00 (3.7155e+00)\tAcc@1  24.22 ( 23.73)\tAcc@5  43.75 ( 47.36)\n"
     ]
    },
    {
     "name": "stdout",
     "output_type": "stream",
     "text": [
      "Epoch: [2][2250/2503]\tTime  1.871 ( 1.828)\tData  0.000 ( 0.001)\tLoss 3.5598e+00 (3.7129e+00)\tAcc@1  26.95 ( 23.77)\tAcc@5  50.00 ( 47.41)\n"
     ]
    },
    {
     "name": "stdout",
     "output_type": "stream",
     "text": [
      "Epoch: [2][2300/2503]\tTime  2.142 ( 1.833)\tData  0.000 ( 0.001)\tLoss 3.7419e+00 (3.7097e+00)\tAcc@1  24.61 ( 23.81)\tAcc@5  49.22 ( 47.47)\n"
     ]
    },
    {
     "name": "stdout",
     "output_type": "stream",
     "text": [
      "Epoch: [2][2350/2503]\tTime  2.049 ( 1.838)\tData  0.000 ( 0.001)\tLoss 3.7882e+00 (3.7072e+00)\tAcc@1  23.44 ( 23.85)\tAcc@5  46.48 ( 47.51)\n"
     ]
    },
    {
     "name": "stdout",
     "output_type": "stream",
     "text": [
      "Epoch: [2][2400/2503]\tTime  2.026 ( 1.844)\tData  0.000 ( 0.001)\tLoss 3.4983e+00 (3.7047e+00)\tAcc@1  23.44 ( 23.88)\tAcc@5  52.34 ( 47.57)\n"
     ]
    },
    {
     "name": "stdout",
     "output_type": "stream",
     "text": [
      "Epoch: [2][2450/2503]\tTime  2.055 ( 1.848)\tData  0.000 ( 0.001)\tLoss 3.5402e+00 (3.7018e+00)\tAcc@1  25.39 ( 23.92)\tAcc@5  50.39 ( 47.62)\n"
     ]
    },
    {
     "name": "stdout",
     "output_type": "stream",
     "text": [
      "Epoch: [2][2500/2503]\tTime  1.756 ( 1.853)\tData  0.000 ( 0.001)\tLoss 3.6609e+00 (3.6989e+00)\tAcc@1  22.27 ( 23.96)\tAcc@5  48.83 ( 47.68)\n"
     ]
    },
    {
     "name": "stdout",
     "output_type": "stream",
     "text": [
      "Test: [  0/196]\tTime  3.307 ( 3.307)\tLoss 2.7291e+00 (2.7291e+00)\tAcc@1  38.67 ( 38.67)\tAcc@5  73.44 ( 73.44)\n"
     ]
    },
    {
     "name": "stdout",
     "output_type": "stream",
     "text": [
      "Test: [ 50/196]\tTime  2.268 ( 1.234)\tLoss 3.4507e+00 (3.4355e+00)\tAcc@1  23.05 ( 25.84)\tAcc@5  48.83 ( 52.08)\n"
     ]
    },
    {
     "name": "stdout",
     "output_type": "stream",
     "text": [
      "Test: [100/196]\tTime  1.575 ( 1.223)\tLoss 4.9146e+00 (3.6011e+00)\tAcc@1   9.77 ( 24.50)\tAcc@5  21.48 ( 49.20)\n"
     ]
    },
    {
     "name": "stdout",
     "output_type": "stream",
     "text": [
      "Test: [150/196]\tTime  1.393 ( 1.178)\tLoss 4.5324e+00 (3.7452e+00)\tAcc@1  16.41 ( 23.11)\tAcc@5  31.64 ( 46.54)\n"
     ]
    },
    {
     "name": "stdout",
     "output_type": "stream",
     "text": [
      " * Acc@1 23.008 Acc@5 46.276\n"
     ]
    },
    {
     "name": "stdout",
     "output_type": "stream",
     "text": [
      "lr: [0.001]\n"
     ]
    }
   ],
   "source": [
    "#Initiating weights and biases\n",
    "wandb.watch(model)\n",
    "\n",
    "for epoch in range(START_EPOCH, EPOCHS):\n",
    "    #adjust_learning_rate(optimizer, epoch)\n",
    "    \n",
    "    # train for one epoch\n",
    "    train(train_loader, model, criterion, optimizer, epoch)\n",
    "\n",
    "    # evaluate on validation set\n",
    "    acc1 = validate(val_loader, model, criterion)\n",
    "\n",
    "    # remember best acc@1 and save checkpoint\n",
    "    is_best = acc1 > best_acc1\n",
    "    best_acc1 = max(acc1, best_acc1)\n",
    "\n",
    "\n",
    "    save_checkpoint({\n",
    "        'epoch': epoch + 1,\n",
    "        'arch': ARCH,\n",
    "        'state_dict': model.state_dict(),\n",
    "        'best_acc1': best_acc1,\n",
    "        'optimizer' : optimizer.state_dict(),\n",
    "    }, is_best)\n",
    "    \n",
    "    scheduler.step(acc1)\n",
    "    \n",
    "    print('lr: ' + str(scheduler.get_last_lr()))"
   ]
  }
 ],
 "metadata": {
  "kernelspec": {
   "display_name": "Python 3 (ipykernel)",
   "language": "python",
   "name": "python3"
  },
  "language_info": {
   "codemirror_mode": {
    "name": "ipython",
    "version": 3
   },
   "file_extension": ".py",
   "mimetype": "text/x-python",
   "name": "python",
   "nbconvert_exporter": "python",
   "pygments_lexer": "ipython3",
   "version": "3.8.10"
  },
  "papermill": {
   "default_parameters": {},
   "duration": 11847.842358,
   "end_time": "2021-10-22T19:47:06.938116",
   "environment_variables": {},
   "exception": null,
   "input_path": "/data/Homework9/Homework9 Main Machine.ipynb",
   "output_path": "/data/Homework9/Homework9 Main Machine Final.ipynb",
   "parameters": {},
   "start_time": "2021-10-22T16:29:39.095758",
   "version": "2.3.3"
  }
 },
 "nbformat": 4,
 "nbformat_minor": 5
}