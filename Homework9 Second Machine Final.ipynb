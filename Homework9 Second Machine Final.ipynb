{
 "cells": [
  {
   "cell_type": "code",
   "execution_count": 1,
   "id": "09bed933",
   "metadata": {
    "execution": {
     "iopub.execute_input": "2021-10-22T16:30:14.402587Z",
     "iopub.status.busy": "2021-10-22T16:30:14.402161Z",
     "iopub.status.idle": "2021-10-22T16:30:15.608910Z",
     "shell.execute_reply": "2021-10-22T16:30:15.609267Z"
    },
    "papermill": {
     "duration": 1.224945,
     "end_time": "2021-10-22T16:30:15.609475",
     "exception": false,
     "start_time": "2021-10-22T16:30:14.384530",
     "status": "completed"
    },
    "tags": []
   },
   "outputs": [],
   "source": [
    "import os\n",
    "import random\n",
    "import shutil\n",
    "import time\n",
    "import warnings\n",
    "\n",
    "import torch\n",
    "import torch.nn as nn\n",
    "import torch.backends.cudnn as cudnn\n",
    "import torch.optim\n",
    "import torch.cuda.amp as amp\n",
    "\n",
    "import torch.utils.data\n",
    "import torchvision\n",
    "import torchvision.transforms as transforms\n",
    "import torchvision.datasets as datasets\n",
    "import torchvision.models as models\n",
    "\n",
    "#importing distributed and weights and biases\n",
    "import torch.distributed as dist\n",
    "import wandb"
   ]
  },
  {
   "cell_type": "code",
   "execution_count": 2,
   "id": "254e8952",
   "metadata": {
    "execution": {
     "iopub.execute_input": "2021-10-22T16:30:15.634619Z",
     "iopub.status.busy": "2021-10-22T16:30:15.634223Z",
     "iopub.status.idle": "2021-10-22T16:30:17.428960Z",
     "shell.execute_reply": "2021-10-22T16:30:17.429470Z"
    },
    "papermill": {
     "duration": 1.809388,
     "end_time": "2021-10-22T16:30:17.429641",
     "exception": false,
     "start_time": "2021-10-22T16:30:15.620253",
     "status": "completed"
    },
    "tags": []
   },
   "outputs": [
    {
     "name": "stderr",
     "output_type": "stream",
     "text": [
      "Failed to detect the name of this notebook, you can set it manually with the WANDB_NOTEBOOK_NAME environment variable to enable code saving.\n"
     ]
    },
    {
     "name": "stderr",
     "output_type": "stream",
     "text": [
      "\u001b[34m\u001b[1mwandb\u001b[0m: Currently logged in as: \u001b[33mmalachyiii\u001b[0m (use `wandb login --relogin` to force relogin)\n"
     ]
    },
    {
     "name": "stderr",
     "output_type": "stream",
     "text": [
      "\n",
      "CondaEnvException: Unable to determine environment\n",
      "\n",
      "Please re-run this command with one of the following options:\n",
      "\n",
      "* Provide an environment name via --name or -n\n",
      "* Re-run this command inside an activated conda environment.\n",
      "\n"
     ]
    },
    {
     "data": {
      "text/html": [
       "\n",
       "                    Syncing run <strong><a href=\"https://wandb.ai/malachyiii/Homework9-take2/runs/37qmilsb\" target=\"_blank\">northern-moon-4</a></strong> to <a href=\"https://wandb.ai/malachyiii/Homework9-take2\" target=\"_blank\">Weights & Biases</a> (<a href=\"https://docs.wandb.com/integrations/jupyter.html\" target=\"_blank\">docs</a>).<br/>\n",
       "\n",
       "                "
      ],
      "text/plain": [
       "<IPython.core.display.HTML object>"
      ]
     },
     "metadata": {},
     "output_type": "display_data"
    },
    {
     "data": {
      "text/html": [
       "<button onClick=\"this.nextSibling.style.display='block';this.style.display='none';\">Display W&B run</button><iframe src=\"https://wandb.ai/malachyiii/Homework9-take2/runs/37qmilsb?jupyter=true\" style=\"border:none;width:100%;height:420px;display:none;\"></iframe>"
      ],
      "text/plain": [
       "<wandb.sdk.wandb_run.Run at 0x7f612c2b3520>"
      ]
     },
     "execution_count": 2,
     "metadata": {},
     "output_type": "execute_result"
    }
   ],
   "source": [
    "wandb.init(project='Homework9-take2', entity='malachyiii')"
   ]
  },
  {
   "cell_type": "code",
   "execution_count": 3,
   "id": "0a4f2573",
   "metadata": {
    "execution": {
     "iopub.execute_input": "2021-10-22T16:30:17.507898Z",
     "iopub.status.busy": "2021-10-22T16:30:17.505103Z",
     "iopub.status.idle": "2021-10-22T16:30:17.511414Z",
     "shell.execute_reply": "2021-10-22T16:30:17.511840Z"
    },
    "papermill": {
     "duration": 0.063265,
     "end_time": "2021-10-22T16:30:17.512001",
     "exception": false,
     "start_time": "2021-10-22T16:30:17.448736",
     "status": "completed"
    },
    "tags": []
   },
   "outputs": [
    {
     "name": "stdout",
     "output_type": "stream",
     "text": [
      "True\n",
      "0\n",
      "1\n",
      "Tesla T4\n"
     ]
    }
   ],
   "source": [
    "print(torch.cuda.is_available())\n",
    "print(torch.cuda.current_device())\n",
    "torch.cuda.device(0)\n",
    "print(torch.cuda.device_count())\n",
    "print(torch.cuda.get_device_name(0))\n",
    "torch.cuda.empty_cache()"
   ]
  },
  {
   "cell_type": "code",
   "execution_count": 4,
   "id": "5ae9bbf2",
   "metadata": {
    "execution": {
     "iopub.execute_input": "2021-10-22T16:30:17.540529Z",
     "iopub.status.busy": "2021-10-22T16:30:17.539915Z",
     "iopub.status.idle": "2021-10-22T16:30:17.544829Z",
     "shell.execute_reply": "2021-10-22T16:30:17.544430Z"
    },
    "papermill": {
     "duration": 0.020168,
     "end_time": "2021-10-22T16:30:17.544930",
     "exception": false,
     "start_time": "2021-10-22T16:30:17.524762",
     "status": "completed"
    },
    "tags": []
   },
   "outputs": [],
   "source": [
    "SEED=1\n",
    "random.seed(SEED)\n",
    "torch.manual_seed(SEED)\n",
    "cudnn.deterministic = True"
   ]
  },
  {
   "cell_type": "code",
   "execution_count": 5,
   "id": "6a33b256",
   "metadata": {
    "execution": {
     "iopub.execute_input": "2021-10-22T16:30:17.575916Z",
     "iopub.status.busy": "2021-10-22T16:30:17.574246Z",
     "iopub.status.idle": "2021-10-22T16:30:17.881037Z",
     "shell.execute_reply": "2021-10-22T16:30:17.881382Z"
    },
    "papermill": {
     "duration": 0.322199,
     "end_time": "2021-10-22T16:30:17.881510",
     "exception": false,
     "start_time": "2021-10-22T16:30:17.559311",
     "status": "completed"
    },
    "tags": [
     "parameters"
    ]
   },
   "outputs": [],
   "source": [
    "#Trying resnet34 because it is fast\n",
    "ARCH = torchvision.models.resnet34(pretrained=False)\n",
    "START_EPOCH = 0\n",
    "EPOCHS = 3\n",
    "\n",
    "#The following parameters based on the paper at https://arxiv.org/pdf/1512.03385.pdf\n",
    "TRAIN_BATCH=256\n",
    "VAL_BATCH=256\n",
    "MOMENTUM = 0.9\n",
    "WEIGHT_DECAY = 1e-4\n",
    "LR = 0.01\n",
    "IMG_SIZE = 224\n",
    "\n",
    "#Logging wandb config\n",
    "\n",
    "wandb.config = {\n",
    "  \"learning_rate\": LR,\n",
    "  \"epochs\": EPOCHS,\n",
    "  \"batch_size\": TRAIN_BATCH,\n",
    "  \"momentum\": MOMENTUM,\n",
    "  \"weight_decay\": WEIGHT_DECAY,\n",
    "  \"image_size\": IMG_SIZE\n",
    "}\n",
    "\n",
    "PRINT_FREQ = 50\n",
    "WORKERS=2\n",
    "\n",
    "TRAINDIR=\"/data/train\"\n",
    "VALDIR=\"/data/val\""
   ]
  },
  {
   "cell_type": "code",
   "execution_count": 6,
   "id": "7428b644",
   "metadata": {
    "execution": {
     "iopub.execute_input": "2021-10-22T16:30:17.911570Z",
     "iopub.status.busy": "2021-10-22T16:30:17.910805Z",
     "iopub.status.idle": "2021-10-22T16:30:17.914432Z",
     "shell.execute_reply": "2021-10-22T16:30:17.914035Z"
    },
    "papermill": {
     "duration": 0.017717,
     "end_time": "2021-10-22T16:30:17.914520",
     "exception": false,
     "start_time": "2021-10-22T16:30:17.896803",
     "status": "completed"
    },
    "tags": []
   },
   "outputs": [],
   "source": [
    "GPU = torch.cuda.current_device()\n",
    "torch.cuda.device(GPU)\n",
    "cudnn.benchmark = True"
   ]
  },
  {
   "cell_type": "code",
   "execution_count": 7,
   "id": "76f40393",
   "metadata": {
    "execution": {
     "iopub.execute_input": "2021-10-22T16:30:17.941115Z",
     "iopub.status.busy": "2021-10-22T16:30:17.940490Z",
     "iopub.status.idle": "2021-10-22T16:30:17.942466Z",
     "shell.execute_reply": "2021-10-22T16:30:17.942864Z"
    },
    "papermill": {
     "duration": 0.017131,
     "end_time": "2021-10-22T16:30:17.942994",
     "exception": false,
     "start_time": "2021-10-22T16:30:17.925863",
     "status": "completed"
    },
    "tags": []
   },
   "outputs": [],
   "source": [
    "if not torch.cuda.is_available():\n",
    "    print('GPU not detected.. did you pass through your GPU?')"
   ]
  },
  {
   "cell_type": "code",
   "execution_count": 8,
   "id": "fbee1d16",
   "metadata": {
    "execution": {
     "iopub.execute_input": "2021-10-22T16:30:17.973550Z",
     "iopub.status.busy": "2021-10-22T16:30:17.973143Z",
     "iopub.status.idle": "2021-10-22T16:30:17.993992Z",
     "shell.execute_reply": "2021-10-22T16:30:17.994305Z"
    },
    "papermill": {
     "duration": 0.03713,
     "end_time": "2021-10-22T16:30:17.994418",
     "exception": false,
     "start_time": "2021-10-22T16:30:17.957288",
     "status": "completed"
    },
    "tags": []
   },
   "outputs": [],
   "source": [
    "#Setting up the cluster and the world\n",
    "WORLD_SIZE = 2\n",
    "BACKEND = 'nccl'\n",
    "URL = 'tcp://35.163.183.149:5000'\n",
    "RANK = 1\n",
    "\n",
    "dist.init_process_group(backend = BACKEND, init_method= URL,\n",
    "                                world_size= WORLD_SIZE, rank=RANK)"
   ]
  },
  {
   "cell_type": "code",
   "execution_count": 9,
   "id": "522edd2b",
   "metadata": {
    "execution": {
     "iopub.execute_input": "2021-10-22T16:30:18.021181Z",
     "iopub.status.busy": "2021-10-22T16:30:18.020380Z",
     "iopub.status.idle": "2021-10-22T16:30:18.023337Z",
     "shell.execute_reply": "2021-10-22T16:30:18.023018Z"
    },
    "papermill": {
     "duration": 0.017349,
     "end_time": "2021-10-22T16:30:18.023431",
     "exception": false,
     "start_time": "2021-10-22T16:30:18.006082",
     "status": "completed"
    },
    "tags": []
   },
   "outputs": [],
   "source": [
    "imagenet_mean_RGB = [0.47889522, 0.47227842, 0.43047404]\n",
    "imagenet_std_RGB = [0.229, 0.224, 0.225]"
   ]
  },
  {
   "cell_type": "code",
   "execution_count": 10,
   "id": "020a97b3",
   "metadata": {
    "execution": {
     "iopub.execute_input": "2021-10-22T16:30:18.050275Z",
     "iopub.status.busy": "2021-10-22T16:30:18.049404Z",
     "iopub.status.idle": "2021-10-22T16:30:22.363084Z",
     "shell.execute_reply": "2021-10-22T16:30:22.363428Z"
    },
    "papermill": {
     "duration": 4.328705,
     "end_time": "2021-10-22T16:30:22.363557",
     "exception": false,
     "start_time": "2021-10-22T16:30:18.034852",
     "status": "completed"
    },
    "tags": []
   },
   "outputs": [],
   "source": [
    "transform_train = transforms.Compose([\n",
    "    transforms.Resize((IMG_SIZE, IMG_SIZE)),\n",
    "    # transformations based on https://arxiv.org/pdf/1512.03385.pdf\n",
    "    transforms.RandomHorizontalFlip(),\n",
    "    transforms.ToTensor(),\n",
    "    transforms.Normalize(imagenet_mean_RGB, imagenet_std_RGB),\n",
    "])\n",
    "\n",
    "transform_val = transforms.Compose([\n",
    "    transforms.Resize((IMG_SIZE, IMG_SIZE)),\n",
    "    transforms.ToTensor(),\n",
    "    transforms.Normalize(imagenet_mean_RGB, imagenet_std_RGB),\n",
    "])\n",
    "\n",
    "train_dataset = torchvision.datasets.ImageFolder('/data/train', transform=transform_train)\n",
    "val_dataset = torchvision.datasets.ImageFolder('/data/val', transform=transform_val)"
   ]
  },
  {
   "cell_type": "code",
   "execution_count": 11,
   "id": "99379404",
   "metadata": {
    "execution": {
     "iopub.execute_input": "2021-10-22T16:30:22.391924Z",
     "iopub.status.busy": "2021-10-22T16:30:22.391425Z",
     "iopub.status.idle": "2021-10-22T16:30:22.393952Z",
     "shell.execute_reply": "2021-10-22T16:30:22.393610Z"
    },
    "papermill": {
     "duration": 0.018762,
     "end_time": "2021-10-22T16:30:22.394038",
     "exception": false,
     "start_time": "2021-10-22T16:30:22.375276",
     "status": "completed"
    },
    "tags": []
   },
   "outputs": [],
   "source": [
    "#Setting up the train loader with a distributed Sampler\n",
    "train_loader = torch.utils.data.DataLoader(train_dataset, batch_size=TRAIN_BATCH, \n",
    "                              shuffle=False, num_workers=WORKERS, pin_memory=True, \n",
    "                                           sampler=torch.utils.data.distributed.DistributedSampler(train_dataset))\n",
    "val_loader = torch.utils.data.DataLoader(val_dataset, batch_size=VAL_BATCH, \n",
    "                              shuffle=False, num_workers=WORKERS, sampler=None)"
   ]
  },
  {
   "cell_type": "code",
   "execution_count": 12,
   "id": "12b592dd",
   "metadata": {
    "execution": {
     "iopub.execute_input": "2021-10-22T16:30:22.424921Z",
     "iopub.status.busy": "2021-10-22T16:30:22.418415Z",
     "iopub.status.idle": "2021-10-22T16:30:22.427307Z",
     "shell.execute_reply": "2021-10-22T16:30:22.427700Z"
    },
    "papermill": {
     "duration": 0.022632,
     "end_time": "2021-10-22T16:30:22.427844",
     "exception": false,
     "start_time": "2021-10-22T16:30:22.405212",
     "status": "completed"
    },
    "tags": []
   },
   "outputs": [],
   "source": [
    "def train(train_loader, model, criterion, optimizer, epoch):\n",
    "    batch_time = AverageMeter('Time', ':6.3f')\n",
    "    data_time = AverageMeter('Data', ':6.3f')\n",
    "    losses = AverageMeter('Loss', ':.4e')\n",
    "    top1 = AverageMeter('Acc@1', ':6.2f')\n",
    "    top5 = AverageMeter('Acc@5', ':6.2f')\n",
    "    progress = ProgressMeter(\n",
    "        len(train_loader),\n",
    "        [batch_time, data_time, losses, top1, top5],\n",
    "        prefix=\"Epoch: [{}]\".format(epoch))\n",
    "    \n",
    "    ######################\n",
    "    # switch model to train mode here\n",
    "    model.train()\n",
    "    ################\n",
    "\n",
    "    end = time.time()\n",
    "    for i, (images, target) in enumerate(train_loader):\n",
    "        # measure data loading time\n",
    "        data_time.update(time.time() - end)\n",
    "\n",
    "        #####################\n",
    "        # send the images to cuda device\n",
    "        if GPU is not None:\n",
    "            images, target = images.cuda(GPU, non_blocking = True), target.cuda(GPU, non_blocking = True)\n",
    "        # send the target to cuda device\n",
    "\n",
    "        \n",
    "        ####Utilizing PyTorch native AMP####\n",
    "        with amp.autocast():\n",
    "            # compute output\n",
    "            output = model(images)\n",
    "            # compute loss \n",
    "            loss = criterion(output, target)\n",
    "        \n",
    "        \n",
    "        # measure accuracy and record loss\n",
    "        acc1, acc5 = accuracy(output, target, topk=(1, 5))\n",
    "        losses.update(loss.item(), images.size(0))\n",
    "        top1.update(acc1[0], images.size(0))\n",
    "        top5.update(acc5[0], images.size(0))\n",
    "        \n",
    "        #Logging the metrics\n",
    "        wandb.log({\"loss\": loss,\n",
    "                   \"acc1\": acc1,\n",
    "                   \"acc5\": acc5})\n",
    "        \n",
    "        wandb.watch(model)\n",
    "\n",
    "        # compute gradient and do SGD step\n",
    "        \n",
    "        #### zero out gradients in the optimier\n",
    "        optimizer.zero_grad()\n",
    "        \n",
    "        ## backprop!\n",
    "        scaler.scale(loss).backward()\n",
    "        \n",
    "        # update the weights!\n",
    "        scaler.step(optimizer)\n",
    "        scaler.update()\n",
    "\n",
    "        # measure elapsed time\n",
    "        batch_time.update(time.time() - end)\n",
    "        end = time.time()\n",
    "\n",
    "        if i % PRINT_FREQ == 0:\n",
    "            progress.display(i)"
   ]
  },
  {
   "cell_type": "code",
   "execution_count": 13,
   "id": "e38cd4e9",
   "metadata": {
    "execution": {
     "iopub.execute_input": "2021-10-22T16:30:22.459365Z",
     "iopub.status.busy": "2021-10-22T16:30:22.458903Z",
     "iopub.status.idle": "2021-10-22T16:30:22.461385Z",
     "shell.execute_reply": "2021-10-22T16:30:22.460990Z"
    },
    "papermill": {
     "duration": 0.020029,
     "end_time": "2021-10-22T16:30:22.461467",
     "exception": false,
     "start_time": "2021-10-22T16:30:22.441438",
     "status": "completed"
    },
    "tags": []
   },
   "outputs": [],
   "source": [
    "def validate(val_loader, model, criterion):\n",
    "    batch_time = AverageMeter('Time', ':6.3f')\n",
    "    losses = AverageMeter('Loss', ':.4e')\n",
    "    top1 = AverageMeter('Acc@1', ':6.2f')\n",
    "    top5 = AverageMeter('Acc@5', ':6.2f')\n",
    "    progress = ProgressMeter(\n",
    "        len(val_loader),\n",
    "        [batch_time, losses, top1, top5],\n",
    "        prefix='Test: ')\n",
    "\n",
    "    # switch to evaluate mode\n",
    "    model.eval()\n",
    "\n",
    "    with torch.no_grad():\n",
    "        end = time.time()\n",
    "        for i, (images, target) in enumerate(val_loader):\n",
    "            \n",
    "            \n",
    "            ### send the images and target to cuda\n",
    "            images, target = images.to(GPU), target.to(GPU)\n",
    "\n",
    "            # compute output\n",
    "            output = model(images)\n",
    "\n",
    "            # compute loss\n",
    "            loss = criterion(output, target)\n",
    "\n",
    "\n",
    "            # measure accuracy and record loss\n",
    "            acc1, acc5 = accuracy(output, target, topk=(1, 5))\n",
    "            losses.update(loss.item(), images.size(0))\n",
    "            top1.update(acc1[0], images.size(0))\n",
    "            top5.update(acc5[0], images.size(0))\n",
    "\n",
    "            # measure elapsed time\n",
    "            batch_time.update(time.time() - end)\n",
    "            end = time.time()\n",
    "\n",
    "            if i % PRINT_FREQ == 0:\n",
    "                progress.display(i)\n",
    "\n",
    "        # TODO: this should also be done with the ProgressMeter\n",
    "        print(' * Acc@1 {top1.avg:.3f} Acc@5 {top5.avg:.3f}'\n",
    "              .format(top1=top1, top5=top5))\n",
    "\n",
    "    return top1.avg"
   ]
  },
  {
   "cell_type": "code",
   "execution_count": 14,
   "id": "a124a243",
   "metadata": {
    "execution": {
     "iopub.execute_input": "2021-10-22T16:30:22.487238Z",
     "iopub.status.busy": "2021-10-22T16:30:22.486216Z",
     "iopub.status.idle": "2021-10-22T16:30:22.489285Z",
     "shell.execute_reply": "2021-10-22T16:30:22.489621Z"
    },
    "papermill": {
     "duration": 0.016995,
     "end_time": "2021-10-22T16:30:22.489721",
     "exception": false,
     "start_time": "2021-10-22T16:30:22.472726",
     "status": "completed"
    },
    "tags": []
   },
   "outputs": [],
   "source": [
    "def save_checkpoint(state, is_best, filename='checkpoint.pth.tar'):\n",
    "    # save the model state!\n",
    "    torch.save(state, filename) \n",
    "    if is_best:\n",
    "        shutil.copyfile(filename, 'model_best.pth.tar')"
   ]
  },
  {
   "cell_type": "code",
   "execution_count": 15,
   "id": "db50ae08",
   "metadata": {
    "execution": {
     "iopub.execute_input": "2021-10-22T16:30:22.517220Z",
     "iopub.status.busy": "2021-10-22T16:30:22.516105Z",
     "iopub.status.idle": "2021-10-22T16:30:22.519407Z",
     "shell.execute_reply": "2021-10-22T16:30:22.519697Z"
    },
    "papermill": {
     "duration": 0.018573,
     "end_time": "2021-10-22T16:30:22.519822",
     "exception": false,
     "start_time": "2021-10-22T16:30:22.501249",
     "status": "completed"
    },
    "tags": []
   },
   "outputs": [],
   "source": [
    "class AverageMeter(object):\n",
    "    \"\"\"Computes and stores the average and current value\"\"\"\n",
    "    def __init__(self, name, fmt=':f'):\n",
    "        self.name = name\n",
    "        self.fmt = fmt\n",
    "        self.reset()\n",
    "\n",
    "    def reset(self):\n",
    "        self.val = 0\n",
    "        self.avg = 0\n",
    "        self.sum = 0\n",
    "        self.count = 0\n",
    "\n",
    "    def update(self, val, n=1):\n",
    "        self.val = val\n",
    "        self.sum += val * n\n",
    "        self.count += n\n",
    "        self.avg = self.sum / self.count\n",
    "\n",
    "    def __str__(self):\n",
    "        fmtstr = '{name} {val' + self.fmt + '} ({avg' + self.fmt + '})'\n",
    "        return fmtstr.format(**self.__dict__)"
   ]
  },
  {
   "cell_type": "code",
   "execution_count": 16,
   "id": "75a6880f",
   "metadata": {
    "execution": {
     "iopub.execute_input": "2021-10-22T16:30:22.546563Z",
     "iopub.status.busy": "2021-10-22T16:30:22.545512Z",
     "iopub.status.idle": "2021-10-22T16:30:22.548873Z",
     "shell.execute_reply": "2021-10-22T16:30:22.549180Z"
    },
    "papermill": {
     "duration": 0.018111,
     "end_time": "2021-10-22T16:30:22.549275",
     "exception": false,
     "start_time": "2021-10-22T16:30:22.531164",
     "status": "completed"
    },
    "tags": []
   },
   "outputs": [],
   "source": [
    "class ProgressMeter(object):\n",
    "    def __init__(self, num_batches, meters, prefix=\"\"):\n",
    "        self.batch_fmtstr = self._get_batch_fmtstr(num_batches)\n",
    "        self.meters = meters\n",
    "        self.prefix = prefix\n",
    "\n",
    "    def display(self, batch):\n",
    "        entries = [self.prefix + self.batch_fmtstr.format(batch)]\n",
    "        entries += [str(meter) for meter in self.meters]\n",
    "        print('\\t'.join(entries))\n",
    "\n",
    "    def _get_batch_fmtstr(self, num_batches):\n",
    "        num_digits = len(str(num_batches // 1))\n",
    "        fmt = '{:' + str(num_digits) + 'd}'\n",
    "        return '[' + fmt + '/' + fmt.format(num_batches) + ']'"
   ]
  },
  {
   "cell_type": "code",
   "execution_count": 17,
   "id": "e5f58d0f",
   "metadata": {
    "execution": {
     "iopub.execute_input": "2021-10-22T16:30:22.576123Z",
     "iopub.status.busy": "2021-10-22T16:30:22.575566Z",
     "iopub.status.idle": "2021-10-22T16:30:22.578209Z",
     "shell.execute_reply": "2021-10-22T16:30:22.577823Z"
    },
    "papermill": {
     "duration": 0.017743,
     "end_time": "2021-10-22T16:30:22.578288",
     "exception": false,
     "start_time": "2021-10-22T16:30:22.560545",
     "status": "completed"
    },
    "tags": []
   },
   "outputs": [],
   "source": [
    "def accuracy(output, target, topk=(1,)):\n",
    "    \"\"\"Computes the accuracy over the k top predictions for the specified values of k\"\"\"\n",
    "    with torch.no_grad():\n",
    "        maxk = max(topk)\n",
    "        batch_size = target.size(0)\n",
    "\n",
    "        _, pred = output.topk(maxk, 1, True, True)\n",
    "        pred = pred.t()\n",
    "        correct = pred.eq(target.view(1, -1).expand_as(pred))\n",
    "\n",
    "        res = []\n",
    "        for k in topk:\n",
    "            correct_k = correct[:k].reshape(-1).float().sum(0, keepdim=True)\n",
    "            res.append(correct_k.mul_(100.0 / batch_size))\n",
    "        return res"
   ]
  },
  {
   "cell_type": "code",
   "execution_count": 18,
   "id": "8c9116a6",
   "metadata": {
    "execution": {
     "iopub.execute_input": "2021-10-22T16:30:22.604331Z",
     "iopub.status.busy": "2021-10-22T16:30:22.603893Z",
     "iopub.status.idle": "2021-10-22T16:30:22.605901Z",
     "shell.execute_reply": "2021-10-22T16:30:22.606223Z"
    },
    "papermill": {
     "duration": 0.016603,
     "end_time": "2021-10-22T16:30:22.606319",
     "exception": false,
     "start_time": "2021-10-22T16:30:22.589716",
     "status": "completed"
    },
    "tags": []
   },
   "outputs": [],
   "source": [
    "def adjust_learning_rate(optimizer, epoch):\n",
    "    \"\"\"Sets the learning rate to the initial LR decayed by 10 every 1/3 of the epochs\"\"\"\n",
    "    lr = LR * (0.1 ** (epoch // int(round(EPOCHS/3, 0))))\n",
    "    for param_group in optimizer.param_groups:\n",
    "        param_group['lr'] = lr"
   ]
  },
  {
   "cell_type": "code",
   "execution_count": 19,
   "id": "41ab07c9",
   "metadata": {
    "execution": {
     "iopub.execute_input": "2021-10-22T16:30:22.633757Z",
     "iopub.status.busy": "2021-10-22T16:30:22.632940Z",
     "iopub.status.idle": "2021-10-22T16:30:22.635111Z",
     "shell.execute_reply": "2021-10-22T16:30:22.635492Z"
    },
    "papermill": {
     "duration": 0.017079,
     "end_time": "2021-10-22T16:30:22.635596",
     "exception": false,
     "start_time": "2021-10-22T16:30:22.618517",
     "status": "completed"
    },
    "tags": []
   },
   "outputs": [],
   "source": [
    "normalize = transforms.Normalize(mean=imagenet_mean_RGB, std=imagenet_std_RGB)"
   ]
  },
  {
   "cell_type": "code",
   "execution_count": 20,
   "id": "aef2293c",
   "metadata": {
    "execution": {
     "iopub.execute_input": "2021-10-22T16:30:22.661027Z",
     "iopub.status.busy": "2021-10-22T16:30:22.660519Z",
     "iopub.status.idle": "2021-10-22T16:30:26.723022Z",
     "shell.execute_reply": "2021-10-22T16:30:26.725023Z"
    },
    "papermill": {
     "duration": 4.078599,
     "end_time": "2021-10-22T16:30:26.725524",
     "exception": false,
     "start_time": "2021-10-22T16:30:22.646925",
     "status": "completed"
    },
    "scrolled": false,
    "tags": []
   },
   "outputs": [],
   "source": [
    "model = ARCH\n",
    "model.cuda(GPU)\n",
    "model = torch.nn.parallel.DistributedDataParallel(model, device_ids=[GPU])"
   ]
  },
  {
   "cell_type": "code",
   "execution_count": 21,
   "id": "da2c1fa5",
   "metadata": {
    "execution": {
     "iopub.execute_input": "2021-10-22T16:30:26.768782Z",
     "iopub.status.busy": "2021-10-22T16:30:26.768336Z",
     "iopub.status.idle": "2021-10-22T16:30:26.770287Z",
     "shell.execute_reply": "2021-10-22T16:30:26.770601Z"
    },
    "papermill": {
     "duration": 0.018551,
     "end_time": "2021-10-22T16:30:26.770713",
     "exception": false,
     "start_time": "2021-10-22T16:30:26.752162",
     "status": "completed"
    },
    "tags": []
   },
   "outputs": [],
   "source": [
    "criterion = nn.CrossEntropyLoss().cuda(GPU)\n",
    "optimizer = torch.optim.SGD(params = model.parameters(), lr=LR, momentum=MOMENTUM, weight_decay=WEIGHT_DECAY)\n",
    "#Based on the same paper, https://arxiv.org/pdf/1512.03385.pdf\n",
    "scheduler = torch.optim.lr_scheduler.MultiStepLR(optimizer, milestones=[2])\n",
    "scaler = amp.GradScaler()"
   ]
  },
  {
   "cell_type": "code",
   "execution_count": 22,
   "id": "d4142804",
   "metadata": {
    "execution": {
     "iopub.execute_input": "2021-10-22T16:30:26.798456Z",
     "iopub.status.busy": "2021-10-22T16:30:26.797915Z",
     "iopub.status.idle": "2021-10-22T16:30:26.800084Z",
     "shell.execute_reply": "2021-10-22T16:30:26.800396Z"
    },
    "papermill": {
     "duration": 0.0184,
     "end_time": "2021-10-22T16:30:26.800505",
     "exception": false,
     "start_time": "2021-10-22T16:30:26.782105",
     "status": "completed"
    },
    "tags": []
   },
   "outputs": [],
   "source": [
    "best_acc1 = 0"
   ]
  },
  {
   "cell_type": "code",
   "execution_count": 23,
   "id": "21ddbb55",
   "metadata": {
    "execution": {
     "iopub.execute_input": "2021-10-22T16:30:26.829615Z",
     "iopub.status.busy": "2021-10-22T16:30:26.828955Z",
     "iopub.status.idle": "2021-10-22T19:47:04.139778Z",
     "shell.execute_reply": "2021-10-22T19:47:04.140322Z"
    },
    "papermill": {
     "duration": 11797.32939,
     "end_time": "2021-10-22T19:47:04.141290",
     "exception": false,
     "start_time": "2021-10-22T16:30:26.811900",
     "status": "completed"
    },
    "tags": []
   },
   "outputs": [
    {
     "name": "stdout",
     "output_type": "stream",
     "text": [
      "Epoch: [0][   0/2503]\tTime  9.983 ( 9.983)\tData  2.257 ( 2.257)\tLoss 7.0629e+00 (7.0629e+00)\tAcc@1   0.00 (  0.00)\tAcc@5   1.17 (  1.17)\n"
     ]
    },
    {
     "name": "stdout",
     "output_type": "stream",
     "text": [
      "Epoch: [0][  50/2503]\tTime  1.506 ( 1.192)\tData  0.366 ( 0.423)\tLoss 6.9042e+00 (6.9521e+00)\tAcc@1   0.39 (  0.15)\tAcc@5   1.17 (  0.68)\n"
     ]
    },
    {
     "name": "stdout",
     "output_type": "stream",
     "text": [
      "Epoch: [0][ 100/2503]\tTime  1.179 ( 1.120)\tData  0.273 ( 0.436)\tLoss 6.8957e+00 (6.9120e+00)\tAcc@1   0.00 (  0.18)\tAcc@5   0.00 (  0.82)\n"
     ]
    },
    {
     "name": "stdout",
     "output_type": "stream",
     "text": [
      "Epoch: [0][ 150/2503]\tTime  1.474 ( 1.099)\tData  0.954 ( 0.444)\tLoss 6.7762e+00 (6.8758e+00)\tAcc@1   0.39 (  0.23)\tAcc@5   2.34 (  1.05)\n"
     ]
    },
    {
     "name": "stdout",
     "output_type": "stream",
     "text": [
      "Epoch: [0][ 200/2503]\tTime  1.615 ( 1.079)\tData  1.092 ( 0.453)\tLoss 6.7043e+00 (6.8398e+00)\tAcc@1   0.39 (  0.32)\tAcc@5   1.56 (  1.35)\n"
     ]
    },
    {
     "name": "stdout",
     "output_type": "stream",
     "text": [
      "Epoch: [0][ 250/2503]\tTime  1.477 ( 1.069)\tData  0.957 ( 0.457)\tLoss 6.5989e+00 (6.7921e+00)\tAcc@1   0.00 (  0.42)\tAcc@5   1.56 (  1.67)\n"
     ]
    },
    {
     "name": "stdout",
     "output_type": "stream",
     "text": [
      "Epoch: [0][ 300/2503]\tTime  1.028 ( 1.068)\tData  0.061 ( 0.452)\tLoss 6.4721e+00 (6.7414e+00)\tAcc@1   0.39 (  0.50)\tAcc@5   3.52 (  2.00)\n"
     ]
    },
    {
     "name": "stdout",
     "output_type": "stream",
     "text": [
      "Epoch: [0][ 350/2503]\tTime  1.365 ( 1.062)\tData  0.823 ( 0.449)\tLoss 6.4464e+00 (6.6900e+00)\tAcc@1   0.39 (  0.60)\tAcc@5   2.73 (  2.34)\n"
     ]
    },
    {
     "name": "stdout",
     "output_type": "stream",
     "text": [
      "Epoch: [0][ 400/2503]\tTime  1.539 ( 1.059)\tData  1.006 ( 0.450)\tLoss 6.0390e+00 (6.6365e+00)\tAcc@1   2.73 (  0.68)\tAcc@5   8.98 (  2.66)\n"
     ]
    },
    {
     "name": "stdout",
     "output_type": "stream",
     "text": [
      "Epoch: [0][ 450/2503]\tTime  1.470 ( 1.056)\tData  0.929 ( 0.452)\tLoss 6.2054e+00 (6.5872e+00)\tAcc@1   1.56 (  0.79)\tAcc@5   4.69 (  3.01)\n"
     ]
    },
    {
     "name": "stdout",
     "output_type": "stream",
     "text": [
      "Epoch: [0][ 500/2503]\tTime  1.353 ( 1.053)\tData  0.693 ( 0.450)\tLoss 6.1336e+00 (6.5376e+00)\tAcc@1   1.17 (  0.91)\tAcc@5   5.47 (  3.42)\n"
     ]
    },
    {
     "name": "stdout",
     "output_type": "stream",
     "text": [
      "Epoch: [0][ 550/2503]\tTime  1.393 ( 1.053)\tData  0.844 ( 0.449)\tLoss 6.0744e+00 (6.4900e+00)\tAcc@1   2.34 (  1.04)\tAcc@5   8.20 (  3.86)\n"
     ]
    },
    {
     "name": "stdout",
     "output_type": "stream",
     "text": [
      "Epoch: [0][ 600/2503]\tTime  1.628 ( 1.051)\tData  0.938 ( 0.447)\tLoss 5.8102e+00 (6.4442e+00)\tAcc@1   3.91 (  1.18)\tAcc@5   9.77 (  4.28)\n"
     ]
    },
    {
     "name": "stdout",
     "output_type": "stream",
     "text": [
      "Epoch: [0][ 650/2503]\tTime  1.648 ( 1.050)\tData  0.505 ( 0.445)\tLoss 5.7644e+00 (6.3985e+00)\tAcc@1   3.91 (  1.33)\tAcc@5  12.11 (  4.75)\n"
     ]
    },
    {
     "name": "stdout",
     "output_type": "stream",
     "text": [
      "Epoch: [0][ 700/2503]\tTime  1.424 ( 1.048)\tData  0.886 ( 0.443)\tLoss 5.7927e+00 (6.3507e+00)\tAcc@1   3.91 (  1.51)\tAcc@5  12.89 (  5.23)\n"
     ]
    },
    {
     "name": "stdout",
     "output_type": "stream",
     "text": [
      "Epoch: [0][ 750/2503]\tTime  1.580 ( 1.047)\tData  0.693 ( 0.440)\tLoss 5.5420e+00 (6.3067e+00)\tAcc@1   2.34 (  1.64)\tAcc@5  14.06 (  5.66)\n"
     ]
    },
    {
     "name": "stdout",
     "output_type": "stream",
     "text": [
      "Epoch: [0][ 800/2503]\tTime  1.442 ( 1.046)\tData  0.909 ( 0.441)\tLoss 5.6841e+00 (6.2647e+00)\tAcc@1   3.12 (  1.80)\tAcc@5  10.55 (  6.09)\n"
     ]
    },
    {
     "name": "stdout",
     "output_type": "stream",
     "text": [
      "Epoch: [0][ 850/2503]\tTime  1.496 ( 1.044)\tData  0.841 ( 0.442)\tLoss 5.4517e+00 (6.2214e+00)\tAcc@1   6.64 (  1.96)\tAcc@5  18.36 (  6.56)\n"
     ]
    },
    {
     "name": "stdout",
     "output_type": "stream",
     "text": [
      "Epoch: [0][ 900/2503]\tTime  0.907 ( 1.044)\tData  0.095 ( 0.439)\tLoss 5.4248e+00 (6.1811e+00)\tAcc@1   5.08 (  2.12)\tAcc@5  15.23 (  7.02)\n"
     ]
    },
    {
     "name": "stdout",
     "output_type": "stream",
     "text": [
      "Epoch: [0][ 950/2503]\tTime  1.162 ( 1.047)\tData  0.435 ( 0.430)\tLoss 5.4214e+00 (6.1403e+00)\tAcc@1   7.42 (  2.29)\tAcc@5  14.45 (  7.50)\n"
     ]
    },
    {
     "name": "stdout",
     "output_type": "stream",
     "text": [
      "Epoch: [0][1000/2503]\tTime  1.373 ( 1.046)\tData  0.580 ( 0.430)\tLoss 5.3106e+00 (6.1012e+00)\tAcc@1   5.08 (  2.46)\tAcc@5  18.36 (  7.97)\n"
     ]
    },
    {
     "name": "stdout",
     "output_type": "stream",
     "text": [
      "Epoch: [0][1050/2503]\tTime  1.741 ( 1.051)\tData  0.787 ( 0.425)\tLoss 5.4156e+00 (6.0626e+00)\tAcc@1   5.08 (  2.62)\tAcc@5  16.41 (  8.42)\n"
     ]
    },
    {
     "name": "stderr",
     "output_type": "stream",
     "text": [
      "wandb: ERROR Summary data exceeds maximum size of 10.4MB. Dropping it.\n"
     ]
    },
    {
     "name": "stdout",
     "output_type": "stream",
     "text": [
      "Epoch: [0][1100/2503]\tTime  1.610 ( 1.059)\tData  0.639 ( 0.421)\tLoss 5.2899e+00 (6.0240e+00)\tAcc@1   8.98 (  2.81)\tAcc@5  20.70 (  8.91)\n"
     ]
    },
    {
     "name": "stdout",
     "output_type": "stream",
     "text": [
      "Epoch: [0][1150/2503]\tTime  1.771 ( 1.067)\tData  0.738 ( 0.419)\tLoss 5.2346e+00 (5.9876e+00)\tAcc@1   6.64 (  2.99)\tAcc@5  16.41 (  9.34)\n"
     ]
    },
    {
     "name": "stdout",
     "output_type": "stream",
     "text": [
      "Epoch: [0][1200/2503]\tTime  1.596 ( 1.078)\tData  0.000 ( 0.412)\tLoss 4.9963e+00 (5.9515e+00)\tAcc@1   7.42 (  3.18)\tAcc@5  22.66 (  9.81)\n"
     ]
    },
    {
     "name": "stdout",
     "output_type": "stream",
     "text": [
      "Epoch: [0][1250/2503]\tTime  1.652 ( 1.089)\tData  0.000 ( 0.404)\tLoss 5.1819e+00 (5.9162e+00)\tAcc@1   5.47 (  3.36)\tAcc@5  17.97 ( 10.28)\n"
     ]
    },
    {
     "name": "stdout",
     "output_type": "stream",
     "text": [
      "Epoch: [0][1300/2503]\tTime  1.942 ( 1.100)\tData  0.000 ( 0.397)\tLoss 4.8728e+00 (5.8811e+00)\tAcc@1   8.59 (  3.55)\tAcc@5  22.66 ( 10.74)\n"
     ]
    },
    {
     "name": "stdout",
     "output_type": "stream",
     "text": [
      "Epoch: [0][1350/2503]\tTime  1.810 ( 1.109)\tData  0.000 ( 0.390)\tLoss 5.0758e+00 (5.8483e+00)\tAcc@1   5.86 (  3.73)\tAcc@5  23.44 ( 11.18)\n"
     ]
    },
    {
     "name": "stdout",
     "output_type": "stream",
     "text": [
      "Epoch: [0][1400/2503]\tTime  1.533 ( 1.117)\tData  0.000 ( 0.383)\tLoss 5.0373e+00 (5.8155e+00)\tAcc@1   7.81 (  3.91)\tAcc@5  21.48 ( 11.63)\n"
     ]
    },
    {
     "name": "stdout",
     "output_type": "stream",
     "text": [
      "Epoch: [0][1450/2503]\tTime  1.736 ( 1.126)\tData  0.000 ( 0.376)\tLoss 4.7706e+00 (5.7835e+00)\tAcc@1  10.94 (  4.09)\tAcc@5  27.34 ( 12.06)\n"
     ]
    },
    {
     "name": "stdout",
     "output_type": "stream",
     "text": [
      "Epoch: [0][1500/2503]\tTime  1.327 ( 1.133)\tData  0.000 ( 0.371)\tLoss 4.6677e+00 (5.7522e+00)\tAcc@1  12.89 (  4.28)\tAcc@5  32.03 ( 12.51)\n"
     ]
    },
    {
     "name": "stdout",
     "output_type": "stream",
     "text": [
      "Epoch: [0][1550/2503]\tTime  1.428 ( 1.141)\tData  0.000 ( 0.366)\tLoss 4.7490e+00 (5.7211e+00)\tAcc@1  10.55 (  4.46)\tAcc@5  27.73 ( 12.96)\n"
     ]
    },
    {
     "name": "stdout",
     "output_type": "stream",
     "text": [
      "Epoch: [0][1600/2503]\tTime  1.751 ( 1.148)\tData  0.000 ( 0.361)\tLoss 4.7805e+00 (5.6909e+00)\tAcc@1   8.98 (  4.66)\tAcc@5  30.47 ( 13.41)\n"
     ]
    },
    {
     "name": "stdout",
     "output_type": "stream",
     "text": [
      "Epoch: [0][1650/2503]\tTime  1.467 ( 1.154)\tData  0.000 ( 0.356)\tLoss 4.6941e+00 (5.6626e+00)\tAcc@1   8.98 (  4.85)\tAcc@5  26.95 ( 13.83)\n"
     ]
    },
    {
     "name": "stdout",
     "output_type": "stream",
     "text": [
      "Epoch: [0][1700/2503]\tTime  1.599 ( 1.160)\tData  0.000 ( 0.351)\tLoss 4.4942e+00 (5.6339e+00)\tAcc@1  13.67 (  5.04)\tAcc@5  33.20 ( 14.27)\n"
     ]
    },
    {
     "name": "stdout",
     "output_type": "stream",
     "text": [
      "Epoch: [0][1750/2503]\tTime  1.763 ( 1.165)\tData  0.000 ( 0.346)\tLoss 4.8150e+00 (5.6062e+00)\tAcc@1   9.38 (  5.22)\tAcc@5  26.17 ( 14.66)\n"
     ]
    },
    {
     "name": "stdout",
     "output_type": "stream",
     "text": [
      "Epoch: [0][1800/2503]\tTime  1.261 ( 1.170)\tData  0.000 ( 0.342)\tLoss 4.4070e+00 (5.5788e+00)\tAcc@1  17.19 (  5.41)\tAcc@5  35.94 ( 15.08)\n"
     ]
    },
    {
     "name": "stdout",
     "output_type": "stream",
     "text": [
      "Epoch: [0][1850/2503]\tTime  1.509 ( 1.175)\tData  0.000 ( 0.337)\tLoss 4.5134e+00 (5.5522e+00)\tAcc@1  11.33 (  5.59)\tAcc@5  30.47 ( 15.49)\n"
     ]
    },
    {
     "name": "stdout",
     "output_type": "stream",
     "text": [
      "Epoch: [0][1900/2503]\tTime  1.571 ( 1.180)\tData  0.000 ( 0.333)\tLoss 4.4784e+00 (5.5261e+00)\tAcc@1  13.67 (  5.76)\tAcc@5  32.03 ( 15.90)\n"
     ]
    },
    {
     "name": "stdout",
     "output_type": "stream",
     "text": [
      "Epoch: [0][1950/2503]\tTime  1.391 ( 1.184)\tData  0.000 ( 0.328)\tLoss 4.5361e+00 (5.5003e+00)\tAcc@1  13.67 (  5.95)\tAcc@5  32.81 ( 16.30)\n"
     ]
    },
    {
     "name": "stdout",
     "output_type": "stream",
     "text": [
      "Epoch: [0][2000/2503]\tTime  1.549 ( 1.188)\tData  0.000 ( 0.325)\tLoss 4.4545e+00 (5.4757e+00)\tAcc@1  13.67 (  6.12)\tAcc@5  36.33 ( 16.68)\n"
     ]
    },
    {
     "name": "stdout",
     "output_type": "stream",
     "text": [
      "Epoch: [0][2050/2503]\tTime  1.381 ( 1.191)\tData  0.000 ( 0.319)\tLoss 4.2690e+00 (5.4503e+00)\tAcc@1  17.58 (  6.31)\tAcc@5  37.50 ( 17.09)\n"
     ]
    },
    {
     "name": "stdout",
     "output_type": "stream",
     "text": [
      "Epoch: [0][2100/2503]\tTime  1.290 ( 1.194)\tData  0.000 ( 0.314)\tLoss 4.4258e+00 (5.4263e+00)\tAcc@1  11.72 (  6.49)\tAcc@5  32.81 ( 17.46)\n"
     ]
    },
    {
     "name": "stdout",
     "output_type": "stream",
     "text": [
      "Epoch: [0][2150/2503]\tTime  1.485 ( 1.197)\tData  0.000 ( 0.309)\tLoss 4.6822e+00 (5.4021e+00)\tAcc@1  10.94 (  6.67)\tAcc@5  32.81 ( 17.85)\n"
     ]
    },
    {
     "name": "stdout",
     "output_type": "stream",
     "text": [
      "Epoch: [0][2200/2503]\tTime  1.511 ( 1.200)\tData  0.000 ( 0.304)\tLoss 4.5454e+00 (5.3792e+00)\tAcc@1  14.84 (  6.86)\tAcc@5  30.47 ( 18.23)\n"
     ]
    },
    {
     "name": "stdout",
     "output_type": "stream",
     "text": [
      "Epoch: [0][2250/2503]\tTime  1.597 ( 1.202)\tData  0.000 ( 0.299)\tLoss 4.4722e+00 (5.3562e+00)\tAcc@1  12.11 (  7.04)\tAcc@5  33.59 ( 18.61)\n"
     ]
    },
    {
     "name": "stdout",
     "output_type": "stream",
     "text": [
      "Epoch: [0][2300/2503]\tTime  1.531 ( 1.205)\tData  0.000 ( 0.294)\tLoss 4.2488e+00 (5.3336e+00)\tAcc@1  14.45 (  7.22)\tAcc@5  39.45 ( 18.97)\n"
     ]
    },
    {
     "name": "stdout",
     "output_type": "stream",
     "text": [
      "Epoch: [0][2350/2503]\tTime  1.249 ( 1.207)\tData  0.000 ( 0.289)\tLoss 4.1806e+00 (5.3108e+00)\tAcc@1  19.53 (  7.42)\tAcc@5  37.11 ( 19.35)\n"
     ]
    },
    {
     "name": "stdout",
     "output_type": "stream",
     "text": [
      "Epoch: [0][2400/2503]\tTime  1.338 ( 1.209)\tData  0.000 ( 0.285)\tLoss 4.3309e+00 (5.2886e+00)\tAcc@1  16.02 (  7.59)\tAcc@5  35.94 ( 19.72)\n"
     ]
    },
    {
     "name": "stdout",
     "output_type": "stream",
     "text": [
      "Epoch: [0][2450/2503]\tTime  1.532 ( 1.211)\tData  0.000 ( 0.281)\tLoss 4.1427e+00 (5.2669e+00)\tAcc@1  16.41 (  7.77)\tAcc@5  40.23 ( 20.08)\n"
     ]
    },
    {
     "name": "stdout",
     "output_type": "stream",
     "text": [
      "Epoch: [0][2500/2503]\tTime  1.498 ( 1.213)\tData  0.000 ( 0.277)\tLoss 4.1010e+00 (5.2454e+00)\tAcc@1  20.31 (  7.96)\tAcc@5  41.80 ( 20.43)\n"
     ]
    },
    {
     "name": "stdout",
     "output_type": "stream",
     "text": [
      "Test: [  0/196]\tTime  4.026 ( 4.026)\tLoss 3.3728e+00 (3.3728e+00)\tAcc@1  25.00 ( 25.00)\tAcc@5  62.11 ( 62.11)\n"
     ]
    },
    {
     "name": "stdout",
     "output_type": "stream",
     "text": [
      "Test: [ 50/196]\tTime  1.892 ( 1.169)\tLoss 4.3885e+00 (4.5006e+00)\tAcc@1  11.33 ( 12.81)\tAcc@5  36.33 ( 32.36)\n"
     ]
    },
    {
     "name": "stdout",
     "output_type": "stream",
     "text": [
      "Test: [100/196]\tTime  1.420 ( 1.159)\tLoss 5.7713e+00 (4.6114e+00)\tAcc@1   2.73 ( 12.15)\tAcc@5  10.94 ( 30.90)\n"
     ]
    },
    {
     "name": "stdout",
     "output_type": "stream",
     "text": [
      "Test: [150/196]\tTime  1.811 ( 1.153)\tLoss 4.9784e+00 (4.6923e+00)\tAcc@1   7.42 ( 11.65)\tAcc@5  19.14 ( 29.21)\n"
     ]
    },
    {
     "name": "stdout",
     "output_type": "stream",
     "text": [
      " * Acc@1 12.156 Acc@5 29.892\n"
     ]
    },
    {
     "name": "stdout",
     "output_type": "stream",
     "text": [
      "lr: [0.001]\n"
     ]
    },
    {
     "name": "stderr",
     "output_type": "stream",
     "text": [
      "/opt/conda/lib/python3.8/site-packages/torch/optim/lr_scheduler.py:154: UserWarning: The epoch parameter in `scheduler.step()` was not necessary and is being deprecated where possible. Please use `scheduler.step()` to step the scheduler. During the deprecation, if epoch is different from None, the closed form is used instead of the new chainable form, where available. Please open an issue if you are unable to replicate your use case: https://github.com/pytorch/pytorch/issues/new/choose.\n",
      "  warnings.warn(EPOCH_DEPRECATION_WARNING, UserWarning)\n"
     ]
    },
    {
     "name": "stdout",
     "output_type": "stream",
     "text": [
      "Epoch: [1][   0/2503]\tTime  4.323 ( 4.323)\tData  2.999 ( 2.999)\tLoss 4.3487e+00 (4.3487e+00)\tAcc@1  17.97 ( 17.97)\tAcc@5  36.33 ( 36.33)\n"
     ]
    },
    {
     "name": "stdout",
     "output_type": "stream",
     "text": [
      "Epoch: [1][  50/2503]\tTime  1.340 ( 1.326)\tData  0.137 ( 0.236)\tLoss 4.0618e+00 (4.0953e+00)\tAcc@1  18.36 ( 18.08)\tAcc@5  42.19 ( 39.85)\n"
     ]
    },
    {
     "name": "stdout",
     "output_type": "stream",
     "text": [
      "Epoch: [1][ 100/2503]\tTime  1.348 ( 1.306)\tData  0.000 ( 0.194)\tLoss 4.0156e+00 (4.0614e+00)\tAcc@1  19.53 ( 18.87)\tAcc@5  44.53 ( 40.63)\n"
     ]
    },
    {
     "name": "stdout",
     "output_type": "stream",
     "text": [
      "Epoch: [1][ 150/2503]\tTime  1.396 ( 1.296)\tData  0.340 ( 0.191)\tLoss 4.0053e+00 (4.0447e+00)\tAcc@1  20.31 ( 19.20)\tAcc@5  42.19 ( 41.06)\n"
     ]
    },
    {
     "name": "stdout",
     "output_type": "stream",
     "text": [
      "Epoch: [1][ 200/2503]\tTime  1.456 ( 1.287)\tData  0.430 ( 0.186)\tLoss 4.0780e+00 (4.0309e+00)\tAcc@1  16.41 ( 19.43)\tAcc@5  39.84 ( 41.34)\n"
     ]
    },
    {
     "name": "stdout",
     "output_type": "stream",
     "text": [
      "Epoch: [1][ 250/2503]\tTime  1.448 ( 1.285)\tData  0.382 ( 0.184)\tLoss 4.0261e+00 (4.0189e+00)\tAcc@1  19.53 ( 19.60)\tAcc@5  41.02 ( 41.52)\n"
     ]
    },
    {
     "name": "stdout",
     "output_type": "stream",
     "text": [
      "Epoch: [1][ 300/2503]\tTime  1.325 ( 1.281)\tData  0.290 ( 0.179)\tLoss 4.3324e+00 (4.0131e+00)\tAcc@1  15.62 ( 19.66)\tAcc@5  33.20 ( 41.65)\n"
     ]
    },
    {
     "name": "stdout",
     "output_type": "stream",
     "text": [
      "Epoch: [1][ 350/2503]\tTime  1.200 ( 1.279)\tData  0.119 ( 0.177)\tLoss 4.2682e+00 (4.0068e+00)\tAcc@1  21.88 ( 19.82)\tAcc@5  33.59 ( 41.83)\n"
     ]
    },
    {
     "name": "stdout",
     "output_type": "stream",
     "text": [
      "Epoch: [1][ 400/2503]\tTime  1.583 ( 1.278)\tData  0.512 ( 0.174)\tLoss 4.0110e+00 (4.0047e+00)\tAcc@1  18.36 ( 19.83)\tAcc@5  38.28 ( 41.91)\n"
     ]
    },
    {
     "name": "stdout",
     "output_type": "stream",
     "text": [
      "Epoch: [1][ 450/2503]\tTime  1.408 ( 1.276)\tData  0.362 ( 0.167)\tLoss 3.9181e+00 (4.0014e+00)\tAcc@1  20.31 ( 19.89)\tAcc@5  43.75 ( 42.03)\n"
     ]
    },
    {
     "name": "stdout",
     "output_type": "stream",
     "text": [
      "Epoch: [1][ 500/2503]\tTime  1.297 ( 1.276)\tData  0.000 ( 0.163)\tLoss 4.0286e+00 (3.9943e+00)\tAcc@1  21.88 ( 19.94)\tAcc@5  42.19 ( 42.16)\n"
     ]
    },
    {
     "name": "stdout",
     "output_type": "stream",
     "text": [
      "Epoch: [1][ 550/2503]\tTime  1.218 ( 1.276)\tData  0.000 ( 0.148)\tLoss 3.9143e+00 (3.9885e+00)\tAcc@1  22.66 ( 19.99)\tAcc@5  41.80 ( 42.25)\n"
     ]
    },
    {
     "name": "stdout",
     "output_type": "stream",
     "text": [
      "Epoch: [1][ 600/2503]\tTime  1.322 ( 1.276)\tData  0.000 ( 0.136)\tLoss 3.8561e+00 (3.9826e+00)\tAcc@1  23.83 ( 20.08)\tAcc@5  42.97 ( 42.42)\n"
     ]
    },
    {
     "name": "stdout",
     "output_type": "stream",
     "text": [
      "Epoch: [1][ 650/2503]\tTime  1.378 ( 1.278)\tData  0.002 ( 0.125)\tLoss 3.8073e+00 (3.9794e+00)\tAcc@1  23.05 ( 20.10)\tAcc@5  45.70 ( 42.49)\n"
     ]
    },
    {
     "name": "stdout",
     "output_type": "stream",
     "text": [
      "Epoch: [1][ 700/2503]\tTime  1.295 ( 1.278)\tData  0.000 ( 0.117)\tLoss 4.1563e+00 (3.9745e+00)\tAcc@1  13.67 ( 20.16)\tAcc@5  38.28 ( 42.57)\n"
     ]
    },
    {
     "name": "stdout",
     "output_type": "stream",
     "text": [
      "Epoch: [1][ 750/2503]\tTime  1.258 ( 1.281)\tData  0.000 ( 0.109)\tLoss 3.7962e+00 (3.9707e+00)\tAcc@1  22.66 ( 20.19)\tAcc@5  46.48 ( 42.63)\n"
     ]
    },
    {
     "name": "stdout",
     "output_type": "stream",
     "text": [
      "Epoch: [1][ 800/2503]\tTime  1.277 ( 1.281)\tData  0.000 ( 0.102)\tLoss 3.9561e+00 (3.9687e+00)\tAcc@1  18.36 ( 20.24)\tAcc@5  38.67 ( 42.66)\n"
     ]
    },
    {
     "name": "stdout",
     "output_type": "stream",
     "text": [
      "Epoch: [1][ 850/2503]\tTime  1.260 ( 1.282)\tData  0.000 ( 0.096)\tLoss 3.9031e+00 (3.9638e+00)\tAcc@1  23.44 ( 20.31)\tAcc@5  42.97 ( 42.75)\n"
     ]
    },
    {
     "name": "stdout",
     "output_type": "stream",
     "text": [
      "Epoch: [1][ 900/2503]\tTime  1.221 ( 1.282)\tData  0.000 ( 0.091)\tLoss 3.8347e+00 (3.9618e+00)\tAcc@1  21.88 ( 20.36)\tAcc@5  44.53 ( 42.80)\n"
     ]
    },
    {
     "name": "stdout",
     "output_type": "stream",
     "text": [
      "Epoch: [1][ 950/2503]\tTime  1.277 ( 1.283)\tData  0.000 ( 0.086)\tLoss 3.9941e+00 (3.9587e+00)\tAcc@1  21.48 ( 20.39)\tAcc@5  40.62 ( 42.84)\n"
     ]
    },
    {
     "name": "stdout",
     "output_type": "stream",
     "text": [
      "Epoch: [1][1000/2503]\tTime  1.320 ( 1.284)\tData  0.000 ( 0.082)\tLoss 3.8757e+00 (3.9567e+00)\tAcc@1  20.31 ( 20.41)\tAcc@5  43.75 ( 42.89)\n"
     ]
    },
    {
     "name": "stdout",
     "output_type": "stream",
     "text": [
      "Epoch: [1][1050/2503]\tTime  1.396 ( 1.285)\tData  0.000 ( 0.078)\tLoss 3.9941e+00 (3.9547e+00)\tAcc@1  20.31 ( 20.41)\tAcc@5  42.97 ( 42.90)\n"
     ]
    },
    {
     "name": "stdout",
     "output_type": "stream",
     "text": [
      "Epoch: [1][1100/2503]\tTime  1.258 ( 1.285)\tData  0.000 ( 0.074)\tLoss 4.0093e+00 (3.9510e+00)\tAcc@1  21.88 ( 20.46)\tAcc@5  41.02 ( 42.96)\n"
     ]
    },
    {
     "name": "stdout",
     "output_type": "stream",
     "text": [
      "Epoch: [1][1150/2503]\tTime  1.333 ( 1.287)\tData  0.000 ( 0.071)\tLoss 3.9138e+00 (3.9484e+00)\tAcc@1  19.53 ( 20.51)\tAcc@5  40.62 ( 42.99)\n"
     ]
    },
    {
     "name": "stdout",
     "output_type": "stream",
     "text": [
      "Epoch: [1][1200/2503]\tTime  1.329 ( 1.288)\tData  0.001 ( 0.068)\tLoss 3.8411e+00 (3.9464e+00)\tAcc@1  21.09 ( 20.54)\tAcc@5  42.19 ( 43.05)\n"
     ]
    },
    {
     "name": "stdout",
     "output_type": "stream",
     "text": [
      "Epoch: [1][1250/2503]\tTime  1.345 ( 1.289)\tData  0.000 ( 0.065)\tLoss 4.0132e+00 (3.9441e+00)\tAcc@1  21.48 ( 20.60)\tAcc@5  41.02 ( 43.10)\n"
     ]
    },
    {
     "name": "stdout",
     "output_type": "stream",
     "text": [
      "Epoch: [1][1300/2503]\tTime  1.299 ( 1.290)\tData  0.000 ( 0.063)\tLoss 3.7929e+00 (3.9418e+00)\tAcc@1  22.66 ( 20.63)\tAcc@5  50.39 ( 43.13)\n"
     ]
    },
    {
     "name": "stdout",
     "output_type": "stream",
     "text": [
      "Epoch: [1][1350/2503]\tTime  1.289 ( 1.291)\tData  0.000 ( 0.061)\tLoss 3.9478e+00 (3.9400e+00)\tAcc@1  19.14 ( 20.66)\tAcc@5  39.45 ( 43.19)\n"
     ]
    },
    {
     "name": "stdout",
     "output_type": "stream",
     "text": [
      "Epoch: [1][1400/2503]\tTime  1.284 ( 1.292)\tData  0.001 ( 0.059)\tLoss 3.9170e+00 (3.9373e+00)\tAcc@1  22.27 ( 20.70)\tAcc@5  41.02 ( 43.25)\n"
     ]
    },
    {
     "name": "stdout",
     "output_type": "stream",
     "text": [
      "Epoch: [1][1450/2503]\tTime  1.313 ( 1.294)\tData  0.000 ( 0.057)\tLoss 3.8217e+00 (3.9341e+00)\tAcc@1  20.70 ( 20.73)\tAcc@5  44.14 ( 43.31)\n"
     ]
    },
    {
     "name": "stdout",
     "output_type": "stream",
     "text": [
      "Epoch: [1][1500/2503]\tTime  1.521 ( 1.296)\tData  0.000 ( 0.055)\tLoss 3.7025e+00 (3.9309e+00)\tAcc@1  26.17 ( 20.78)\tAcc@5  51.95 ( 43.37)\n"
     ]
    },
    {
     "name": "stdout",
     "output_type": "stream",
     "text": [
      "Epoch: [1][1550/2503]\tTime  1.457 ( 1.302)\tData  0.000 ( 0.053)\tLoss 3.8287e+00 (3.9277e+00)\tAcc@1  19.53 ( 20.83)\tAcc@5  43.75 ( 43.44)\n"
     ]
    },
    {
     "name": "stdout",
     "output_type": "stream",
     "text": [
      "Epoch: [1][1600/2503]\tTime  1.468 ( 1.308)\tData  0.000 ( 0.051)\tLoss 3.8315e+00 (3.9244e+00)\tAcc@1  19.53 ( 20.87)\tAcc@5  44.53 ( 43.50)\n"
     ]
    },
    {
     "name": "stdout",
     "output_type": "stream",
     "text": [
      "Epoch: [1][1650/2503]\tTime  1.390 ( 1.313)\tData  0.000 ( 0.050)\tLoss 3.8347e+00 (3.9220e+00)\tAcc@1  20.31 ( 20.91)\tAcc@5  44.14 ( 43.55)\n"
     ]
    },
    {
     "name": "stdout",
     "output_type": "stream",
     "text": [
      "Epoch: [1][1700/2503]\tTime  1.474 ( 1.317)\tData  0.000 ( 0.048)\tLoss 3.7705e+00 (3.9189e+00)\tAcc@1  21.88 ( 20.96)\tAcc@5  45.70 ( 43.61)\n"
     ]
    },
    {
     "name": "stdout",
     "output_type": "stream",
     "text": [
      "Epoch: [1][1750/2503]\tTime  1.445 ( 1.322)\tData  0.000 ( 0.047)\tLoss 3.9497e+00 (3.9165e+00)\tAcc@1  23.05 ( 20.98)\tAcc@5  46.09 ( 43.64)\n"
     ]
    },
    {
     "name": "stdout",
     "output_type": "stream",
     "text": [
      "Epoch: [1][1800/2503]\tTime  1.525 ( 1.326)\tData  0.000 ( 0.046)\tLoss 3.5962e+00 (3.9138e+00)\tAcc@1  24.61 ( 21.02)\tAcc@5  48.44 ( 43.69)\n"
     ]
    },
    {
     "name": "stdout",
     "output_type": "stream",
     "text": [
      "Epoch: [1][1850/2503]\tTime  1.466 ( 1.331)\tData  0.000 ( 0.044)\tLoss 3.7173e+00 (3.9112e+00)\tAcc@1  23.44 ( 21.05)\tAcc@5  48.44 ( 43.76)\n"
     ]
    },
    {
     "name": "stdout",
     "output_type": "stream",
     "text": [
      "Epoch: [1][1900/2503]\tTime  1.516 ( 1.335)\tData  0.000 ( 0.043)\tLoss 3.7220e+00 (3.9081e+00)\tAcc@1  23.83 ( 21.09)\tAcc@5  48.83 ( 43.82)\n"
     ]
    },
    {
     "name": "stdout",
     "output_type": "stream",
     "text": [
      "Epoch: [1][1950/2503]\tTime  1.466 ( 1.339)\tData  0.000 ( 0.042)\tLoss 3.8068e+00 (3.9054e+00)\tAcc@1  21.88 ( 21.12)\tAcc@5  46.88 ( 43.87)\n"
     ]
    },
    {
     "name": "stdout",
     "output_type": "stream",
     "text": [
      "Epoch: [1][2000/2503]\tTime  1.486 ( 1.343)\tData  0.000 ( 0.041)\tLoss 3.7341e+00 (3.9033e+00)\tAcc@1  25.39 ( 21.15)\tAcc@5  46.48 ( 43.92)\n"
     ]
    },
    {
     "name": "stdout",
     "output_type": "stream",
     "text": [
      "Epoch: [1][2050/2503]\tTime  1.474 ( 1.347)\tData  0.000 ( 0.040)\tLoss 3.4919e+00 (3.8996e+00)\tAcc@1  24.22 ( 21.21)\tAcc@5  52.34 ( 44.00)\n"
     ]
    },
    {
     "name": "stdout",
     "output_type": "stream",
     "text": [
      "Epoch: [1][2100/2503]\tTime  1.514 ( 1.350)\tData  0.000 ( 0.039)\tLoss 3.7600e+00 (3.8968e+00)\tAcc@1  25.00 ( 21.25)\tAcc@5  48.83 ( 44.06)\n"
     ]
    },
    {
     "name": "stdout",
     "output_type": "stream",
     "text": [
      "Epoch: [1][2150/2503]\tTime  1.486 ( 1.354)\tData  0.000 ( 0.038)\tLoss 3.9433e+00 (3.8935e+00)\tAcc@1  17.19 ( 21.29)\tAcc@5  43.75 ( 44.13)\n"
     ]
    },
    {
     "name": "stdout",
     "output_type": "stream",
     "text": [
      "Epoch: [1][2200/2503]\tTime  1.554 ( 1.357)\tData  0.000 ( 0.037)\tLoss 3.9645e+00 (3.8912e+00)\tAcc@1  23.05 ( 21.32)\tAcc@5  41.41 ( 44.17)\n"
     ]
    },
    {
     "name": "stdout",
     "output_type": "stream",
     "text": [
      "Epoch: [1][2250/2503]\tTime  1.549 ( 1.361)\tData  0.000 ( 0.037)\tLoss 3.9591e+00 (3.8885e+00)\tAcc@1  20.31 ( 21.37)\tAcc@5  42.58 ( 44.22)\n"
     ]
    },
    {
     "name": "stdout",
     "output_type": "stream",
     "text": [
      "Epoch: [1][2300/2503]\tTime  1.474 ( 1.364)\tData  0.000 ( 0.036)\tLoss 3.7014e+00 (3.8856e+00)\tAcc@1  20.31 ( 21.40)\tAcc@5  46.09 ( 44.27)\n"
     ]
    },
    {
     "name": "stdout",
     "output_type": "stream",
     "text": [
      "Epoch: [1][2350/2503]\tTime  1.533 ( 1.368)\tData  0.000 ( 0.035)\tLoss 3.7996e+00 (3.8820e+00)\tAcc@1  22.66 ( 21.46)\tAcc@5  46.09 ( 44.33)\n"
     ]
    },
    {
     "name": "stdout",
     "output_type": "stream",
     "text": [
      "Epoch: [1][2400/2503]\tTime  1.544 ( 1.371)\tData  0.000 ( 0.034)\tLoss 3.7828e+00 (3.8787e+00)\tAcc@1  21.48 ( 21.51)\tAcc@5  43.75 ( 44.40)\n"
     ]
    },
    {
     "name": "stdout",
     "output_type": "stream",
     "text": [
      "Epoch: [1][2450/2503]\tTime  1.492 ( 1.374)\tData  0.000 ( 0.034)\tLoss 3.6556e+00 (3.8752e+00)\tAcc@1  24.61 ( 21.56)\tAcc@5  50.39 ( 44.47)\n"
     ]
    },
    {
     "name": "stdout",
     "output_type": "stream",
     "text": [
      "Epoch: [1][2500/2503]\tTime  1.478 ( 1.378)\tData  0.000 ( 0.033)\tLoss 3.6549e+00 (3.8716e+00)\tAcc@1  23.44 ( 21.62)\tAcc@5  50.00 ( 44.54)\n"
     ]
    },
    {
     "name": "stdout",
     "output_type": "stream",
     "text": [
      "Test: [  0/196]\tTime  3.087 ( 3.087)\tLoss 2.8693e+00 (2.8693e+00)\tAcc@1  34.38 ( 34.38)\tAcc@5  71.88 ( 71.88)\n"
     ]
    },
    {
     "name": "stdout",
     "output_type": "stream",
     "text": [
      "Test: [ 50/196]\tTime  1.812 ( 1.189)\tLoss 3.6294e+00 (3.5930e+00)\tAcc@1  22.66 ( 23.31)\tAcc@5  48.83 ( 48.78)\n"
     ]
    },
    {
     "name": "stdout",
     "output_type": "stream",
     "text": [
      "Test: [100/196]\tTime  1.636 ( 1.176)\tLoss 5.0297e+00 (3.7431e+00)\tAcc@1   8.20 ( 22.25)\tAcc@5  20.70 ( 46.24)\n"
     ]
    },
    {
     "name": "stdout",
     "output_type": "stream",
     "text": [
      "Test: [150/196]\tTime  2.035 ( 1.170)\tLoss 4.6127e+00 (3.8835e+00)\tAcc@1  16.02 ( 21.14)\tAcc@5  30.47 ( 43.68)\n"
     ]
    },
    {
     "name": "stdout",
     "output_type": "stream",
     "text": [
      " * Acc@1 21.208 Acc@5 43.588\n"
     ]
    },
    {
     "name": "stdout",
     "output_type": "stream",
     "text": [
      "lr: [0.001]\n"
     ]
    },
    {
     "name": "stdout",
     "output_type": "stream",
     "text": [
      "Epoch: [2][   0/2503]\tTime  5.302 ( 5.302)\tData  3.104 ( 3.104)\tLoss 3.8702e+00 (3.8702e+00)\tAcc@1  23.83 ( 23.83)\tAcc@5  40.23 ( 40.23)\n"
     ]
    },
    {
     "name": "stdout",
     "output_type": "stream",
     "text": [
      "Epoch: [2][  50/2503]\tTime  1.653 ( 1.729)\tData  0.000 ( 0.061)\tLoss 3.8321e+00 (3.7844e+00)\tAcc@1  23.83 ( 22.57)\tAcc@5  44.92 ( 46.02)\n"
     ]
    },
    {
     "name": "stdout",
     "output_type": "stream",
     "text": [
      "Epoch: [2][ 100/2503]\tTime  1.621 ( 1.700)\tData  0.000 ( 0.031)\tLoss 3.7961e+00 (3.7846e+00)\tAcc@1  23.05 ( 22.59)\tAcc@5  46.88 ( 46.06)\n"
     ]
    },
    {
     "name": "stdout",
     "output_type": "stream",
     "text": [
      "Epoch: [2][ 150/2503]\tTime  1.628 ( 1.686)\tData  0.000 ( 0.021)\tLoss 3.8033e+00 (3.7890e+00)\tAcc@1  21.48 ( 22.66)\tAcc@5  45.31 ( 46.04)\n"
     ]
    },
    {
     "name": "stdout",
     "output_type": "stream",
     "text": [
      "Epoch: [2][ 200/2503]\tTime  1.602 ( 1.680)\tData  0.000 ( 0.016)\tLoss 3.8657e+00 (3.7850e+00)\tAcc@1  17.19 ( 22.67)\tAcc@5  41.41 ( 46.11)\n"
     ]
    },
    {
     "name": "stdout",
     "output_type": "stream",
     "text": [
      "Epoch: [2][ 250/2503]\tTime  1.598 ( 1.677)\tData  0.000 ( 0.013)\tLoss 3.8499e+00 (3.7804e+00)\tAcc@1  22.66 ( 22.70)\tAcc@5  42.19 ( 46.17)\n"
     ]
    },
    {
     "name": "stdout",
     "output_type": "stream",
     "text": [
      "Epoch: [2][ 300/2503]\tTime  1.693 ( 1.676)\tData  0.000 ( 0.011)\tLoss 4.0713e+00 (3.7787e+00)\tAcc@1  21.09 ( 22.75)\tAcc@5  39.84 ( 46.21)\n"
     ]
    },
    {
     "name": "stdout",
     "output_type": "stream",
     "text": [
      "Epoch: [2][ 350/2503]\tTime  1.670 ( 1.677)\tData  0.000 ( 0.009)\tLoss 4.0722e+00 (3.7777e+00)\tAcc@1  22.27 ( 22.81)\tAcc@5  37.89 ( 46.23)\n"
     ]
    },
    {
     "name": "stdout",
     "output_type": "stream",
     "text": [
      "Epoch: [2][ 400/2503]\tTime  1.563 ( 1.677)\tData  0.000 ( 0.008)\tLoss 3.7713e+00 (3.7791e+00)\tAcc@1  23.05 ( 22.76)\tAcc@5  43.36 ( 46.20)\n"
     ]
    },
    {
     "name": "stdout",
     "output_type": "stream",
     "text": [
      "Epoch: [2][ 450/2503]\tTime  1.682 ( 1.677)\tData  0.000 ( 0.007)\tLoss 3.7285e+00 (3.7802e+00)\tAcc@1  25.39 ( 22.81)\tAcc@5  46.09 ( 46.22)\n"
     ]
    },
    {
     "name": "stdout",
     "output_type": "stream",
     "text": [
      "Epoch: [2][ 500/2503]\tTime  1.632 ( 1.679)\tData  0.000 ( 0.007)\tLoss 3.8268e+00 (3.7763e+00)\tAcc@1  24.22 ( 22.85)\tAcc@5  47.66 ( 46.30)\n"
     ]
    },
    {
     "name": "stdout",
     "output_type": "stream",
     "text": [
      "Epoch: [2][ 550/2503]\tTime  1.596 ( 1.679)\tData  0.000 ( 0.006)\tLoss 3.6564e+00 (3.7732e+00)\tAcc@1  25.39 ( 22.88)\tAcc@5  46.09 ( 46.31)\n"
     ]
    },
    {
     "name": "stdout",
     "output_type": "stream",
     "text": [
      "Epoch: [2][ 600/2503]\tTime  1.670 ( 1.682)\tData  0.000 ( 0.005)\tLoss 3.6579e+00 (3.7697e+00)\tAcc@1  27.34 ( 22.95)\tAcc@5  46.09 ( 46.43)\n"
     ]
    },
    {
     "name": "stdout",
     "output_type": "stream",
     "text": [
      "Epoch: [2][ 650/2503]\tTime  1.727 ( 1.683)\tData  0.000 ( 0.005)\tLoss 3.6006e+00 (3.7684e+00)\tAcc@1  25.00 ( 22.95)\tAcc@5  52.34 ( 46.42)\n"
     ]
    },
    {
     "name": "stdout",
     "output_type": "stream",
     "text": [
      "Epoch: [2][ 700/2503]\tTime  1.773 ( 1.687)\tData  0.000 ( 0.005)\tLoss 4.0092e+00 (3.7657e+00)\tAcc@1  16.41 ( 22.99)\tAcc@5  41.41 ( 46.49)\n"
     ]
    },
    {
     "name": "stdout",
     "output_type": "stream",
     "text": [
      "Epoch: [2][ 750/2503]\tTime  1.742 ( 1.688)\tData  0.000 ( 0.004)\tLoss 3.6391e+00 (3.7637e+00)\tAcc@1  25.39 ( 23.00)\tAcc@5  48.05 ( 46.49)\n"
     ]
    },
    {
     "name": "stdout",
     "output_type": "stream",
     "text": [
      "Epoch: [2][ 800/2503]\tTime  1.696 ( 1.689)\tData  0.000 ( 0.004)\tLoss 3.7916e+00 (3.7633e+00)\tAcc@1  19.14 ( 23.03)\tAcc@5  42.97 ( 46.49)\n"
     ]
    },
    {
     "name": "stdout",
     "output_type": "stream",
     "text": [
      "Epoch: [2][ 850/2503]\tTime  1.686 ( 1.693)\tData  0.000 ( 0.004)\tLoss 3.6971e+00 (3.7596e+00)\tAcc@1  27.73 ( 23.10)\tAcc@5  49.61 ( 46.57)\n"
     ]
    },
    {
     "name": "stdout",
     "output_type": "stream",
     "text": [
      "Epoch: [2][ 900/2503]\tTime  1.765 ( 1.696)\tData  0.000 ( 0.004)\tLoss 3.6775e+00 (3.7588e+00)\tAcc@1  20.70 ( 23.13)\tAcc@5  44.92 ( 46.59)\n"
     ]
    },
    {
     "name": "stdout",
     "output_type": "stream",
     "text": [
      "Epoch: [2][ 950/2503]\tTime  1.677 ( 1.698)\tData  0.000 ( 0.004)\tLoss 3.8177e+00 (3.7570e+00)\tAcc@1  23.83 ( 23.15)\tAcc@5  42.97 ( 46.63)\n"
     ]
    },
    {
     "name": "stdout",
     "output_type": "stream",
     "text": [
      "Epoch: [2][1000/2503]\tTime  1.743 ( 1.700)\tData  0.000 ( 0.003)\tLoss 3.6523e+00 (3.7564e+00)\tAcc@1  23.83 ( 23.15)\tAcc@5  48.44 ( 46.66)\n"
     ]
    },
    {
     "name": "stdout",
     "output_type": "stream",
     "text": [
      "Epoch: [2][1050/2503]\tTime  2.000 ( 1.708)\tData  0.000 ( 0.003)\tLoss 3.7629e+00 (3.7553e+00)\tAcc@1  23.44 ( 23.15)\tAcc@5  47.27 ( 46.67)\n"
     ]
    },
    {
     "name": "stdout",
     "output_type": "stream",
     "text": [
      "Epoch: [2][1100/2503]\tTime  1.950 ( 1.716)\tData  0.000 ( 0.003)\tLoss 3.8300e+00 (3.7527e+00)\tAcc@1  26.17 ( 23.18)\tAcc@5  44.53 ( 46.71)\n"
     ]
    },
    {
     "name": "stdout",
     "output_type": "stream",
     "text": [
      "Epoch: [2][1150/2503]\tTime  1.790 ( 1.722)\tData  0.000 ( 0.003)\tLoss 3.7448e+00 (3.7512e+00)\tAcc@1  21.09 ( 23.20)\tAcc@5  45.70 ( 46.75)\n"
     ]
    },
    {
     "name": "stdout",
     "output_type": "stream",
     "text": [
      "Epoch: [2][1200/2503]\tTime  1.805 ( 1.727)\tData  0.000 ( 0.003)\tLoss 3.6716e+00 (3.7505e+00)\tAcc@1  22.66 ( 23.21)\tAcc@5  45.31 ( 46.78)\n"
     ]
    },
    {
     "name": "stdout",
     "output_type": "stream",
     "text": [
      "Epoch: [2][1250/2503]\tTime  1.866 ( 1.733)\tData  0.000 ( 0.003)\tLoss 3.8180e+00 (3.7492e+00)\tAcc@1  23.05 ( 23.24)\tAcc@5  44.53 ( 46.82)\n"
     ]
    },
    {
     "name": "stdout",
     "output_type": "stream",
     "text": [
      "Epoch: [2][1300/2503]\tTime  1.878 ( 1.738)\tData  0.000 ( 0.003)\tLoss 3.6091e+00 (3.7480e+00)\tAcc@1  28.12 ( 23.25)\tAcc@5  55.47 ( 46.84)\n"
     ]
    },
    {
     "name": "stdout",
     "output_type": "stream",
     "text": [
      "Epoch: [2][1350/2503]\tTime  1.838 ( 1.743)\tData  0.000 ( 0.003)\tLoss 3.7537e+00 (3.7468e+00)\tAcc@1  22.27 ( 23.26)\tAcc@5  45.70 ( 46.88)\n"
     ]
    },
    {
     "name": "stdout",
     "output_type": "stream",
     "text": [
      "Epoch: [2][1400/2503]\tTime  1.824 ( 1.748)\tData  0.000 ( 0.003)\tLoss 3.7385e+00 (3.7447e+00)\tAcc@1  23.44 ( 23.30)\tAcc@5  44.14 ( 46.93)\n"
     ]
    },
    {
     "name": "stdout",
     "output_type": "stream",
     "text": [
      "Epoch: [2][1450/2503]\tTime  1.918 ( 1.753)\tData  0.000 ( 0.002)\tLoss 3.6286e+00 (3.7423e+00)\tAcc@1  23.05 ( 23.33)\tAcc@5  48.05 ( 46.97)\n"
     ]
    },
    {
     "name": "stdout",
     "output_type": "stream",
     "text": [
      "Epoch: [2][1500/2503]\tTime  1.937 ( 1.757)\tData  0.000 ( 0.002)\tLoss 3.5364e+00 (3.7399e+00)\tAcc@1  30.47 ( 23.37)\tAcc@5  52.73 ( 47.01)\n"
     ]
    },
    {
     "name": "stdout",
     "output_type": "stream",
     "text": [
      "Epoch: [2][1550/2503]\tTime  1.875 ( 1.761)\tData  0.000 ( 0.002)\tLoss 3.6299e+00 (3.7375e+00)\tAcc@1  22.66 ( 23.41)\tAcc@5  49.61 ( 47.07)\n"
     ]
    },
    {
     "name": "stdout",
     "output_type": "stream",
     "text": [
      "Epoch: [2][1600/2503]\tTime  1.878 ( 1.765)\tData  0.000 ( 0.002)\tLoss 3.6601e+00 (3.7350e+00)\tAcc@1  23.05 ( 23.44)\tAcc@5  46.88 ( 47.10)\n"
     ]
    },
    {
     "name": "stdout",
     "output_type": "stream",
     "text": [
      "Epoch: [2][1650/2503]\tTime  1.966 ( 1.769)\tData  0.000 ( 0.002)\tLoss 3.6911e+00 (3.7333e+00)\tAcc@1  23.44 ( 23.47)\tAcc@5  48.05 ( 47.13)\n"
     ]
    },
    {
     "name": "stdout",
     "output_type": "stream",
     "text": [
      "Epoch: [2][1700/2503]\tTime  1.811 ( 1.773)\tData  0.000 ( 0.002)\tLoss 3.6071e+00 (3.7309e+00)\tAcc@1  26.56 ( 23.50)\tAcc@5  50.00 ( 47.17)\n"
     ]
    },
    {
     "name": "stdout",
     "output_type": "stream",
     "text": [
      "Epoch: [2][1750/2503]\tTime  1.910 ( 1.777)\tData  0.000 ( 0.002)\tLoss 3.8275e+00 (3.7292e+00)\tAcc@1  23.44 ( 23.51)\tAcc@5  48.05 ( 47.20)\n"
     ]
    },
    {
     "name": "stdout",
     "output_type": "stream",
     "text": [
      "Epoch: [2][1800/2503]\tTime  1.905 ( 1.781)\tData  0.000 ( 0.002)\tLoss 3.4494e+00 (3.7270e+00)\tAcc@1  29.30 ( 23.55)\tAcc@5  51.17 ( 47.24)\n"
     ]
    },
    {
     "name": "stdout",
     "output_type": "stream",
     "text": [
      "Epoch: [2][1850/2503]\tTime  1.929 ( 1.785)\tData  0.000 ( 0.002)\tLoss 3.5265e+00 (3.7252e+00)\tAcc@1  26.95 ( 23.57)\tAcc@5  49.22 ( 47.29)\n"
     ]
    },
    {
     "name": "stdout",
     "output_type": "stream",
     "text": [
      "Epoch: [2][1900/2503]\tTime  1.894 ( 1.789)\tData  0.000 ( 0.002)\tLoss 3.5778e+00 (3.7229e+00)\tAcc@1  26.17 ( 23.61)\tAcc@5  53.52 ( 47.35)\n"
     ]
    },
    {
     "name": "stdout",
     "output_type": "stream",
     "text": [
      "Epoch: [2][1950/2503]\tTime  1.811 ( 1.792)\tData  0.000 ( 0.002)\tLoss 3.6199e+00 (3.7209e+00)\tAcc@1  24.22 ( 23.62)\tAcc@5  50.39 ( 47.39)\n"
     ]
    },
    {
     "name": "stdout",
     "output_type": "stream",
     "text": [
      "Epoch: [2][2000/2503]\tTime  1.987 ( 1.796)\tData  0.000 ( 0.002)\tLoss 3.5870e+00 (3.7195e+00)\tAcc@1  26.17 ( 23.64)\tAcc@5  51.95 ( 47.41)\n"
     ]
    },
    {
     "name": "stdout",
     "output_type": "stream",
     "text": [
      "Epoch: [2][2050/2503]\tTime  2.145 ( 1.802)\tData  0.000 ( 0.002)\tLoss 3.3297e+00 (3.7166e+00)\tAcc@1  26.56 ( 23.69)\tAcc@5  53.12 ( 47.47)\n"
     ]
    },
    {
     "name": "stdout",
     "output_type": "stream",
     "text": [
      "Epoch: [2][2100/2503]\tTime  1.990 ( 1.809)\tData  0.000 ( 0.002)\tLoss 3.6014e+00 (3.7147e+00)\tAcc@1  27.73 ( 23.72)\tAcc@5  51.56 ( 47.50)\n"
     ]
    },
    {
     "name": "stdout",
     "output_type": "stream",
     "text": [
      "Epoch: [2][2150/2503]\tTime  1.944 ( 1.814)\tData  0.000 ( 0.002)\tLoss 3.8044e+00 (3.7120e+00)\tAcc@1  18.36 ( 23.75)\tAcc@5  46.09 ( 47.56)\n"
     ]
    },
    {
     "name": "stdout",
     "output_type": "stream",
     "text": [
      "Epoch: [2][2200/2503]\tTime  2.106 ( 1.820)\tData  0.000 ( 0.002)\tLoss 3.8589e+00 (3.7106e+00)\tAcc@1  26.17 ( 23.78)\tAcc@5  44.53 ( 47.59)\n"
     ]
    },
    {
     "name": "stdout",
     "output_type": "stream",
     "text": [
      "Epoch: [2][2250/2503]\tTime  1.874 ( 1.825)\tData  0.000 ( 0.002)\tLoss 3.8324e+00 (3.7085e+00)\tAcc@1  23.83 ( 23.81)\tAcc@5  44.53 ( 47.63)\n"
     ]
    },
    {
     "name": "stdout",
     "output_type": "stream",
     "text": [
      "Epoch: [2][2300/2503]\tTime  2.144 ( 1.830)\tData  0.000 ( 0.002)\tLoss 3.6027e+00 (3.7062e+00)\tAcc@1  24.22 ( 23.85)\tAcc@5  47.66 ( 47.67)\n"
     ]
    },
    {
     "name": "stdout",
     "output_type": "stream",
     "text": [
      "Epoch: [2][2350/2503]\tTime  2.049 ( 1.836)\tData  0.000 ( 0.002)\tLoss 3.6396e+00 (3.7035e+00)\tAcc@1  22.66 ( 23.89)\tAcc@5  48.05 ( 47.73)\n"
     ]
    },
    {
     "name": "stdout",
     "output_type": "stream",
     "text": [
      "Epoch: [2][2400/2503]\tTime  2.002 ( 1.841)\tData  0.000 ( 0.002)\tLoss 3.6613e+00 (3.7010e+00)\tAcc@1  25.39 ( 23.93)\tAcc@5  48.44 ( 47.78)\n"
     ]
    },
    {
     "name": "stdout",
     "output_type": "stream",
     "text": [
      "Epoch: [2][2450/2503]\tTime  2.069 ( 1.846)\tData  0.000 ( 0.002)\tLoss 3.5085e+00 (3.6982e+00)\tAcc@1  25.39 ( 23.98)\tAcc@5  49.61 ( 47.83)\n"
     ]
    },
    {
     "name": "stdout",
     "output_type": "stream",
     "text": [
      "Epoch: [2][2500/2503]\tTime  1.755 ( 1.851)\tData  0.000 ( 0.002)\tLoss 3.4825e+00 (3.6955e+00)\tAcc@1  29.30 ( 24.03)\tAcc@5  55.08 ( 47.89)\n"
     ]
    },
    {
     "name": "stdout",
     "output_type": "stream",
     "text": [
      "Test: [  0/196]\tTime  3.240 ( 3.240)\tLoss 2.7291e+00 (2.7291e+00)\tAcc@1  38.67 ( 38.67)\tAcc@5  73.44 ( 73.44)\n"
     ]
    },
    {
     "name": "stdout",
     "output_type": "stream",
     "text": [
      "Test: [ 50/196]\tTime  1.656 ( 1.173)\tLoss 3.4507e+00 (3.4355e+00)\tAcc@1  23.05 ( 25.84)\tAcc@5  48.83 ( 52.08)\n"
     ]
    },
    {
     "name": "stdout",
     "output_type": "stream",
     "text": [
      "Test: [100/196]\tTime  2.064 ( 1.161)\tLoss 4.9146e+00 (3.6011e+00)\tAcc@1   9.77 ( 24.50)\tAcc@5  21.48 ( 49.20)\n"
     ]
    },
    {
     "name": "stdout",
     "output_type": "stream",
     "text": [
      "Test: [150/196]\tTime  1.899 ( 1.181)\tLoss 4.5324e+00 (3.7452e+00)\tAcc@1  16.41 ( 23.11)\tAcc@5  31.64 ( 46.54)\n"
     ]
    },
    {
     "name": "stdout",
     "output_type": "stream",
     "text": [
      " * Acc@1 23.008 Acc@5 46.276\n"
     ]
    },
    {
     "name": "stdout",
     "output_type": "stream",
     "text": [
      "lr: [0.001]\n"
     ]
    }
   ],
   "source": [
    "#Initiating weights and biases\n",
    "wandb.watch(model)\n",
    "\n",
    "for epoch in range(START_EPOCH, EPOCHS):\n",
    "    #adjust_learning_rate(optimizer, epoch)\n",
    "    \n",
    "    # train for one epoch\n",
    "    train(train_loader, model, criterion, optimizer, epoch)\n",
    "\n",
    "    # evaluate on validation set\n",
    "    acc1 = validate(val_loader, model, criterion)\n",
    "\n",
    "    # remember best acc@1 and save checkpoint\n",
    "    is_best = acc1 > best_acc1\n",
    "    best_acc1 = max(acc1, best_acc1)\n",
    "\n",
    "\n",
    "    save_checkpoint({\n",
    "        'epoch': epoch + 1,\n",
    "        'arch': ARCH,\n",
    "        'state_dict': model.state_dict(),\n",
    "        'best_acc1': best_acc1,\n",
    "        'optimizer' : optimizer.state_dict(),\n",
    "    }, is_best)\n",
    "    \n",
    "    scheduler.step(acc1)\n",
    "    \n",
    "    print('lr: ' + str(scheduler.get_last_lr()))"
   ]
  }
 ],
 "metadata": {
  "kernelspec": {
   "display_name": "Python 3 (ipykernel)",
   "language": "python",
   "name": "python3"
  },
  "language_info": {
   "codemirror_mode": {
    "name": "ipython",
    "version": 3
   },
   "file_extension": ".py",
   "mimetype": "text/x-python",
   "name": "python",
   "nbconvert_exporter": "python",
   "pygments_lexer": "ipython3",
   "version": "3.8.10"
  },
  "papermill": {
   "default_parameters": {},
   "duration": 11814.898219,
   "end_time": "2021-10-22T19:47:08.303012",
   "environment_variables": {},
   "exception": null,
   "input_path": "/data/Homework9/Homework9 Second Machine.ipynb",
   "output_path": "/data/Homework9/Homework9 Second Machine Final.ipynb",
   "parameters": {},
   "start_time": "2021-10-22T16:30:13.404793",
   "version": "2.3.3"
  }
 },
 "nbformat": 4,
 "nbformat_minor": 5
}